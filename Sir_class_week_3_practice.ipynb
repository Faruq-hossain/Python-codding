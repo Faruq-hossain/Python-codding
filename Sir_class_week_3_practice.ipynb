{
  "nbformat": 4,
  "nbformat_minor": 0,
  "metadata": {
    "colab": {
      "name": "Sir class week 3 practice.ipynb",
      "provenance": [],
      "collapsed_sections": [],
      "authorship_tag": "ABX9TyPuWff5HfoCGWCAvLhGtZnF",
      "include_colab_link": true
    },
    "kernelspec": {
      "name": "python3",
      "display_name": "Python 3"
    }
  },
  "cells": [
    {
      "cell_type": "markdown",
      "metadata": {
        "id": "view-in-github",
        "colab_type": "text"
      },
      "source": [
        "<a href=\"https://colab.research.google.com/github/Faruq-hossain/Python-codding/blob/master/Sir_class_week_3_practice.ipynb\" target=\"_parent\"><img src=\"https://colab.research.google.com/assets/colab-badge.svg\" alt=\"Open In Colab\"/></a>"
      ]
    },
    {
      "cell_type": "markdown",
      "metadata": {
        "id": "Uch26CTy7D__"
      },
      "source": [
        "**Built in function all**\n",
        "\n",
        "---\n",
        "\n"
      ]
    },
    {
      "cell_type": "code",
      "metadata": {
        "id": "CHkj01Gcassj",
        "colab": {
          "base_uri": "https://localhost:8080/",
          "height": 140
        },
        "outputId": "ac9b24be-1041-4070-fe80-7875a334dc26"
      },
      "source": [
        "print(\"Hi, I am semi-colon. Do you miss me?\")\n",
        "print(\"Let me know if you miss me or not. \")\n",
        "s=input()\n",
        "a=10\n",
        "b=21\n",
        "print(max(a,b))\n",
        "print(min(a,b))\n",
        "\n",
        "c=10.4\n",
        "d=int(c)\n",
        "print(d)\n",
        "\n",
        "e=\"python\"\n",
        "print(type(e))"
      ],
      "execution_count": null,
      "outputs": [
        {
          "output_type": "stream",
          "text": [
            "Hi, I am semi-colon. Do you miss me?\n",
            "Let me know if you miss me or not. \n",
            "yes\n",
            "21\n",
            "10\n",
            "10\n",
            "<class 'str'>\n"
          ],
          "name": "stdout"
        }
      ]
    },
    {
      "cell_type": "markdown",
      "metadata": {
        "id": "Z_hleZFXBagE"
      },
      "source": [
        "**User define function**\n",
        "\n",
        "---\n",
        "\n"
      ]
    },
    {
      "cell_type": "markdown",
      "metadata": {
        "id": "AvrhBPNAL_Ej"
      },
      "source": [
        "function return the value"
      ]
    },
    {
      "cell_type": "code",
      "metadata": {
        "id": "SipE_AVXBeZq",
        "colab": {
          "base_uri": "https://localhost:8080/",
          "height": 70
        },
        "outputId": "349dc6cb-7638-48a6-ed21-bf2baa1c58fd"
      },
      "source": [
        "def add(a,b):\n",
        "    c=a+b\n",
        "    return c\n",
        "\n",
        "a=int(input(\"Enter a number: \"))\n",
        "b=int(input(\"Enter a number: \"))\n",
        "d=add(a,b)\n",
        "print(\"The sum is\", d)"
      ],
      "execution_count": null,
      "outputs": [
        {
          "output_type": "stream",
          "text": [
            "Enter a number: 10\n",
            "Enter a number: 56\n",
            "The sum is 66\n"
          ],
          "name": "stdout"
        }
      ]
    },
    {
      "cell_type": "code",
      "metadata": {
        "colab": {
          "base_uri": "https://localhost:8080/"
        },
        "id": "xnZEGvLbMdeg",
        "outputId": "329bdc14-9da6-4e3f-cfae-f1c726187e1b"
      },
      "source": [
        "def sum():\n",
        "  a=3+8\n",
        "  return a\n",
        "b=sum()\n",
        "print(b)\n",
        "    "
      ],
      "execution_count": 23,
      "outputs": [
        {
          "output_type": "stream",
          "text": [
            "11\n"
          ],
          "name": "stdout"
        }
      ]
    },
    {
      "cell_type": "markdown",
      "metadata": {
        "id": "OOvBmH28OEzB"
      },
      "source": [
        "**Function with Different Parameters**\n",
        "\n",
        "---\n",
        "\n"
      ]
    },
    {
      "cell_type": "markdown",
      "metadata": {
        "id": "8H56MKsWOW5w"
      },
      "source": [
        "Multiple parameters"
      ]
    },
    {
      "cell_type": "code",
      "metadata": {
        "colab": {
          "base_uri": "https://localhost:8080/"
        },
        "id": "B5cyWyjuOEex",
        "outputId": "44096e36-9858-44bb-8c19-50d99692f82b"
      },
      "source": [
        "def divisor(x,y,m):\n",
        "  if x%m==0 and y%m==0:\n",
        "    print(\"%d & %d are divisible by %d\"%(x,y,m))\n",
        "  elif x%m==0:\n",
        "    print(\"only %d are divisible by %d\"%(x,m))\n",
        "  elif y%m==0:\n",
        "    print(\"only %d are divisible by %d\"%(y,m))\n",
        "  else:\n",
        "    print(\"none of %d & %d are divisible by %d\"%(x,y,m))\n",
        "divisor(10,20,5)\n",
        "divisor(12,20,5)\n",
        "divisor(10,22,5)\n",
        "divisor(2,5,3)\n"
      ],
      "execution_count": 20,
      "outputs": [
        {
          "output_type": "stream",
          "text": [
            "10 & 20 are divisible by 5\n",
            "only 20 are divisible by 5\n",
            "only 10 are divisible by 5\n",
            "none of 2 & 5 are divisible by 3\n"
          ],
          "name": "stdout"
        }
      ]
    },
    {
      "cell_type": "code",
      "metadata": {
        "colab": {
          "base_uri": "https://localhost:8080/"
        },
        "id": "FCg_hoA-YVkS",
        "outputId": "d88e50dd-22ac-48dc-f208-228affde706e"
      },
      "source": [
        "def function_multi_params(a,b,c):\n",
        "  return a+b/c\n",
        "\n",
        "print(function_multi_params(3,4,5))"
      ],
      "execution_count": 35,
      "outputs": [
        {
          "output_type": "stream",
          "text": [
            "3.8\n"
          ],
          "name": "stdout"
        }
      ]
    },
    {
      "cell_type": "code",
      "metadata": {
        "colab": {
          "base_uri": "https://localhost:8080/"
        },
        "id": "fGbiG54BesUw",
        "outputId": "4b0c6956-640e-4728-9e6d-ab855596936e"
      },
      "source": [
        "def function_multi_params(a,b,c):\n",
        "  if c>0:\n",
        "   return a+b/c\n",
        "  else:\n",
        "    return a+b\n",
        "\n",
        "print(function_multi_params(3,4,10))"
      ],
      "execution_count": 43,
      "outputs": [
        {
          "output_type": "stream",
          "text": [
            "3.4\n"
          ],
          "name": "stdout"
        }
      ]
    },
    {
      "cell_type": "code",
      "metadata": {
        "colab": {
          "base_uri": "https://localhost:8080/"
        },
        "id": "izpDQEb_geAo",
        "outputId": "245db5bd-d757-4075-8e5b-9ab75c724082"
      },
      "source": [
        "def function_multi_params(a,b,c):\n",
        "  if c>0:\n",
        "   return (a+b)/c\n",
        "  else:\n",
        "    return a+b\n",
        "\n",
        "print(function_multi_params(3,4,10))"
      ],
      "execution_count": 44,
      "outputs": [
        {
          "output_type": "stream",
          "text": [
            "0.7\n"
          ],
          "name": "stdout"
        }
      ]
    },
    {
      "cell_type": "code",
      "metadata": {
        "colab": {
          "base_uri": "https://localhost:8080/"
        },
        "id": "sSLXjvs_hV-r",
        "outputId": "2d7bec40-4181-4adc-a93d-664dbdd04c50"
      },
      "source": [
        "def list(*food):\n",
        "  print(food)\n",
        "list('apples','banana','orrange')\n"
      ],
      "execution_count": 51,
      "outputs": [
        {
          "output_type": "stream",
          "text": [
            "('apples', 'banana', 'orrange')\n"
          ],
          "name": "stdout"
        }
      ]
    },
    {
      "cell_type": "code",
      "metadata": {
        "colab": {
          "base_uri": "https://localhost:8080/"
        },
        "id": "aAccxpWtIXRr",
        "outputId": "162bdb38-1ac2-4e1a-9e21-b6392f97019d"
      },
      "source": [
        "def profile(name,*age):\n",
        "  print(name)\n",
        "  print(age)\n",
        "profile('Faruq',20,21,22,23,24)"
      ],
      "execution_count": 2,
      "outputs": [
        {
          "output_type": "stream",
          "text": [
            "Faruq\n",
            "(20, 21, 22, 23, 24)\n"
          ],
          "name": "stdout"
        }
      ]
    },
    {
      "cell_type": "markdown",
      "metadata": {
        "id": "rW1nlnxHI0sn"
      },
      "source": [
        "Default parameter"
      ]
    },
    {
      "cell_type": "code",
      "metadata": {
        "colab": {
          "base_uri": "https://localhost:8080/"
        },
        "id": "_rnV3MSQI3on",
        "outputId": "780bda47-3a88-4594-b192-3d86f1a9fb50"
      },
      "source": [
        "def default(a,b=10):\n",
        "  print(a,\"-\",b)\n",
        "default(2,5)"
      ],
      "execution_count": 3,
      "outputs": [
        {
          "output_type": "stream",
          "text": [
            "2 - 5\n"
          ],
          "name": "stdout"
        }
      ]
    },
    {
      "cell_type": "markdown",
      "metadata": {
        "id": "49gcopJRJgvl"
      },
      "source": [
        "here happybirthday set of default "
      ]
    },
    {
      "cell_type": "code",
      "metadata": {
        "colab": {
          "base_uri": "https://localhost:8080/"
        },
        "id": "rLbfUiqvJImY",
        "outputId": "7ebcceff-fb86-496c-e92a-28d7995b7074"
      },
      "source": [
        "def wishCard(name,wish=\"Happy Birthday to you\"):\n",
        "  print(wish,name)\n",
        "wishCard(\"Faruq\")"
      ],
      "execution_count": 5,
      "outputs": [
        {
          "output_type": "stream",
          "text": [
            "Happy Birthday to you Faruq\n"
          ],
          "name": "stdout"
        }
      ]
    },
    {
      "cell_type": "markdown",
      "metadata": {
        "id": "HXP2M8kZJ7iW"
      },
      "source": [
        "new default value is declear here."
      ]
    },
    {
      "cell_type": "code",
      "metadata": {
        "colab": {
          "base_uri": "https://localhost:8080/"
        },
        "id": "MBZDOrFTJyGA",
        "outputId": "185db35a-df15-4b8e-fe94-7c23949adbfe"
      },
      "source": [
        "def wishCard(name,wish=\"Happy Birthday to you\"):\n",
        "  print(wish,name)\n",
        "wishCard(\"Faruq\",\"Happy Birthday\")"
      ],
      "execution_count": 6,
      "outputs": [
        {
          "output_type": "stream",
          "text": [
            "Happy Birthday Faruq\n"
          ],
          "name": "stdout"
        }
      ]
    },
    {
      "cell_type": "markdown",
      "metadata": {
        "id": "jmBTtkuJKNS2"
      },
      "source": [
        "**Global Vriable and local variable**\n",
        "\n",
        "---\n",
        "\n"
      ]
    },
    {
      "cell_type": "code",
      "metadata": {
        "colab": {
          "base_uri": "https://localhost:8080/"
        },
        "id": "Ne-IcNqsKQLR",
        "outputId": "dcbfa605-f617-495a-9937-8d048464e045"
      },
      "source": [
        "var = 10\n",
        "def globalfunction():\n",
        "  print(var)\n",
        "globalfunction()"
      ],
      "execution_count": 8,
      "outputs": [
        {
          "output_type": "stream",
          "text": [
            "10\n"
          ],
          "name": "stdout"
        }
      ]
    },
    {
      "cell_type": "markdown",
      "metadata": {
        "id": "jX8EX3gDKoIO"
      },
      "source": [
        "var is arrithmetic operator\n"
      ]
    },
    {
      "cell_type": "code",
      "metadata": {
        "colab": {
          "base_uri": "https://localhost:8080/"
        },
        "id": "Og8h-z0CLzev",
        "outputId": "2790f60d-d405-426b-a607-28648ab789f1"
      },
      "source": [
        "var = 10\n",
        "def globalfunction():\n",
        "  print(var+1)\n",
        "globalfunction()"
      ],
      "execution_count": 9,
      "outputs": [
        {
          "output_type": "stream",
          "text": [
            "11\n"
          ],
          "name": "stdout"
        }
      ]
    },
    {
      "cell_type": "markdown",
      "metadata": {
        "id": "_pPFtgQTL4dn"
      },
      "source": [
        "can i modify this var its wrong"
      ]
    },
    {
      "cell_type": "code",
      "metadata": {
        "colab": {
          "base_uri": "https://localhost:8080/",
          "height": 329
        },
        "id": "w5jGfGEXL--w",
        "outputId": "91872e03-01d7-46b7-95f1-885acf29220f"
      },
      "source": [
        "var = 10\n",
        "def globalfunction():\n",
        "  var = var+1\n",
        "  print(var)\n",
        "globalfunction()"
      ],
      "execution_count": 10,
      "outputs": [
        {
          "output_type": "error",
          "ename": "UnboundLocalError",
          "evalue": "ignored",
          "traceback": [
            "\u001b[0;31m---------------------------------------------------------------------------\u001b[0m",
            "\u001b[0;31mUnboundLocalError\u001b[0m                         Traceback (most recent call last)",
            "\u001b[0;32m<ipython-input-10-c634499d5194>\u001b[0m in \u001b[0;36m<module>\u001b[0;34m()\u001b[0m\n\u001b[1;32m      3\u001b[0m   \u001b[0mvar\u001b[0m \u001b[0;34m=\u001b[0m \u001b[0mvar\u001b[0m\u001b[0;34m+\u001b[0m\u001b[0;36m1\u001b[0m\u001b[0;34m\u001b[0m\u001b[0;34m\u001b[0m\u001b[0m\n\u001b[1;32m      4\u001b[0m   \u001b[0mprint\u001b[0m\u001b[0;34m(\u001b[0m\u001b[0mvar\u001b[0m\u001b[0;34m)\u001b[0m\u001b[0;34m\u001b[0m\u001b[0;34m\u001b[0m\u001b[0m\n\u001b[0;32m----> 5\u001b[0;31m \u001b[0mglobalfunction\u001b[0m\u001b[0;34m(\u001b[0m\u001b[0;34m)\u001b[0m\u001b[0;34m\u001b[0m\u001b[0;34m\u001b[0m\u001b[0m\n\u001b[0m",
            "\u001b[0;32m<ipython-input-10-c634499d5194>\u001b[0m in \u001b[0;36mglobalfunction\u001b[0;34m()\u001b[0m\n\u001b[1;32m      1\u001b[0m \u001b[0mvar\u001b[0m \u001b[0;34m=\u001b[0m \u001b[0;36m10\u001b[0m\u001b[0;34m\u001b[0m\u001b[0;34m\u001b[0m\u001b[0m\n\u001b[1;32m      2\u001b[0m \u001b[0;32mdef\u001b[0m \u001b[0mglobalfunction\u001b[0m\u001b[0;34m(\u001b[0m\u001b[0;34m)\u001b[0m\u001b[0;34m:\u001b[0m\u001b[0;34m\u001b[0m\u001b[0;34m\u001b[0m\u001b[0m\n\u001b[0;32m----> 3\u001b[0;31m   \u001b[0mvar\u001b[0m \u001b[0;34m=\u001b[0m \u001b[0mvar\u001b[0m\u001b[0;34m+\u001b[0m\u001b[0;36m1\u001b[0m\u001b[0;34m\u001b[0m\u001b[0;34m\u001b[0m\u001b[0m\n\u001b[0m\u001b[1;32m      4\u001b[0m   \u001b[0mprint\u001b[0m\u001b[0;34m(\u001b[0m\u001b[0mvar\u001b[0m\u001b[0;34m)\u001b[0m\u001b[0;34m\u001b[0m\u001b[0;34m\u001b[0m\u001b[0m\n\u001b[1;32m      5\u001b[0m \u001b[0mglobalfunction\u001b[0m\u001b[0;34m(\u001b[0m\u001b[0;34m)\u001b[0m\u001b[0;34m\u001b[0m\u001b[0;34m\u001b[0m\u001b[0m\n",
            "\u001b[0;31mUnboundLocalError\u001b[0m: local variable 'var' referenced before assignment"
          ]
        }
      ]
    },
    {
      "cell_type": "markdown",
      "metadata": {
        "id": "K3Gqu5KyMPGI"
      },
      "source": [
        "Can i modify var i declear the global variable because this inner name is local and outer name is global variable .so can i include in function global variable and another global variable input in the same function then 1st i assign the innitial variable its does not catch up this variable so its very defecult in this program so do not permit the local variable is called global variable.\n",
        "\n",
        "so any how i need modify the program is global variable then i can use this processis"
      ]
    },
    {
      "cell_type": "code",
      "metadata": {
        "colab": {
          "base_uri": "https://localhost:8080/"
        },
        "id": "HB3OvveuMOWg",
        "outputId": "c0eb6bff-9b94-4cbb-ea14-3e7ab3a8e2fc"
      },
      "source": [
        "var = 10\n",
        "def globalfunction():\n",
        "  global var\n",
        "  var = var + 1\n",
        "  print(var)\n",
        "globalfunction()"
      ],
      "execution_count": 11,
      "outputs": [
        {
          "output_type": "stream",
          "text": [
            "11\n"
          ],
          "name": "stdout"
        }
      ]
    },
    {
      "cell_type": "markdown",
      "metadata": {
        "id": "DdmncgT5N1mT"
      },
      "source": [
        "good practice is can i create a local variable 1st then its local ue can use modyfy, edit anoder prosecc ue can use here"
      ]
    },
    {
      "cell_type": "code",
      "metadata": {
        "colab": {
          "base_uri": "https://localhost:8080/"
        },
        "id": "TzCZ4stqOO6n",
        "outputId": "62066ac4-1474-401b-8519-cfa04465d0d9"
      },
      "source": [
        "var = 10\n",
        "def globalfunction():\n",
        "  loc = var\n",
        "  loc = loc + 1\n",
        "  print(var)\n",
        "globalfunction()"
      ],
      "execution_count": 12,
      "outputs": [
        {
          "output_type": "stream",
          "text": [
            "10\n"
          ],
          "name": "stdout"
        }
      ]
    },
    {
      "cell_type": "markdown",
      "metadata": {
        "id": "RHXX0bNmRKCo"
      },
      "source": [
        "Without Parameter"
      ]
    },
    {
      "cell_type": "code",
      "metadata": {
        "colab": {
          "base_uri": "https://localhost:8080/"
        },
        "id": "yEEeKYOYRPZH",
        "outputId": "9d1a9af2-4b54-4c7b-abc4-a7b615db4a20"
      },
      "source": [
        "def sum():\n",
        "  a=3+8\n",
        "  return a\n",
        "b=sum()\n",
        "print(b)"
      ],
      "execution_count": 22,
      "outputs": [
        {
          "output_type": "stream",
          "text": [
            "11\n"
          ],
          "name": "stdout"
        }
      ]
    },
    {
      "cell_type": "code",
      "metadata": {
        "colab": {
          "base_uri": "https://localhost:8080/"
        },
        "id": "44fxYEWjS_3v",
        "outputId": "1699f99b-9165-4a39-ba4a-b7a799b5d100"
      },
      "source": [
        "def sum(a,b,c):\n",
        "  sum= a+b+c\n",
        "  return sum\n",
        "\n",
        "a=int(input(\"Enter a number: \"))\n",
        "b=int(input(\"Enter a number: \"))\n",
        "c=int(input(\"Enter a number: \"))\n",
        "d=sum(a,b,c)\n",
        "print(\"The sum is\", d)\n"
      ],
      "execution_count": 31,
      "outputs": [
        {
          "output_type": "stream",
          "text": [
            "Enter a number: 5\n",
            "Enter a number: 7\n",
            "Enter a number: 6\n",
            "The sum is 18\n"
          ],
          "name": "stdout"
        }
      ]
    },
    {
      "cell_type": "code",
      "metadata": {
        "colab": {
          "base_uri": "https://localhost:8080/"
        },
        "id": "MCjMkehfSUcL",
        "outputId": "b3c3dabc-cfdb-4b69-8a56-e5643c7e1a94"
      },
      "source": [
        "def sum(a,b,c):\n",
        "  sum= a+b+c\n",
        "  print(sum)\n",
        "sum(4,5,6)"
      ],
      "execution_count": 27,
      "outputs": [
        {
          "output_type": "stream",
          "text": [
            "15\n"
          ],
          "name": "stdout"
        }
      ]
    }
  ]
}