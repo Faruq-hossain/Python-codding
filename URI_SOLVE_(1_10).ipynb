{
  "nbformat": 4,
  "nbformat_minor": 0,
  "metadata": {
    "colab": {
      "name": "URI SOLVE (1-10).ipynb",
      "provenance": [],
      "collapsed_sections": [],
      "authorship_tag": "ABX9TyPP0MTsV3kFN4YwQb6bAesd",
      "include_colab_link": true
    },
    "kernelspec": {
      "name": "python3",
      "display_name": "Python 3"
    }
  },
  "cells": [
    {
      "cell_type": "markdown",
      "metadata": {
        "id": "view-in-github",
        "colab_type": "text"
      },
      "source": [
        "<a href=\"https://colab.research.google.com/github/Faruq-hossain/Python-codding/blob/master/URI_SOLVE_(1_10).ipynb\" target=\"_parent\"><img src=\"https://colab.research.google.com/assets/colab-badge.svg\" alt=\"Open In Colab\"/></a>"
      ]
    },
    {
      "cell_type": "markdown",
      "metadata": {
        "id": "E53shKztHEJQ"
      },
      "source": [
        "# **Extremely Basic 1001 URI**\n",
        "\n",
        "---\n",
        "\n"
      ]
    },
    {
      "cell_type": "code",
      "metadata": {
        "id": "WnXL8nbo1dUy",
        "outputId": "ea2138b4-7957-425a-933a-70e1e8373a97",
        "colab": {
          "base_uri": "https://localhost:8080/",
          "height": 70
        }
      },
      "source": [
        "A = int(input())\n",
        "B = int(input())\n",
        "X=A+B\n",
        "print(\"X = %i\"%X)"
      ],
      "execution_count": null,
      "outputs": [
        {
          "output_type": "stream",
          "text": [
            "10\n",
            "9\n",
            "X = 19\n"
          ],
          "name": "stdout"
        }
      ]
    },
    {
      "cell_type": "markdown",
      "metadata": {
        "id": "wazab3BQHKpN"
      },
      "source": [
        "# **Area of a Circle 1002 URI**\n",
        "\n",
        "---\n",
        "\n"
      ]
    },
    {
      "cell_type": "code",
      "metadata": {
        "id": "6uKppqQb41tV",
        "outputId": "8367e147-8997-477c-c535-38f69e73e56b",
        "colab": {
          "base_uri": "https://localhost:8080/",
          "height": 52
        }
      },
      "source": [
        "R = float(input())\n",
        "n = 3.14159\n",
        "A = n*(R*R)\n",
        "print(\"A = %0.4f\"%A)"
      ],
      "execution_count": null,
      "outputs": [
        {
          "output_type": "stream",
          "text": [
            "2.00\n",
            "A = 12.5664\n"
          ],
          "name": "stdout"
        }
      ]
    },
    {
      "cell_type": "markdown",
      "metadata": {
        "id": "m1doodatKxn_"
      },
      "source": [
        "# **Simple Sum 1003 URI**\n",
        "\n",
        "---\n",
        "\n"
      ]
    },
    {
      "cell_type": "code",
      "metadata": {
        "id": "VhaPmyNSK-4a",
        "outputId": "999f2e3b-9e80-48e7-c89c-73ceae582223",
        "colab": {
          "base_uri": "https://localhost:8080/",
          "height": 70
        }
      },
      "source": [
        "a =int (input())\n",
        "b =int (input())\n",
        "\n",
        "SOMA = a+b\n",
        "\n",
        "print('SOMA =',SOMA)"
      ],
      "execution_count": null,
      "outputs": [
        {
          "output_type": "stream",
          "text": [
            "30\n",
            "10\n",
            "SOMA = 40\n"
          ],
          "name": "stdout"
        }
      ]
    },
    {
      "cell_type": "markdown",
      "metadata": {
        "id": "VPUK_Jh3SA44"
      },
      "source": [
        "# **Simple Product 1004 URI**\n",
        "\n",
        "---\n",
        "\n"
      ]
    },
    {
      "cell_type": "code",
      "metadata": {
        "id": "4fmKj6yASJE9",
        "outputId": "79b49ef9-0bd6-4e30-a095-5afa58dc7833",
        "colab": {
          "base_uri": "https://localhost:8080/",
          "height": 70
        }
      },
      "source": [
        "a = int(input())\n",
        "b = int(input())\n",
        "prod = a*b\n",
        "\n",
        "print('PROD =',prod)"
      ],
      "execution_count": null,
      "outputs": [
        {
          "output_type": "stream",
          "text": [
            "3\n",
            "9\n",
            "PROD = 27\n"
          ],
          "name": "stdout"
        }
      ]
    },
    {
      "cell_type": "markdown",
      "metadata": {
        "id": "mPF2jJO4S8x1"
      },
      "source": [
        "# **Average 1 1005 URI**\n",
        "\n",
        "---\n",
        "\n"
      ]
    },
    {
      "cell_type": "code",
      "metadata": {
        "id": "d7PgvIjMTBHU",
        "outputId": "b0824560-d4c3-49c9-af25-02e01d7c2f1e",
        "colab": {
          "base_uri": "https://localhost:8080/",
          "height": 70
        }
      },
      "source": [
        "a = float(input())\n",
        "b = float(input())\n",
        "\n",
        "media = ((a*3.5)+(b*7.5))/11\n",
        "\n",
        "print('MEDIA = %.5f' % media)"
      ],
      "execution_count": null,
      "outputs": [
        {
          "output_type": "stream",
          "text": [
            "5.0\n",
            "7.1\n",
            "MEDIA = 6.43182\n"
          ],
          "name": "stdout"
        }
      ]
    },
    {
      "cell_type": "markdown",
      "metadata": {
        "id": "6jAZ36KzUdwP"
      },
      "source": [
        "# **Average 2 1006 URI**\n",
        "\n",
        "---\n",
        "\n"
      ]
    },
    {
      "cell_type": "code",
      "metadata": {
        "id": "klw_DmYJUkU0",
        "outputId": "ae996345-f14e-4d50-ee3d-43a6bfd178ca",
        "colab": {
          "base_uri": "https://localhost:8080/",
          "height": 87
        }
      },
      "source": [
        "a = float (input())\n",
        "b = float (input())\n",
        "c = float (input())\n",
        "\n",
        "meida = ((a*2)+(b*3)+(c*5))/(2+3+5)\n",
        "\n",
        "print('MEDIA = %.1f' % media)"
      ],
      "execution_count": null,
      "outputs": [
        {
          "output_type": "stream",
          "text": [
            "5.0\n",
            "6.0\n",
            "7.0\n",
            "MEDIA = 6.4\n"
          ],
          "name": "stdout"
        }
      ]
    },
    {
      "cell_type": "markdown",
      "metadata": {
        "id": "8XyPQNfQHq7W"
      },
      "source": [
        "# **Difference 1007 URI**\n",
        "\n",
        "---\n",
        "\n"
      ]
    },
    {
      "cell_type": "code",
      "metadata": {
        "id": "BgsbWRGaBwVX",
        "outputId": "cd487770-d999-48d4-cfb5-32f786863de6",
        "colab": {
          "base_uri": "https://localhost:8080/",
          "height": 105
        }
      },
      "source": [
        "A = int(input())\n",
        "B = int(input())\n",
        "C = int(input())\n",
        "D = int(input())\n",
        "\n",
        "DIFERENCA = ((A*B)-(C*D))\n",
        "print(\"DIFERENCA = %d\" %DIFERENCA)"
      ],
      "execution_count": null,
      "outputs": [
        {
          "output_type": "stream",
          "text": [
            "5\n",
            "6\n",
            "7\n",
            "8\n",
            "DIFERENCA = -26\n"
          ],
          "name": "stdout"
        }
      ]
    },
    {
      "cell_type": "markdown",
      "metadata": {
        "id": "j2wM_iYKWBfm"
      },
      "source": [
        "# **Salary 1008 URI**\n",
        "\n",
        "---\n",
        "\n"
      ]
    },
    {
      "cell_type": "code",
      "metadata": {
        "id": "tpGUdzZXWHGk",
        "outputId": "665c4930-76c8-4ca0-998c-6e8dc4665715",
        "colab": {
          "base_uri": "https://localhost:8080/",
          "height": 105
        }
      },
      "source": [
        "a = int(input())\n",
        "b = int(input())\n",
        "c = float(input())\n",
        "\n",
        "salary = b*c\n",
        "\n",
        "print(\"NUMBER = %i\"%a)\n",
        "print(\"SALARY = U$ %.2f\"%salary)"
      ],
      "execution_count": null,
      "outputs": [
        {
          "output_type": "stream",
          "text": [
            "25\n",
            "100\n",
            "5.50\n",
            "NUMBER = 25\n",
            "SALARY = U$ 550.00\n"
          ],
          "name": "stdout"
        }
      ]
    },
    {
      "cell_type": "markdown",
      "metadata": {
        "id": "Vo19CL8KYgU5"
      },
      "source": [
        "# **Salary with Bonus 1009 URI**\n",
        "\n",
        "---\n",
        "\n"
      ]
    },
    {
      "cell_type": "code",
      "metadata": {
        "id": "56QRsJtMYj-T",
        "outputId": "5e04c85b-d884-4e2f-94f5-7732fb9850a1",
        "colab": {
          "base_uri": "https://localhost:8080/",
          "height": 87
        }
      },
      "source": [
        "a = input()\n",
        "b = float(input())\n",
        "c = float(input())\n",
        "\n",
        "salary = b + (c*0.15)\n",
        "\n",
        "print(\"TOTAL = R$ %.2f\"%salary)"
      ],
      "execution_count": null,
      "outputs": [
        {
          "output_type": "stream",
          "text": [
            "JOAO\n",
            "500.00\n",
            "1230.30\n",
            "TOTAL = R$ 684.54\n"
          ],
          "name": "stdout"
        }
      ]
    },
    {
      "cell_type": "markdown",
      "metadata": {
        "id": "It3U0prkZhop"
      },
      "source": [
        "# **Simple Calculate 1010 URI**\n",
        "\n",
        "---\n",
        "\n"
      ]
    },
    {
      "cell_type": "code",
      "metadata": {
        "id": "L-ngJStbZlXT",
        "outputId": "66140f93-f50a-4488-97ed-03ff6fb91a20",
        "colab": {
          "base_uri": "https://localhost:8080/",
          "height": 70
        }
      },
      "source": [
        "P1_code,P1_unit,P1_price=map(float,input().split())\n",
        "P2_code,P2_unit,P2_price=map(float,input().split())\n",
        "\n",
        "total = (P1_unit*P1_price+(P2_unit*P2_price))\n",
        "\n",
        "print(\"VALOR A PAGAR: R$ %.2f\"%total)"
      ],
      "execution_count": null,
      "outputs": [
        {
          "output_type": "stream",
          "text": [
            "12 1 5.30\n",
            "16 2 5.10\n",
            "VALOR A PAGAR: R$ 15.50\n"
          ],
          "name": "stdout"
        }
      ]
    },
    {
      "cell_type": "markdown",
      "metadata": {
        "id": "cqVfzvqIHViW"
      },
      "source": [
        "# **Age in Days 1020 URI**\n",
        "\n",
        "---\n",
        "\n"
      ]
    },
    {
      "cell_type": "code",
      "metadata": {
        "id": "vreDRhxQHziM",
        "outputId": "c1fe2182-8d9c-4bdd-839f-22c5d72df528",
        "colab": {
          "base_uri": "https://localhost:8080/",
          "height": 87
        }
      },
      "source": [
        "idade = int (input())\n",
        "\n",
        "anos = int (idade/365)\n",
        "saldo = idade - (anos*365)\n",
        "\n",
        "meses = int(saldo/30)\n",
        "dias = saldo - (meses*30)\n",
        "\n",
        "print(anos, \"ano(s)\")\n",
        "print(meses, \"mes(es)\")\n",
        "print(dias, \"dia(s)\")\n"
      ],
      "execution_count": null,
      "outputs": [
        {
          "output_type": "stream",
          "text": [
            "400\n",
            "1 ano(s)\n",
            "1 mes(es)\n",
            "5 dia(s)\n"
          ],
          "name": "stdout"
        }
      ]
    }
  ]
}