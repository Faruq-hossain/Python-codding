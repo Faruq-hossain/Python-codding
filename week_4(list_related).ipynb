{
  "nbformat": 4,
  "nbformat_minor": 0,
  "metadata": {
    "colab": {
      "name": "week 4(list related).ipynb",
      "provenance": [],
      "collapsed_sections": [],
      "authorship_tag": "ABX9TyPWDVDmV9O5EJmbk8VhIpEI",
      "include_colab_link": true
    },
    "kernelspec": {
      "name": "python3",
      "display_name": "Python 3"
    }
  },
  "cells": [
    {
      "cell_type": "markdown",
      "metadata": {
        "id": "view-in-github",
        "colab_type": "text"
      },
      "source": [
        "<a href=\"https://colab.research.google.com/github/Faruq-hossain/Python-codding/blob/master/week_4(list_related).ipynb\" target=\"_parent\"><img src=\"https://colab.research.google.com/assets/colab-badge.svg\" alt=\"Open In Colab\"/></a>"
      ]
    },
    {
      "cell_type": "markdown",
      "metadata": {
        "id": "6Rinm1ngDoxh"
      },
      "source": [
        "**Creating List**\n",
        "\n",
        "---\n",
        "\n"
      ]
    },
    {
      "cell_type": "code",
      "metadata": {
        "id": "5Pq57fRK2c75",
        "outputId": "e73c1b33-e4a7-4349-d873-3dc869762a1b",
        "colab": {
          "base_uri": "https://localhost:8080/",
          "height": 52
        }
      },
      "source": [
        "lst0=[1,2,3,32,2.23,43.23,\"python\",[2,32,3]]\n",
        "print(lst0)\n",
        "lst1=[]\n",
        "print(lst1)\n",
        "\n"
      ],
      "execution_count": 16,
      "outputs": [
        {
          "output_type": "stream",
          "text": [
            "[1, 2, 3, 32, 2.23, 43.23, 'python', [2, 32, 3]]\n",
            "[]\n"
          ],
          "name": "stdout"
        }
      ]
    },
    {
      "cell_type": "markdown",
      "metadata": {
        "id": "GH-fAQLZGZUH"
      },
      "source": [
        "**iterating list**\n",
        "\n",
        "---\n",
        "\n"
      ]
    },
    {
      "cell_type": "code",
      "metadata": {
        "id": "f6W756n2GhL3",
        "outputId": "b06d8fe7-710d-4098-d429-94f40e365971",
        "colab": {
          "base_uri": "https://localhost:8080/",
          "height": 158
        }
      },
      "source": [
        "lst0=[1,2,3,32,2.23,43.23,\"python\",[2,32,3]]\n",
        "for i in lst0:\n",
        "  print(i,end='')\n",
        "  print('')"
      ],
      "execution_count": 18,
      "outputs": [
        {
          "output_type": "stream",
          "text": [
            "1\n",
            "2\n",
            "3\n",
            "32\n",
            "2.23\n",
            "43.23\n",
            "python\n",
            "[2, 32, 3]\n"
          ],
          "name": "stdout"
        }
      ]
    },
    {
      "cell_type": "code",
      "metadata": {
        "id": "ZWUF11jKHKFA",
        "outputId": "bc0333b7-e3b6-4415-c325-f9e06fe16726",
        "colab": {
          "base_uri": "https://localhost:8080/",
          "height": 255
        }
      },
      "source": [
        "lst0=[1,2,3,32,2.23,43.23,\"python\",[2,32,3]]\n",
        "print(lst0[2])\n",
        "print(lst0[6])\n",
        "print(lst0[-2])\n",
        "print(lst0[-10])"
      ],
      "execution_count": 19,
      "outputs": [
        {
          "output_type": "stream",
          "text": [
            "3\n",
            "python\n",
            "python\n"
          ],
          "name": "stdout"
        },
        {
          "output_type": "error",
          "ename": "IndexError",
          "evalue": "ignored",
          "traceback": [
            "\u001b[0;31m---------------------------------------------------------------------------\u001b[0m",
            "\u001b[0;31mIndexError\u001b[0m                                Traceback (most recent call last)",
            "\u001b[0;32m<ipython-input-19-34078428d2ff>\u001b[0m in \u001b[0;36m<module>\u001b[0;34m()\u001b[0m\n\u001b[1;32m      3\u001b[0m \u001b[0mprint\u001b[0m\u001b[0;34m(\u001b[0m\u001b[0mlst0\u001b[0m\u001b[0;34m[\u001b[0m\u001b[0;36m6\u001b[0m\u001b[0;34m]\u001b[0m\u001b[0;34m)\u001b[0m\u001b[0;34m\u001b[0m\u001b[0;34m\u001b[0m\u001b[0m\n\u001b[1;32m      4\u001b[0m \u001b[0mprint\u001b[0m\u001b[0;34m(\u001b[0m\u001b[0mlst0\u001b[0m\u001b[0;34m[\u001b[0m\u001b[0;34m-\u001b[0m\u001b[0;36m2\u001b[0m\u001b[0;34m]\u001b[0m\u001b[0;34m)\u001b[0m\u001b[0;34m\u001b[0m\u001b[0;34m\u001b[0m\u001b[0m\n\u001b[0;32m----> 5\u001b[0;31m \u001b[0mprint\u001b[0m\u001b[0;34m(\u001b[0m\u001b[0mlst0\u001b[0m\u001b[0;34m[\u001b[0m\u001b[0;34m-\u001b[0m\u001b[0;36m10\u001b[0m\u001b[0;34m]\u001b[0m\u001b[0;34m)\u001b[0m\u001b[0;34m\u001b[0m\u001b[0;34m\u001b[0m\u001b[0m\n\u001b[0m",
            "\u001b[0;31mIndexError\u001b[0m: list index out of range"
          ]
        }
      ]
    },
    {
      "cell_type": "markdown",
      "metadata": {
        "id": "kjdtDxstHMqu"
      },
      "source": [
        "**List operations**\n",
        "\n",
        "---\n",
        "\n"
      ]
    },
    {
      "cell_type": "code",
      "metadata": {
        "id": "hEpyTOguHPNH",
        "outputId": "d3fe7326-beb2-4803-91d3-a95de8d13299",
        "colab": {
          "base_uri": "https://localhost:8080/",
          "height": 34
        }
      },
      "source": [
        "lst0=[1,2,3,32,2.23,43.23,\"python\",[2,32,3]]\n",
        "\n",
        "print(len(lst0))                #len( ) gives the length of the list\n",
        "\n"
      ],
      "execution_count": 21,
      "outputs": [
        {
          "output_type": "stream",
          "text": [
            "8\n"
          ],
          "name": "stdout"
        }
      ]
    },
    {
      "cell_type": "code",
      "metadata": {
        "id": "pLIBr02bHnYe",
        "outputId": "55fb86bb-3e35-4788-9687-c308ccefd70e",
        "colab": {
          "base_uri": "https://localhost:8080/",
          "height": 34
        }
      },
      "source": [
        "lst0.append([12,2,12,2])        #append( ) inserts an element to the end of the list\n",
        "print(lst0)"
      ],
      "execution_count": 22,
      "outputs": [
        {
          "output_type": "stream",
          "text": [
            "[1, 2, 3, 32, 2.23, 43.23, 'python', [2, 32, 3], [12, 2, 12, 2]]\n"
          ],
          "name": "stdout"
        }
      ]
    },
    {
      "cell_type": "code",
      "metadata": {
        "id": "emF0sNRRHq1n",
        "outputId": "7e3b16be-e683-4585-c938-9fcc2f13f4c2",
        "colab": {
          "base_uri": "https://localhost:8080/",
          "height": 34
        }
      },
      "source": [
        "lst0.insert(2,\"pandas\")         #insert( ) insertes an element on a given index\n",
        "print(lst0)"
      ],
      "execution_count": 23,
      "outputs": [
        {
          "output_type": "stream",
          "text": [
            "[1, 2, 'pandas', 3, 32, 2.23, 43.23, 'python', [2, 32, 3], [12, 2, 12, 2]]\n"
          ],
          "name": "stdout"
        }
      ]
    },
    {
      "cell_type": "code",
      "metadata": {
        "id": "siC2q33UHwlv",
        "outputId": "8c019930-e14a-43e8-b9aa-4d2582f39ef6",
        "colab": {
          "base_uri": "https://localhost:8080/",
          "height": 34
        }
      },
      "source": [
        "lst0.remove(3)                  #remove( ) removes first occurence of an element\n",
        "print(lst0)"
      ],
      "execution_count": 24,
      "outputs": [
        {
          "output_type": "stream",
          "text": [
            "[1, 2, 'pandas', 32, 2.23, 43.23, 'python', [2, 32, 3], [12, 2, 12, 2]]\n"
          ],
          "name": "stdout"
        }
      ]
    },
    {
      "cell_type": "code",
      "metadata": {
        "id": "9Gz3Y-ppH1HO",
        "outputId": "d62972b7-be27-4b3c-81ac-63684c690d0d",
        "colab": {
          "base_uri": "https://localhost:8080/",
          "height": 34
        }
      },
      "source": [
        "print(lst0.index(\"python\"))     #index( ) returns index of first occurence of an element"
      ],
      "execution_count": 25,
      "outputs": [
        {
          "output_type": "stream",
          "text": [
            "6\n"
          ],
          "name": "stdout"
        }
      ]
    },
    {
      "cell_type": "code",
      "metadata": {
        "id": "viISPsAFH3Bu",
        "outputId": "90254b4b-1497-42af-d362-1288eb48061b",
        "colab": {
          "base_uri": "https://localhost:8080/",
          "height": 34
        }
      },
      "source": [
        "print(lst0.count('pandas'))     #count( ) reuturns the number of occurence of an element\n"
      ],
      "execution_count": 26,
      "outputs": [
        {
          "output_type": "stream",
          "text": [
            "1\n"
          ],
          "name": "stdout"
        }
      ]
    },
    {
      "cell_type": "code",
      "metadata": {
        "id": "7PIk7nBeH4PP",
        "outputId": "20d0e435-f21d-4e58-9ecc-575a173a658f",
        "colab": {
          "base_uri": "https://localhost:8080/",
          "height": 34
        }
      },
      "source": [
        "print(lst0.reverse())           #reverse( ) makes a reverse list\n"
      ],
      "execution_count": 27,
      "outputs": [
        {
          "output_type": "stream",
          "text": [
            "None\n"
          ],
          "name": "stdout"
        }
      ]
    },
    {
      "cell_type": "code",
      "metadata": {
        "id": "_A3ObMKwH7-I",
        "outputId": "7b0e0830-36f6-4b4b-b6ae-d8ed26dcfd17",
        "colab": {
          "base_uri": "https://localhost:8080/",
          "height": 34
        }
      },
      "source": [
        "lst1=lst0.copy()                #copy( ) makes a copy of list\n",
        "print(lst1)"
      ],
      "execution_count": 28,
      "outputs": [
        {
          "output_type": "stream",
          "text": [
            "[[12, 2, 12, 2], [2, 32, 3], 'python', 43.23, 2.23, 32, 'pandas', 2, 1]\n"
          ],
          "name": "stdout"
        }
      ]
    },
    {
      "cell_type": "code",
      "metadata": {
        "id": "0Zw3vCFeH-yP",
        "outputId": "559fce2f-acc3-4a9e-b511-4bf94204afe7",
        "colab": {
          "base_uri": "https://localhost:8080/",
          "height": 34
        }
      },
      "source": [
        "lst0.clear()                    #clear( ) makes the list empty\n",
        "print(lst0)"
      ],
      "execution_count": 29,
      "outputs": [
        {
          "output_type": "stream",
          "text": [
            "[]\n"
          ],
          "name": "stdout"
        }
      ]
    },
    {
      "cell_type": "markdown",
      "metadata": {
        "id": "ERzBdL9hIJ5t"
      },
      "source": [
        "**lsit slicing**\n",
        "\n",
        "---\n",
        "\n"
      ]
    },
    {
      "cell_type": "code",
      "metadata": {
        "id": "K712k-2CINBI",
        "outputId": "46c8894e-da9c-40ac-9220-0bb79135141b",
        "colab": {
          "base_uri": "https://localhost:8080/",
          "height": 87
        }
      },
      "source": [
        "lst0=[1,2,3,32,2.23,43.23,\"python\",[2,32,3]]\n",
        "\n",
        "print(lst0[2:7])\n",
        "print(lst0[2:])\n",
        "print(lst0[:5])\n",
        "print(lst0[:])"
      ],
      "execution_count": 31,
      "outputs": [
        {
          "output_type": "stream",
          "text": [
            "[3, 32, 2.23, 43.23, 'python']\n",
            "[3, 32, 2.23, 43.23, 'python', [2, 32, 3]]\n",
            "[1, 2, 3, 32, 2.23]\n",
            "[1, 2, 3, 32, 2.23, 43.23, 'python', [2, 32, 3]]\n"
          ],
          "name": "stdout"
        }
      ]
    },
    {
      "cell_type": "markdown",
      "metadata": {
        "id": "l6N0KMe2IrQn"
      },
      "source": [
        "**list sorting**\n",
        "\n",
        "---\n",
        "\n"
      ]
    },
    {
      "cell_type": "code",
      "metadata": {
        "id": "z1fgCFUrIqtn",
        "outputId": "87d593d3-23f0-47ba-e283-fb1d96191090",
        "colab": {
          "base_uri": "https://localhost:8080/",
          "height": 70
        }
      },
      "source": [
        "lst2=[1,2,4,2,4,2,4,2,5,6,7,4]\n",
        "\n",
        "lst3=sorted(lst2)\n",
        "print(lst3)\n",
        "print(lst2)\n",
        "lst2.sort()\n",
        "print(lst2)"
      ],
      "execution_count": 32,
      "outputs": [
        {
          "output_type": "stream",
          "text": [
            "[1, 2, 2, 2, 2, 4, 4, 4, 4, 5, 6, 7]\n",
            "[1, 2, 4, 2, 4, 2, 4, 2, 5, 6, 7, 4]\n",
            "[1, 2, 2, 2, 2, 4, 4, 4, 4, 5, 6, 7]\n"
          ],
          "name": "stdout"
        }
      ]
    },
    {
      "cell_type": "markdown",
      "metadata": {
        "id": "H3aDzGegIwbn"
      },
      "source": [
        "**creating tuple**\n",
        "\n",
        "---\n",
        "\n"
      ]
    },
    {
      "cell_type": "code",
      "metadata": {
        "id": "0AMt1-gcIyrO",
        "outputId": "1c1de948-8f72-4b39-c68d-f9d5d9124d82",
        "colab": {
          "base_uri": "https://localhost:8080/",
          "height": 70
        }
      },
      "source": [
        "tp0=(1,2,3,32,2.23,43.23,\"python\",[2,32,3])\n",
        "print(tp0)\n",
        "tp1=()\n",
        "print(tp1)\n",
        "tp2=tuple()\n",
        "print(tp2)"
      ],
      "execution_count": 33,
      "outputs": [
        {
          "output_type": "stream",
          "text": [
            "(1, 2, 3, 32, 2.23, 43.23, 'python', [2, 32, 3])\n",
            "()\n",
            "()\n"
          ],
          "name": "stdout"
        }
      ]
    },
    {
      "cell_type": "markdown",
      "metadata": {
        "id": "ZwAbrmOJI3ef"
      },
      "source": [
        "**iterating tuple**\n",
        "\n",
        "---\n",
        "\n"
      ]
    },
    {
      "cell_type": "code",
      "metadata": {
        "id": "MjTC0E7xI6GO",
        "outputId": "16d2148d-f0a5-4132-db29-5224bd28a009",
        "colab": {
          "base_uri": "https://localhost:8080/",
          "height": 34
        }
      },
      "source": [
        "tp0=(1,2,3,32,2.23,43.23,\"python\",[2,32,3])\n",
        "for i in tp0:\n",
        "    print(i,end=' ')\n",
        "print('')"
      ],
      "execution_count": 34,
      "outputs": [
        {
          "output_type": "stream",
          "text": [
            "1 2 3 32 2.23 43.23 python [2, 32, 3] \n"
          ],
          "name": "stdout"
        }
      ]
    },
    {
      "cell_type": "code",
      "metadata": {
        "id": "yJiZB7psI9Ov",
        "outputId": "a4f24971-ab05-48b0-8a42-f57073547290",
        "colab": {
          "base_uri": "https://localhost:8080/",
          "height": 255
        }
      },
      "source": [
        "tp0=(1,2,3,32,2.23,43.23,\"python\",[2,32,3])\n",
        "print(tp0[2])\n",
        "print(tp0[6])\n",
        "print(tp[-2])\n",
        "print(tp[-10])"
      ],
      "execution_count": 35,
      "outputs": [
        {
          "output_type": "stream",
          "text": [
            "3\n",
            "python\n"
          ],
          "name": "stdout"
        },
        {
          "output_type": "error",
          "ename": "NameError",
          "evalue": "ignored",
          "traceback": [
            "\u001b[0;31m---------------------------------------------------------------------------\u001b[0m",
            "\u001b[0;31mNameError\u001b[0m                                 Traceback (most recent call last)",
            "\u001b[0;32m<ipython-input-35-b465b315a96c>\u001b[0m in \u001b[0;36m<module>\u001b[0;34m()\u001b[0m\n\u001b[1;32m      2\u001b[0m \u001b[0mprint\u001b[0m\u001b[0;34m(\u001b[0m\u001b[0mtp0\u001b[0m\u001b[0;34m[\u001b[0m\u001b[0;36m2\u001b[0m\u001b[0;34m]\u001b[0m\u001b[0;34m)\u001b[0m\u001b[0;34m\u001b[0m\u001b[0;34m\u001b[0m\u001b[0m\n\u001b[1;32m      3\u001b[0m \u001b[0mprint\u001b[0m\u001b[0;34m(\u001b[0m\u001b[0mtp0\u001b[0m\u001b[0;34m[\u001b[0m\u001b[0;36m6\u001b[0m\u001b[0;34m]\u001b[0m\u001b[0;34m)\u001b[0m\u001b[0;34m\u001b[0m\u001b[0;34m\u001b[0m\u001b[0m\n\u001b[0;32m----> 4\u001b[0;31m \u001b[0mprint\u001b[0m\u001b[0;34m(\u001b[0m\u001b[0mtp\u001b[0m\u001b[0;34m[\u001b[0m\u001b[0;34m-\u001b[0m\u001b[0;36m2\u001b[0m\u001b[0;34m]\u001b[0m\u001b[0;34m)\u001b[0m\u001b[0;34m\u001b[0m\u001b[0;34m\u001b[0m\u001b[0m\n\u001b[0m\u001b[1;32m      5\u001b[0m \u001b[0mprint\u001b[0m\u001b[0;34m(\u001b[0m\u001b[0mtp\u001b[0m\u001b[0;34m[\u001b[0m\u001b[0;34m-\u001b[0m\u001b[0;36m10\u001b[0m\u001b[0;34m]\u001b[0m\u001b[0;34m)\u001b[0m\u001b[0;34m\u001b[0m\u001b[0;34m\u001b[0m\u001b[0m\n",
            "\u001b[0;31mNameError\u001b[0m: name 'tp' is not defined"
          ]
        }
      ]
    },
    {
      "cell_type": "markdown",
      "metadata": {
        "id": "wa5sJDbJJBJK"
      },
      "source": [
        "**inserting into tuple**\n",
        "\n",
        "---\n",
        "\n"
      ]
    },
    {
      "cell_type": "code",
      "metadata": {
        "id": "jnDsI5_mJGe_",
        "outputId": "b6e51cdd-0de2-4e97-87d7-bf5ac85e925b",
        "colab": {
          "base_uri": "https://localhost:8080/",
          "height": 34
        }
      },
      "source": [
        "tp0=(1,2,3,32,2.23,43.23,\"python\",[2,32,3])\n",
        "tp0+=(\"pandas\",232,3,232,3)\n",
        "print(tp0)"
      ],
      "execution_count": 36,
      "outputs": [
        {
          "output_type": "stream",
          "text": [
            "(1, 2, 3, 32, 2.23, 43.23, 'python', [2, 32, 3], 'pandas', 232, 3, 232, 3)\n"
          ],
          "name": "stdout"
        }
      ]
    },
    {
      "cell_type": "markdown",
      "metadata": {
        "id": "_Q9VsJRMJK8u"
      },
      "source": [
        "**unpacking sequences**\n",
        "\n",
        "---\n",
        "\n"
      ]
    },
    {
      "cell_type": "code",
      "metadata": {
        "id": "Rm8tdmoxJKsv",
        "outputId": "12f27488-7122-4647-a641-2e0957a37f12",
        "colab": {
          "base_uri": "https://localhost:8080/",
          "height": 87
        }
      },
      "source": [
        "lst=[2,3,423,43]\n",
        "a,b,c,d=lst\n",
        "print(a)\n",
        "print(b)\n",
        "print(c)\n",
        "print(d)"
      ],
      "execution_count": 37,
      "outputs": [
        {
          "output_type": "stream",
          "text": [
            "2\n",
            "3\n",
            "423\n",
            "43\n"
          ],
          "name": "stdout"
        }
      ]
    },
    {
      "cell_type": "code",
      "metadata": {
        "id": "9Quk000XJT3O",
        "outputId": "a6a52ed3-1fac-4114-8288-11c18ef7ad15",
        "colab": {
          "base_uri": "https://localhost:8080/",
          "height": 87
        }
      },
      "source": [
        "tp=(2,3,423,43)\n",
        "a,b,c,d=tp\n",
        "print(a)\n",
        "print(b)\n",
        "print(c)\n",
        "print(d)"
      ],
      "execution_count": 38,
      "outputs": [
        {
          "output_type": "stream",
          "text": [
            "2\n",
            "3\n",
            "423\n",
            "43\n"
          ],
          "name": "stdout"
        }
      ]
    }
  ]
}