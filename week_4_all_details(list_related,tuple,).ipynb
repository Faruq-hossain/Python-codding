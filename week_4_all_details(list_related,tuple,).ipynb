{
  "nbformat": 4,
  "nbformat_minor": 0,
  "metadata": {
    "colab": {
      "name": "week 4 all details(list related,tuple,).ipynb",
      "provenance": [],
      "collapsed_sections": [],
      "authorship_tag": "ABX9TyOVXllg56ip5ezAM/XlAGFT",
      "include_colab_link": true
    },
    "kernelspec": {
      "name": "python3",
      "display_name": "Python 3"
    }
  },
  "cells": [
    {
      "cell_type": "markdown",
      "metadata": {
        "id": "view-in-github",
        "colab_type": "text"
      },
      "source": [
        "<a href=\"https://colab.research.google.com/github/Faruq-hossain/Python-codding/blob/master/week_4_all_details(list_related%2Ctuple%2C).ipynb\" target=\"_parent\"><img src=\"https://colab.research.google.com/assets/colab-badge.svg\" alt=\"Open In Colab\"/></a>"
      ]
    },
    {
      "cell_type": "markdown",
      "metadata": {
        "id": "6Rinm1ngDoxh"
      },
      "source": [
        "**Creating List**\n",
        "\n",
        "---\n",
        "\n"
      ]
    },
    {
      "cell_type": "code",
      "metadata": {
        "id": "5Pq57fRK2c75",
        "colab": {
          "base_uri": "https://localhost:8080/",
          "height": 52
        },
        "outputId": "e73c1b33-e4a7-4349-d873-3dc869762a1b"
      },
      "source": [
        "lst0=[1,2,3,32,2.23,43.23,\"python\",[2,32,3]]\n",
        "print(lst0)\n",
        "lst1=[]\n",
        "print(lst1)\n",
        "\n"
      ],
      "execution_count": null,
      "outputs": [
        {
          "output_type": "stream",
          "text": [
            "[1, 2, 3, 32, 2.23, 43.23, 'python', [2, 32, 3]]\n",
            "[]\n"
          ],
          "name": "stdout"
        }
      ]
    },
    {
      "cell_type": "code",
      "metadata": {
        "colab": {
          "base_uri": "https://localhost:8080/"
        },
        "id": "7-Mz6IBfsxVl",
        "outputId": "369b8007-f48a-4a36-d8af-7a070941f52f"
      },
      "source": [
        "# Python program to demonstrate  \n",
        "# Creation of List  \n",
        "  \n",
        "# Creating a List \n",
        "List = [] \n",
        "print(\"Blank List: \") \n",
        "print(List) \n",
        "  \n",
        "# Creating a List of numbers \n",
        "List = [10, 20, 14] \n",
        "print(\"\\nList of numbers: \") \n",
        "print(List) \n",
        "  \n",
        "# Creating a List of strings and accessing \n",
        "# using index \n",
        "List = [\"Faeuq\", \"For\", \"Hossain\"] \n",
        "print(\"\\nList Items: \") \n",
        "print(List[0])  \n",
        "print(List[2]) \n",
        "  \n",
        "# Creating a Multi-Dimensional List \n",
        "# (By Nesting a list inside a List) \n",
        "List = [['Faruq', 'For'] , ['Hossain']] \n",
        "print(\"\\nMulti-Dimensional List: \") \n",
        "print(List) "
      ],
      "execution_count": 34,
      "outputs": [
        {
          "output_type": "stream",
          "text": [
            "Blank List: \n",
            "[]\n",
            "\n",
            "List of numbers: \n",
            "[10, 20, 14]\n",
            "\n",
            "List Items: \n",
            "Faeuq\n",
            "Hossain\n",
            "\n",
            "Multi-Dimensional List: \n",
            "[['Faruq', 'For'], ['Hossain']]\n"
          ],
          "name": "stdout"
        }
      ]
    },
    {
      "cell_type": "markdown",
      "metadata": {
        "id": "VBG1AGsss3Qd"
      },
      "source": [
        "**Creating a list with multiple distinct or duplicate elements**"
      ]
    },
    {
      "cell_type": "markdown",
      "metadata": {
        "id": "IwTFDWlIs7xO"
      },
      "source": [
        "A list may contain duplicate values with their distinct positions and hence, multiple distinct or duplicate values can be passed as a sequence at the time of list creation."
      ]
    },
    {
      "cell_type": "code",
      "metadata": {
        "colab": {
          "base_uri": "https://localhost:8080/"
        },
        "id": "KezBGx2Ds0sW",
        "outputId": "f5eb2768-39c5-49f0-84b5-583e892a91a9"
      },
      "source": [
        "# Creating a List with  \n",
        "# the use of Numbers \n",
        "# (Having duplicate values) \n",
        "List = [1, 2, 4, 4, 3, 3, 3, 6, 5] \n",
        "print(\"\\nList with the use of Numbers: \") \n",
        "print(List) \n",
        "  \n",
        "# Creating a List with  \n",
        "# mixed type of values \n",
        "# (Having numbers and strings) \n",
        "List = [1, 2, 'Faruq', 4, 'For', 6, 'Faruq'] \n",
        "print(\"\\nList with the use of Mixed Values: \") \n",
        "print(List) "
      ],
      "execution_count": 35,
      "outputs": [
        {
          "output_type": "stream",
          "text": [
            "\n",
            "List with the use of Numbers: \n",
            "[1, 2, 4, 4, 3, 3, 3, 6, 5]\n",
            "\n",
            "List with the use of Mixed Values: \n",
            "[1, 2, 'Faruq', 4, 'For', 6, 'Faruq']\n"
          ],
          "name": "stdout"
        }
      ]
    },
    {
      "cell_type": "markdown",
      "metadata": {
        "id": "CsMGn6IhtCdl"
      },
      "source": [
        "**Knowing the size of List**\n",
        "\n",
        "---\n",
        "\n"
      ]
    },
    {
      "cell_type": "code",
      "metadata": {
        "colab": {
          "base_uri": "https://localhost:8080/"
        },
        "id": "9jeicD8ktEnI",
        "outputId": "40c0c542-5edc-464f-be83-c8d1cf9b5451"
      },
      "source": [
        "\n",
        "# Creating a List \n",
        "List1 = [] \n",
        "print(len(List1)) \n",
        "  \n",
        "# Creating a List of numbers \n",
        "List2 = [10, 20, 14] \n",
        "print(len(List2)) "
      ],
      "execution_count": null,
      "outputs": [
        {
          "output_type": "stream",
          "text": [
            "0\n",
            "3\n"
          ],
          "name": "stdout"
        }
      ]
    },
    {
      "cell_type": "markdown",
      "metadata": {
        "id": "rPixqvfotPPl"
      },
      "source": [
        "**Accessing elements from the List**\n",
        "\n",
        "---\n",
        "\n"
      ]
    },
    {
      "cell_type": "code",
      "metadata": {
        "colab": {
          "base_uri": "https://localhost:8080/"
        },
        "id": "Wq9oY7CjtR32",
        "outputId": "aaf2b82c-dafc-44d4-a887-101c7e2465e0"
      },
      "source": [
        "# Python program to demonstrate  \n",
        "# accessing of element from list \n",
        "  \n",
        "# Creating a List with \n",
        "# the use of multiple values \n",
        "List = [\"Faruq\", \"For\", \"Faruq\"] \n",
        "  \n",
        "# accessing a element from the  \n",
        "# list using index number \n",
        "print(\"Accessing a element from the list\") \n",
        "print(List[0])  \n",
        "print(List[2]) \n",
        "  \n",
        "# Creating a Multi-Dimensional List \n",
        "# (By Nesting a list inside a List) \n",
        "List = [['Faruq', 'For'] , ['Faruq']] \n",
        "  \n",
        "# accessing an element from the  \n",
        "# Multi-Dimensional List using \n",
        "# index number \n",
        "print(\"Acessing a element from a Multi-Dimensional list\") \n",
        "print(List[0][1]) \n",
        "print(List[1][0]) "
      ],
      "execution_count": 36,
      "outputs": [
        {
          "output_type": "stream",
          "text": [
            "Accessing a element from the list\n",
            "Faruq\n",
            "Faruq\n",
            "Acessing a element from a Multi-Dimensional list\n",
            "For\n",
            "Faruq\n"
          ],
          "name": "stdout"
        }
      ]
    },
    {
      "cell_type": "markdown",
      "metadata": {
        "id": "GH-fAQLZGZUH"
      },
      "source": [
        "**iterating list**\n",
        "\n",
        "---\n",
        "\n"
      ]
    },
    {
      "cell_type": "code",
      "metadata": {
        "id": "f6W756n2GhL3",
        "colab": {
          "base_uri": "https://localhost:8080/",
          "height": 158
        },
        "outputId": "b06d8fe7-710d-4098-d429-94f40e365971"
      },
      "source": [
        "lst0=[1,2,3,32,2.23,43.23,\"python\",[2,32,3]]\n",
        "for i in lst0:\n",
        "  print(i,end='')\n",
        "  print('')"
      ],
      "execution_count": null,
      "outputs": [
        {
          "output_type": "stream",
          "text": [
            "1\n",
            "2\n",
            "3\n",
            "32\n",
            "2.23\n",
            "43.23\n",
            "python\n",
            "[2, 32, 3]\n"
          ],
          "name": "stdout"
        }
      ]
    },
    {
      "cell_type": "code",
      "metadata": {
        "colab": {
          "base_uri": "https://localhost:8080/"
        },
        "id": "WqATl8ZEq9Ef",
        "outputId": "e00249d7-0eba-4bb6-f6af-772979371dc6"
      },
      "source": [
        "lst0=[1,2,3,32,2.23,43.23,\"python\",[2,32,3]]\n",
        "for i in lst0:\n",
        "  print(i)"
      ],
      "execution_count": null,
      "outputs": [
        {
          "output_type": "stream",
          "text": [
            "1\n",
            "2\n",
            "3\n",
            "32\n",
            "2.23\n",
            "43.23\n",
            "python\n",
            "[2, 32, 3]\n"
          ],
          "name": "stdout"
        }
      ]
    },
    {
      "cell_type": "code",
      "metadata": {
        "colab": {
          "base_uri": "https://localhost:8080/"
        },
        "id": "3yZIF-iGrAA1",
        "outputId": "ee6a9767-7720-4637-a0e0-9264d6649967"
      },
      "source": [
        "lst0=[1,2,3,32,2.23,43.23,\"python\",[2,32,3]]\n",
        "i = 0\n",
        "while i<=6:\n",
        "  print(lst0[i])\n",
        "  i+=1"
      ],
      "execution_count": null,
      "outputs": [
        {
          "output_type": "stream",
          "text": [
            "1\n",
            "2\n",
            "3\n",
            "32\n",
            "2.23\n",
            "43.23\n",
            "python\n"
          ],
          "name": "stdout"
        }
      ]
    },
    {
      "cell_type": "code",
      "metadata": {
        "id": "ZWUF11jKHKFA",
        "colab": {
          "base_uri": "https://localhost:8080/"
        },
        "outputId": "28906425-8326-435b-84f3-4e5285e4247f"
      },
      "source": [
        "lst0=[1,2,3,32,2.23,43.23,\"python\",[2,32,3]]\n",
        "print(lst0[2])\n",
        "print(lst0[6])\n",
        "print(lst0[-2])\n",
        "print(lst0[-4])"
      ],
      "execution_count": null,
      "outputs": [
        {
          "output_type": "stream",
          "text": [
            "3\n",
            "python\n",
            "python\n",
            "2.23\n"
          ],
          "name": "stdout"
        }
      ]
    },
    {
      "cell_type": "markdown",
      "metadata": {
        "id": "kjdtDxstHMqu"
      },
      "source": [
        "**List operations**\n",
        "\n",
        "---\n",
        "\n"
      ]
    },
    {
      "cell_type": "code",
      "metadata": {
        "id": "hEpyTOguHPNH",
        "colab": {
          "base_uri": "https://localhost:8080/",
          "height": 34
        },
        "outputId": "d3fe7326-beb2-4803-91d3-a95de8d13299"
      },
      "source": [
        "lst0=[1,2,3,32,2.23,43.23,\"python\",[2,32,3]]\n",
        "\n",
        "print(len(lst0))                #len( ) gives the length of the list\n",
        "\n"
      ],
      "execution_count": null,
      "outputs": [
        {
          "output_type": "stream",
          "text": [
            "8\n"
          ],
          "name": "stdout"
        }
      ]
    },
    {
      "cell_type": "code",
      "metadata": {
        "id": "pLIBr02bHnYe",
        "colab": {
          "base_uri": "https://localhost:8080/",
          "height": 34
        },
        "outputId": "55fb86bb-3e35-4788-9687-c308ccefd70e"
      },
      "source": [
        "lst0.append([12,2,12,2])        #append( ) inserts an element to the end of the list\n",
        "print(lst0)"
      ],
      "execution_count": null,
      "outputs": [
        {
          "output_type": "stream",
          "text": [
            "[1, 2, 3, 32, 2.23, 43.23, 'python', [2, 32, 3], [12, 2, 12, 2]]\n"
          ],
          "name": "stdout"
        }
      ]
    },
    {
      "cell_type": "code",
      "metadata": {
        "id": "emF0sNRRHq1n",
        "colab": {
          "base_uri": "https://localhost:8080/",
          "height": 34
        },
        "outputId": "7e3b16be-e683-4585-c938-9fcc2f13f4c2"
      },
      "source": [
        "lst0.insert(2,\"pandas\")         #insert( ) insertes an element on a given index\n",
        "print(lst0)"
      ],
      "execution_count": null,
      "outputs": [
        {
          "output_type": "stream",
          "text": [
            "[1, 2, 'pandas', 3, 32, 2.23, 43.23, 'python', [2, 32, 3], [12, 2, 12, 2]]\n"
          ],
          "name": "stdout"
        }
      ]
    },
    {
      "cell_type": "code",
      "metadata": {
        "id": "siC2q33UHwlv",
        "colab": {
          "base_uri": "https://localhost:8080/",
          "height": 34
        },
        "outputId": "8c019930-e14a-43e8-b9aa-4d2582f39ef6"
      },
      "source": [
        "lst0.remove(3)                  #remove( ) removes first occurence of an element\n",
        "print(lst0)"
      ],
      "execution_count": null,
      "outputs": [
        {
          "output_type": "stream",
          "text": [
            "[1, 2, 'pandas', 32, 2.23, 43.23, 'python', [2, 32, 3], [12, 2, 12, 2]]\n"
          ],
          "name": "stdout"
        }
      ]
    },
    {
      "cell_type": "code",
      "metadata": {
        "id": "9Gz3Y-ppH1HO",
        "colab": {
          "base_uri": "https://localhost:8080/",
          "height": 34
        },
        "outputId": "d62972b7-be27-4b3c-81ac-63684c690d0d"
      },
      "source": [
        "print(lst0.index(\"python\"))     #index( ) returns index of first occurence of an element"
      ],
      "execution_count": null,
      "outputs": [
        {
          "output_type": "stream",
          "text": [
            "6\n"
          ],
          "name": "stdout"
        }
      ]
    },
    {
      "cell_type": "code",
      "metadata": {
        "id": "viISPsAFH3Bu",
        "colab": {
          "base_uri": "https://localhost:8080/",
          "height": 34
        },
        "outputId": "90254b4b-1497-42af-d362-1288eb48061b"
      },
      "source": [
        "print(lst0.count('pandas'))     #count( ) reuturns the number of occurence of an element\n"
      ],
      "execution_count": null,
      "outputs": [
        {
          "output_type": "stream",
          "text": [
            "1\n"
          ],
          "name": "stdout"
        }
      ]
    },
    {
      "cell_type": "code",
      "metadata": {
        "id": "7PIk7nBeH4PP",
        "colab": {
          "base_uri": "https://localhost:8080/",
          "height": 34
        },
        "outputId": "20d0e435-f21d-4e58-9ecc-575a173a658f"
      },
      "source": [
        "print(lst0.reverse())           #reverse( ) makes a reverse list\n"
      ],
      "execution_count": null,
      "outputs": [
        {
          "output_type": "stream",
          "text": [
            "None\n"
          ],
          "name": "stdout"
        }
      ]
    },
    {
      "cell_type": "code",
      "metadata": {
        "id": "_A3ObMKwH7-I",
        "colab": {
          "base_uri": "https://localhost:8080/",
          "height": 34
        },
        "outputId": "7b0e0830-36f6-4b4b-b6ae-d8ed26dcfd17"
      },
      "source": [
        "lst1=lst0.copy()                #copy( ) makes a copy of list\n",
        "print(lst1)"
      ],
      "execution_count": null,
      "outputs": [
        {
          "output_type": "stream",
          "text": [
            "[[12, 2, 12, 2], [2, 32, 3], 'python', 43.23, 2.23, 32, 'pandas', 2, 1]\n"
          ],
          "name": "stdout"
        }
      ]
    },
    {
      "cell_type": "code",
      "metadata": {
        "id": "0Zw3vCFeH-yP",
        "colab": {
          "base_uri": "https://localhost:8080/",
          "height": 34
        },
        "outputId": "559fce2f-acc3-4a9e-b511-4bf94204afe7"
      },
      "source": [
        "lst0.clear()                    #clear( ) makes the list empty\n",
        "print(lst0)"
      ],
      "execution_count": null,
      "outputs": [
        {
          "output_type": "stream",
          "text": [
            "[]\n"
          ],
          "name": "stdout"
        }
      ]
    },
    {
      "cell_type": "markdown",
      "metadata": {
        "id": "ViTy2_czyKkX"
      },
      "source": [
        "**Join list**"
      ]
    },
    {
      "cell_type": "code",
      "metadata": {
        "colab": {
          "base_uri": "https://localhost:8080/"
        },
        "id": "QiEzpZQ4yMtl",
        "outputId": "d79a724f-1bdf-49af-b37f-7b2961e01291"
      },
      "source": [
        "list1 = [\"a\", \"b\", \"c\"]\n",
        "list2 = [1, 2, 3]\n",
        "\n",
        "list3 = list1 + list2\n",
        "print(list3)"
      ],
      "execution_count": 32,
      "outputs": [
        {
          "output_type": "stream",
          "text": [
            "['a', 'b', 'c', 1, 2, 3]\n"
          ],
          "name": "stdout"
        }
      ]
    },
    {
      "cell_type": "code",
      "metadata": {
        "colab": {
          "base_uri": "https://localhost:8080/"
        },
        "id": "WdSFBvwxyRgn",
        "outputId": "5f2ff79c-5533-4f2c-e608-0d620595c524"
      },
      "source": [
        "list1 = [\"a\", \"b\" , \"c\"]\n",
        "list2 = [1, 2, 3]\n",
        "\n",
        "for x in list2:\n",
        "  list1.append(x)\n",
        "\n",
        "print(list1)"
      ],
      "execution_count": 33,
      "outputs": [
        {
          "output_type": "stream",
          "text": [
            "['a', 'b', 'c', 1, 2, 3]\n"
          ],
          "name": "stdout"
        }
      ]
    },
    {
      "cell_type": "markdown",
      "metadata": {
        "id": "ERzBdL9hIJ5t"
      },
      "source": [
        "**lsit slicing**\n",
        "\n",
        "---\n",
        "\n"
      ]
    },
    {
      "cell_type": "code",
      "metadata": {
        "id": "K712k-2CINBI",
        "colab": {
          "base_uri": "https://localhost:8080/",
          "height": 87
        },
        "outputId": "46c8894e-da9c-40ac-9220-0bb79135141b"
      },
      "source": [
        "lst0=[1,2,3,32,2.23,43.23,\"python\",[2,32,3]]\n",
        "\n",
        "print(lst0[2:7])\n",
        "print(lst0[2:])\n",
        "print(lst0[:5])\n",
        "print(lst0[:])"
      ],
      "execution_count": null,
      "outputs": [
        {
          "output_type": "stream",
          "text": [
            "[3, 32, 2.23, 43.23, 'python']\n",
            "[3, 32, 2.23, 43.23, 'python', [2, 32, 3]]\n",
            "[1, 2, 3, 32, 2.23]\n",
            "[1, 2, 3, 32, 2.23, 43.23, 'python', [2, 32, 3]]\n"
          ],
          "name": "stdout"
        }
      ]
    },
    {
      "cell_type": "markdown",
      "metadata": {
        "id": "y8msWVMjtcRG"
      },
      "source": [
        "In Python List, there are multiple ways to print the whole List with all the elements, but to print a specific range of elements from the list, we use Slice operation. Slice operation is performed on Lists with the use of a colon(:). To print elements from beginning to a range use [: Index], to print elements from end-use [:-Index], to print elements from specific Index till the end use [Index:], to print elements within a range, use [Start Index:End Index] and to print the whole List with the use of slicing operation, use [:]. Further, to print the whole List in reverse order, use [::-1].\n",
        "\n",
        "Note – To print elements of List from rear end, use Negative Indexes."
      ]
    },
    {
      "cell_type": "code",
      "metadata": {
        "colab": {
          "base_uri": "https://localhost:8080/"
        },
        "id": "zqrL5bbEtezN",
        "outputId": "2d88d132-19f4-4472-b195-e09f8a9a1e3a"
      },
      "source": [
        "# Python program to demonstrate  \n",
        "# Removal of elements in a List \n",
        "  \n",
        "# Creating a List \n",
        "List = ['f','a','r','u','q', \n",
        "        'H','o','S','S','a','i','n'] \n",
        "print(\"Intial List: \") \n",
        "print(List) \n",
        "  \n",
        "# Print elements of a range \n",
        "# using Slice operation \n",
        "Sliced_List = List[3:8] \n",
        "print(\"\\nSlicing elements in a range 3-8: \") \n",
        "print(Sliced_List) \n",
        "  \n",
        "# Print elements from a  \n",
        "# pre-defined point to end \n",
        "Sliced_List = List[5:] \n",
        "print(\"\\nElements sliced from 5th \"\n",
        "      \"element till the end: \") \n",
        "print(Sliced_List) \n",
        "  \n",
        "# Printing elements from \n",
        "# beginning till end \n",
        "Sliced_List = List[:] \n",
        "print(\"\\nPrinting all elements using slice operation: \") \n",
        "print(Sliced_List) "
      ],
      "execution_count": 37,
      "outputs": [
        {
          "output_type": "stream",
          "text": [
            "Intial List: \n",
            "['f', 'a', 'r', 'u', 'q', 'H', 'o', 'S', 'S', 'a', 'i', 'n']\n",
            "\n",
            "Slicing elements in a range 3-8: \n",
            "['u', 'q', 'H', 'o', 'S']\n",
            "\n",
            "Elements sliced from 5th element till the end: \n",
            "['H', 'o', 'S', 'S', 'a', 'i', 'n']\n",
            "\n",
            "Printing all elements using slice operation: \n",
            "['f', 'a', 'r', 'u', 'q', 'H', 'o', 'S', 'S', 'a', 'i', 'n']\n"
          ],
          "name": "stdout"
        }
      ]
    },
    {
      "cell_type": "markdown",
      "metadata": {
        "id": "l6N0KMe2IrQn"
      },
      "source": [
        "**list sorting**\n",
        "\n",
        "---\n",
        "\n"
      ]
    },
    {
      "cell_type": "code",
      "metadata": {
        "id": "z1fgCFUrIqtn",
        "colab": {
          "base_uri": "https://localhost:8080/",
          "height": 70
        },
        "outputId": "87d593d3-23f0-47ba-e283-fb1d96191090"
      },
      "source": [
        "lst2=[1,2,4,2,4,2,4,2,5,6,7,4]\n",
        "\n",
        "lst3=sorted(lst2)\n",
        "print(lst3)\n",
        "print(lst2)\n",
        "lst2.sort()\n",
        "print(lst2)"
      ],
      "execution_count": null,
      "outputs": [
        {
          "output_type": "stream",
          "text": [
            "[1, 2, 2, 2, 2, 4, 4, 4, 4, 5, 6, 7]\n",
            "[1, 2, 4, 2, 4, 2, 4, 2, 5, 6, 7, 4]\n",
            "[1, 2, 2, 2, 2, 4, 4, 4, 4, 5, 6, 7]\n"
          ],
          "name": "stdout"
        }
      ]
    },
    {
      "cell_type": "code",
      "metadata": {
        "colab": {
          "base_uri": "https://localhost:8080/"
        },
        "id": "tidzLSMvrH71",
        "outputId": "97842819-dc7b-4e2f-c637-2364f3e40349"
      },
      "source": [
        "lst2=[1,2,4,2,4,2,4,2,5,6,7,4]\n",
        "lst3=sorted(lst2)\n",
        "print(lst3)"
      ],
      "execution_count": null,
      "outputs": [
        {
          "output_type": "stream",
          "text": [
            "[1, 2, 2, 2, 2, 4, 4, 4, 4, 5, 6, 7]\n"
          ],
          "name": "stdout"
        }
      ]
    },
    {
      "cell_type": "code",
      "metadata": {
        "colab": {
          "base_uri": "https://localhost:8080/"
        },
        "id": "NJkIKxK4rKj9",
        "outputId": "1f066e2a-f3ed-4592-b1c6-4e7defa61e44"
      },
      "source": [
        "lst2=[1,2,4,2,4,2,4,2,5,6,7,4]\n",
        "print(lst2)"
      ],
      "execution_count": null,
      "outputs": [
        {
          "output_type": "stream",
          "text": [
            "[1, 2, 4, 2, 4, 2, 4, 2, 5, 6, 7, 4]\n"
          ],
          "name": "stdout"
        }
      ]
    },
    {
      "cell_type": "code",
      "metadata": {
        "colab": {
          "base_uri": "https://localhost:8080/"
        },
        "id": "wj1xE5VxrNI9",
        "outputId": "df497b17-0ab1-4457-acfc-0d2abd3b8316"
      },
      "source": [
        "lst2=[1,2,4,2,4,2,4,2,5,6,7,4]\n",
        "lst2.sort()\n",
        "print(lst2)"
      ],
      "execution_count": null,
      "outputs": [
        {
          "output_type": "stream",
          "text": [
            "[1, 2, 2, 2, 2, 4, 4, 4, 4, 5, 6, 7]\n"
          ],
          "name": "stdout"
        }
      ]
    },
    {
      "cell_type": "code",
      "metadata": {
        "colab": {
          "base_uri": "https://localhost:8080/"
        },
        "id": "1RkAk4iEsPAo",
        "outputId": "a7dda193-3b38-4309-f8a0-119bb7b5980f"
      },
      "source": [
        "lst2=[1,2,4,2,4,2,4,2,5,6,7,4]\n",
        "lst2.reverse()\n",
        "print(lst2)"
      ],
      "execution_count": null,
      "outputs": [
        {
          "output_type": "stream",
          "text": [
            "[4, 7, 6, 5, 2, 4, 2, 4, 2, 4, 2, 1]\n"
          ],
          "name": "stdout"
        }
      ]
    },
    {
      "cell_type": "markdown",
      "metadata": {
        "id": "H3aDzGegIwbn"
      },
      "source": [
        "**creating tuple**\n",
        "\n",
        "---\n",
        "\n"
      ]
    },
    {
      "cell_type": "markdown",
      "metadata": {
        "id": "b6KPAdVyt5oC"
      },
      "source": [
        "A Tuple is a collection of Python objects separated by commas. In someways a tuple is similar to a list in terms of indexing, nested objects and repetition but a tuple is immutable unlike lists which are mutable."
      ]
    },
    {
      "cell_type": "code",
      "metadata": {
        "id": "0AMt1-gcIyrO",
        "colab": {
          "base_uri": "https://localhost:8080/",
          "height": 70
        },
        "outputId": "1c1de948-8f72-4b39-c68d-f9d5d9124d82"
      },
      "source": [
        "tp0=(1,2,3,32,2.23,43.23,\"python\",[2,32,3])\n",
        "print(tp0)\n",
        "tp1=()\n",
        "print(tp1)\n",
        "tp2=tuple()\n",
        "print(tp2)"
      ],
      "execution_count": null,
      "outputs": [
        {
          "output_type": "stream",
          "text": [
            "(1, 2, 3, 32, 2.23, 43.23, 'python', [2, 32, 3])\n",
            "()\n",
            "()\n"
          ],
          "name": "stdout"
        }
      ]
    },
    {
      "cell_type": "markdown",
      "metadata": {
        "id": "ZwAbrmOJI3ef"
      },
      "source": [
        "**iterating tuple**\n",
        "\n",
        "---\n",
        "\n"
      ]
    },
    {
      "cell_type": "code",
      "metadata": {
        "id": "MjTC0E7xI6GO",
        "colab": {
          "base_uri": "https://localhost:8080/",
          "height": 34
        },
        "outputId": "16d2148d-f0a5-4132-db29-5224bd28a009"
      },
      "source": [
        "tp0=(1,2,3,32,2.23,43.23,\"python\",[2,32,3])\n",
        "for i in tp0:\n",
        "    print(i,end=' ')\n",
        "print('')"
      ],
      "execution_count": null,
      "outputs": [
        {
          "output_type": "stream",
          "text": [
            "1 2 3 32 2.23 43.23 python [2, 32, 3] \n"
          ],
          "name": "stdout"
        }
      ]
    },
    {
      "cell_type": "code",
      "metadata": {
        "id": "yJiZB7psI9Ov",
        "colab": {
          "base_uri": "https://localhost:8080/"
        },
        "outputId": "317e8f13-9dd2-4496-969e-202f8df72128"
      },
      "source": [
        "tp0=(1,2,3,32,2.23,43.23,\"python\",[2,32,3])\n",
        "print(tp0[2])\n",
        "print(tp0[6])\n"
      ],
      "execution_count": null,
      "outputs": [
        {
          "output_type": "stream",
          "text": [
            "3\n",
            "python\n"
          ],
          "name": "stdout"
        }
      ]
    },
    {
      "cell_type": "markdown",
      "metadata": {
        "id": "wa5sJDbJJBJK"
      },
      "source": [
        "**inserting into tuple**\n",
        "\n",
        "---\n",
        "\n"
      ]
    },
    {
      "cell_type": "code",
      "metadata": {
        "id": "jnDsI5_mJGe_",
        "colab": {
          "base_uri": "https://localhost:8080/",
          "height": 34
        },
        "outputId": "b6e51cdd-0de2-4e97-87d7-bf5ac85e925b"
      },
      "source": [
        "tp0=(1,2,3,32,2.23,43.23,\"python\",[2,32,3])\n",
        "tp0+=(\"pandas\",232,3,232,3)\n",
        "print(tp0)"
      ],
      "execution_count": null,
      "outputs": [
        {
          "output_type": "stream",
          "text": [
            "(1, 2, 3, 32, 2.23, 43.23, 'python', [2, 32, 3], 'pandas', 232, 3, 232, 3)\n"
          ],
          "name": "stdout"
        }
      ]
    },
    {
      "cell_type": "markdown",
      "metadata": {
        "id": "vlLZDyIGuCYV"
      },
      "source": [
        "**Repetition in Tuples**\n",
        "\n",
        "---\n",
        "\n"
      ]
    },
    {
      "cell_type": "code",
      "metadata": {
        "colab": {
          "base_uri": "https://localhost:8080/"
        },
        "id": "rkfU0OMZuFTd",
        "outputId": "ad1b27f7-b7e4-4d74-faff-e724b37bb95a"
      },
      "source": [
        "# Code to create a tuple with repetition \n",
        "  \n",
        "tuple3 = ('python',)*3\n",
        "print(tuple3) "
      ],
      "execution_count": null,
      "outputs": [
        {
          "output_type": "stream",
          "text": [
            "('python', 'python', 'python')\n"
          ],
          "name": "stdout"
        }
      ]
    },
    {
      "cell_type": "markdown",
      "metadata": {
        "id": "GHhPlD33uRFN"
      },
      "source": [
        "**Slicing in Tuples**\n",
        "\n",
        "---\n",
        "\n"
      ]
    },
    {
      "cell_type": "code",
      "metadata": {
        "colab": {
          "base_uri": "https://localhost:8080/"
        },
        "id": "zm8YQleUuTtN",
        "outputId": "297ccd6c-f774-4717-88dd-9901529d30b9"
      },
      "source": [
        "\n",
        "# code to test slicing \n",
        "  \n",
        "tuple1 = (0 ,1, 2, 3) \n",
        "print(tuple1[1:]) \n",
        "print(tuple1[::-1]) \n"
      ],
      "execution_count": null,
      "outputs": [
        {
          "output_type": "stream",
          "text": [
            "(1, 2, 3)\n",
            "(3, 2, 1, 0)\n"
          ],
          "name": "stdout"
        }
      ]
    },
    {
      "cell_type": "markdown",
      "metadata": {
        "id": "NyiASYjEunt5"
      },
      "source": [
        "**Finding Length of a Tuple**\n",
        "\n",
        "---\n",
        "\n"
      ]
    },
    {
      "cell_type": "code",
      "metadata": {
        "colab": {
          "base_uri": "https://localhost:8080/"
        },
        "id": "2rjmqwJyuqWG",
        "outputId": "2294220b-5f1b-453e-8ae3-417fb94a40e5"
      },
      "source": [
        "# Code for printing the length of a tuple \n",
        "  \n",
        "tuple2 = ('python', 'faruq') \n",
        "print(len(tuple2)) "
      ],
      "execution_count": 38,
      "outputs": [
        {
          "output_type": "stream",
          "text": [
            "2\n"
          ],
          "name": "stdout"
        }
      ]
    },
    {
      "cell_type": "markdown",
      "metadata": {
        "id": "r47OBXXNuuTc"
      },
      "source": [
        "**Converting list to a Tuple**\n",
        "\n",
        "---\n",
        "\n"
      ]
    },
    {
      "cell_type": "markdown",
      "metadata": {
        "id": "zut7660nu4X8"
      },
      "source": [
        "Takes a single parameter which may be a list,string,set or even a dictionary( only keys are taken as elements) and converts them to a tuple."
      ]
    },
    {
      "cell_type": "code",
      "metadata": {
        "colab": {
          "base_uri": "https://localhost:8080/"
        },
        "id": "ClWtIg-Auwlt",
        "outputId": "7c30f946-ec35-43e9-8186-3dc62c3e60b3"
      },
      "source": [
        "# Code for converting a list and a string into a tuple \n",
        "  \n",
        "list1 = [0, 1, 2] \n",
        "print(tuple(list1)) \n",
        "print(tuple('python')) # string 'python' "
      ],
      "execution_count": null,
      "outputs": [
        {
          "output_type": "stream",
          "text": [
            "(0, 1, 2)\n",
            "('p', 'y', 't', 'h', 'o', 'n')\n"
          ],
          "name": "stdout"
        }
      ]
    },
    {
      "cell_type": "markdown",
      "metadata": {
        "id": "ksx_pTOMu8OV"
      },
      "source": [
        "**Tuples in a loop**\n",
        "\n",
        "---\n",
        "\n",
        "\n",
        "\n"
      ]
    },
    {
      "cell_type": "code",
      "metadata": {
        "colab": {
          "base_uri": "https://localhost:8080/"
        },
        "id": "70-7XZo1u95E",
        "outputId": "8cb10bea-e102-4bb1-b709-79ac25b2622d"
      },
      "source": [
        "\n",
        "#python code for creating tuples in a loop \n",
        "  \n",
        "tup = ('Faruq',) \n",
        "n = 5  #Number of time loop runs \n",
        "for i in range(int(n)): \n",
        "    tup = (tup,) \n",
        "    print(tup) "
      ],
      "execution_count": null,
      "outputs": [
        {
          "output_type": "stream",
          "text": [
            "(('Faruq',),)\n",
            "((('Faruq',),),)\n",
            "(((('Faruq',),),),)\n",
            "((((('Faruq',),),),),)\n",
            "(((((('Faruq',),),),),),)\n"
          ],
          "name": "stdout"
        }
      ]
    },
    {
      "cell_type": "markdown",
      "metadata": {
        "id": "E_y4JxY_vIO2"
      },
      "source": [
        "**Using cmp(), max() , min()**\n",
        "\n",
        "---\n",
        "\n"
      ]
    },
    {
      "cell_type": "code",
      "metadata": {
        "colab": {
          "base_uri": "https://localhost:8080/",
          "height": 240
        },
        "id": "rYDvHbCVvJ9k",
        "outputId": "de06087e-2595-4566-84e3-626f8765038a"
      },
      "source": [
        "# A python program to demonstrate the use of  \n",
        "# cmp(), max(), min() \n",
        "  \n",
        "tuple1 = ('python', 'geek') \n",
        "tuple2 = ('coder', 1) \n",
        "  \n",
        "if (cmp(tuple1, tuple2) != 0): \n",
        "  \n",
        "    # cmp() returns 0 if matched, 1 when not tuple1  \n",
        "    # is longer and -1 when tuple1 is shoter \n",
        "    print('Not the same') \n",
        "else: \n",
        "    print('Same') \n",
        "print ('Maximum element in tuples 1,2: ' + \n",
        "        str(max(tuple1)) +  ',' + \n",
        "        str(max(tuple2))) \n",
        "print ('Minimum element in tuples 1,2: ' + \n",
        "     str(min(tuple1)) + ','  + str(min(tuple2))) "
      ],
      "execution_count": null,
      "outputs": [
        {
          "output_type": "error",
          "ename": "NameError",
          "evalue": "ignored",
          "traceback": [
            "\u001b[0;31m---------------------------------------------------------------------------\u001b[0m",
            "\u001b[0;31mNameError\u001b[0m                                 Traceback (most recent call last)",
            "\u001b[0;32m<ipython-input-25-8b2bc880d191>\u001b[0m in \u001b[0;36m<module>\u001b[0;34m()\u001b[0m\n\u001b[1;32m      5\u001b[0m \u001b[0mtuple2\u001b[0m \u001b[0;34m=\u001b[0m \u001b[0;34m(\u001b[0m\u001b[0;34m'coder'\u001b[0m\u001b[0;34m,\u001b[0m \u001b[0;36m1\u001b[0m\u001b[0;34m)\u001b[0m\u001b[0;34m\u001b[0m\u001b[0;34m\u001b[0m\u001b[0m\n\u001b[1;32m      6\u001b[0m \u001b[0;34m\u001b[0m\u001b[0m\n\u001b[0;32m----> 7\u001b[0;31m \u001b[0;32mif\u001b[0m \u001b[0;34m(\u001b[0m\u001b[0mcmp\u001b[0m\u001b[0;34m(\u001b[0m\u001b[0mtuple1\u001b[0m\u001b[0;34m,\u001b[0m \u001b[0mtuple2\u001b[0m\u001b[0;34m)\u001b[0m \u001b[0;34m!=\u001b[0m \u001b[0;36m0\u001b[0m\u001b[0;34m)\u001b[0m\u001b[0;34m:\u001b[0m\u001b[0;34m\u001b[0m\u001b[0;34m\u001b[0m\u001b[0m\n\u001b[0m\u001b[1;32m      8\u001b[0m \u001b[0;34m\u001b[0m\u001b[0m\n\u001b[1;32m      9\u001b[0m     \u001b[0;31m# cmp() returns 0 if matched, 1 when not tuple1\u001b[0m\u001b[0;34m\u001b[0m\u001b[0;34m\u001b[0m\u001b[0;34m\u001b[0m\u001b[0m\n",
            "\u001b[0;31mNameError\u001b[0m: name 'cmp' is not defined"
          ]
        }
      ]
    },
    {
      "cell_type": "markdown",
      "metadata": {
        "id": "_Q9VsJRMJK8u"
      },
      "source": [
        "**unpacking sequences**\n",
        "\n",
        "---\n",
        "\n"
      ]
    },
    {
      "cell_type": "markdown",
      "metadata": {
        "id": "bA3VOV-gvsz3"
      },
      "source": [
        "Python Tuples In python tuples are used to sore immutable object. Python Tuples are very similar to lists except to some situations. Python tuples are immutable means that they can not be modified in whole program.\n",
        "\n",
        "Packing and Unpacking a Tuple : In Python there is a very powerful tuple assignment feature that assigns right hand side of values into left hand side. In other way it is called unpacking of a tuple of values into a variable. In packing, we put values into a new tuple while in unpacking we extract those values into a single variable."
      ]
    },
    {
      "cell_type": "code",
      "metadata": {
        "colab": {
          "base_uri": "https://localhost:8080/"
        },
        "id": "jVILVO2OwAj6",
        "outputId": "efdd4750-fa05-48c0-cf10-a17972c2c76a"
      },
      "source": [
        "# Program to understand about  \n",
        "# packing and unpacking in Python \n",
        "  \n",
        "# this lines PACKS values \n",
        "# into variable a \n",
        "a = (\"Daffodil International University\", 500, \"Engineering\")   \n",
        "  \n",
        "# this lines UNPACKS values \n",
        "# of variable a \n",
        "(University, student, type_ofvarsity) = a   \n",
        "  \n",
        "# print college name \n",
        "print(University) \n",
        "  \n",
        "# print no of student \n",
        "print(student) \n",
        "  \n",
        "# print type of college \n",
        "print(type_ofvarsity) "
      ],
      "execution_count": null,
      "outputs": [
        {
          "output_type": "stream",
          "text": [
            "Daffodil International University\n",
            "500\n",
            "Engineering\n"
          ],
          "name": "stdout"
        }
      ]
    },
    {
      "cell_type": "markdown",
      "metadata": {
        "id": "BbTm9U_vwnvP"
      },
      "source": [
        "Python uses a special syntax to pass optional arguments (*args) for tuple unpacking. This means that there can be many number of arguments in place of (*args) in python. All values will be assigned to every variable on left hand side and all remaining values will be assigned to *args .For better understanding consider the following code."
      ]
    },
    {
      "cell_type": "code",
      "metadata": {
        "colab": {
          "base_uri": "https://localhost:8080/"
        },
        "id": "5K2VMvOhwope",
        "outputId": "bec13034-e359-43b8-e7ba-4eac5e0d1bbb"
      },
      "source": [
        "# Python code to study about \n",
        "# unpacking python tuple using * \n",
        "  \n",
        "# first and last will be assigned to x and z \n",
        "# remaining will be assined to y \n",
        "x, *y, z = (10, \"Faruq \", \" for \", \"Meem \", 50) \n",
        "  \n",
        "# print details \n",
        "print(x) \n",
        "print(y) \n",
        "print(z) \n",
        "  \n",
        "# first and second will be assigned to x and y \n",
        "# remaining will be assined to z \n",
        "x, y, *z = (10, \"Faruq \", \" for \", \"Meem \", 50) \n",
        "print(x) \n",
        "print(y) \n",
        "print(z) "
      ],
      "execution_count": null,
      "outputs": [
        {
          "output_type": "stream",
          "text": [
            "10\n",
            "['Faruq ', ' for ', 'Meem ']\n",
            "50\n",
            "10\n",
            "Faruq \n",
            "[' for ', 'Meem ', 50]\n"
          ],
          "name": "stdout"
        }
      ]
    },
    {
      "cell_type": "markdown",
      "metadata": {
        "id": "qXkA2_oKxAxg"
      },
      "source": [
        "In python tuples can be unpacked using a function in function tuple is passed and in function values are unpacked into normal variable. Consider the following code for better understanding."
      ]
    },
    {
      "cell_type": "code",
      "metadata": {
        "id": "6O9qotb7xCnL",
        "colab": {
          "base_uri": "https://localhost:8080/"
        },
        "outputId": "b04690e6-c25b-40c6-b9a1-0239701120c0"
      },
      "source": [
        "# Python code to study about \n",
        "# unpacking python tuple using function \n",
        "  \n",
        "# function takes normal arguments \n",
        "# and multiply them \n",
        "def result(x, y): \n",
        "    return x * y \n",
        "# function with normal variables \n",
        "print (result(10, 100)) \n",
        "  \n",
        "# A tuple is created \n",
        "z = (10, 100) \n",
        "  \n",
        "# Tuple is passed \n",
        "# function unpacked them \n",
        "  \n",
        "print (result(*z)) "
      ],
      "execution_count": null,
      "outputs": [
        {
          "output_type": "stream",
          "text": [
            "1000\n",
            "1000\n"
          ],
          "name": "stdout"
        }
      ]
    },
    {
      "cell_type": "code",
      "metadata": {
        "id": "Rm8tdmoxJKsv",
        "colab": {
          "base_uri": "https://localhost:8080/",
          "height": 87
        },
        "outputId": "12f27488-7122-4647-a641-2e0957a37f12"
      },
      "source": [
        "lst=[2,3,423,43]\n",
        "a,b,c,d=lst\n",
        "print(a)\n",
        "print(b)\n",
        "print(c)\n",
        "print(d)"
      ],
      "execution_count": null,
      "outputs": [
        {
          "output_type": "stream",
          "text": [
            "2\n",
            "3\n",
            "423\n",
            "43\n"
          ],
          "name": "stdout"
        }
      ]
    },
    {
      "cell_type": "code",
      "metadata": {
        "id": "9Quk000XJT3O",
        "colab": {
          "base_uri": "https://localhost:8080/",
          "height": 87
        },
        "outputId": "a6a52ed3-1fac-4114-8288-11c18ef7ad15"
      },
      "source": [
        "tp=(2,3,423,43)\n",
        "a,b,c,d=tp\n",
        "print(a)\n",
        "print(b)\n",
        "print(c)\n",
        "print(d)"
      ],
      "execution_count": null,
      "outputs": [
        {
          "output_type": "stream",
          "text": [
            "2\n",
            "3\n",
            "423\n",
            "43\n"
          ],
          "name": "stdout"
        }
      ]
    }
  ]
}