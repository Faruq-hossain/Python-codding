{
  "nbformat": 4,
  "nbformat_minor": 0,
  "metadata": {
    "colab": {
      "name": "youtube 1 course python.ipynb",
      "provenance": [],
      "collapsed_sections": [],
      "authorship_tag": "ABX9TyMfv8uUZeGE5z5C7vWrd1LM",
      "include_colab_link": true
    },
    "kernelspec": {
      "name": "python3",
      "display_name": "Python 3"
    }
  },
  "cells": [
    {
      "cell_type": "markdown",
      "metadata": {
        "id": "view-in-github",
        "colab_type": "text"
      },
      "source": [
        "<a href=\"https://colab.research.google.com/github/Faruq-hossain/Python-codding/blob/master/youtube_1_course_python.ipynb\" target=\"_parent\"><img src=\"https://colab.research.google.com/assets/colab-badge.svg\" alt=\"Open In Colab\"/></a>"
      ]
    },
    {
      "cell_type": "markdown",
      "metadata": {
        "id": "XLhQupCrrhx-"
      },
      "source": [
        "**Getting Input**\n",
        "\n",
        "---\n",
        "\n"
      ]
    },
    {
      "cell_type": "code",
      "metadata": {
        "id": "CfhXR594rZdf",
        "colab": {
          "base_uri": "https://localhost:8080/",
          "height": 52
        },
        "outputId": "b2dd195b-3c3c-46f8-9f35-a0a419c65e80"
      },
      "source": [
        "name=input('What is your name?')\n",
        "print('Hi...'+name)\n"
      ],
      "execution_count": null,
      "outputs": [
        {
          "output_type": "stream",
          "text": [
            "What is your name?Faruq\n",
            "Hi...Faruq\n"
          ],
          "name": "stdout"
        }
      ]
    },
    {
      "cell_type": "code",
      "metadata": {
        "id": "NDIZ3AzwseDz",
        "colab": {
          "base_uri": "https://localhost:8080/",
          "height": 70
        },
        "outputId": "574a88d3-71f3-4dde-f708-2130f38c4f10"
      },
      "source": [
        "name = input('What is your name? ')\n",
        "Favourite_color = input('What is your favourite color? ')\n",
        "print(name + ' likes ' + Favourite_color)"
      ],
      "execution_count": null,
      "outputs": [
        {
          "output_type": "stream",
          "text": [
            "What is your name? faruq\n",
            "What is your favourite color? blue\n",
            "faruq likes blue\n"
          ],
          "name": "stdout"
        }
      ]
    },
    {
      "cell_type": "markdown",
      "metadata": {
        "id": "Lp6HsGXxwkho"
      },
      "source": [
        "**Type Convert**\n",
        "\n",
        "---\n",
        "\n"
      ]
    },
    {
      "cell_type": "code",
      "metadata": {
        "id": "LPRyh58rwjbV",
        "colab": {
          "base_uri": "https://localhost:8080/",
          "height": 52
        },
        "outputId": "7ebb4bc0-9576-4654-d11e-41bccca7a131"
      },
      "source": [
        "birth_year=input('Birth year : ')\n",
        "age = 2020-int(birth_year)\n",
        "print(age)"
      ],
      "execution_count": null,
      "outputs": [
        {
          "output_type": "stream",
          "text": [
            "Birth year : 1998\n",
            "22\n"
          ],
          "name": "stdout"
        }
      ]
    },
    {
      "cell_type": "markdown",
      "metadata": {
        "id": "olZvVzkXx9rc"
      },
      "source": [
        "Now see what type is it?\n",
        "\n",
        "---\n",
        "\n"
      ]
    },
    {
      "cell_type": "code",
      "metadata": {
        "id": "PwM1tzXSyEAH",
        "colab": {
          "base_uri": "https://localhost:8080/",
          "height": 87
        },
        "outputId": "1a8c942d-a1c2-474f-c622-70b59f309329"
      },
      "source": [
        "birth_year=input('Birth year : ')\n",
        "print(type(birth_year))\n",
        "age = 2020-int(birth_year)\n",
        "print(type(age))\n",
        "print(age)"
      ],
      "execution_count": null,
      "outputs": [
        {
          "output_type": "stream",
          "text": [
            "Birth year : 1998\n",
            "<class 'str'>\n",
            "<class 'int'>\n",
            "22\n"
          ],
          "name": "stdout"
        }
      ]
    },
    {
      "cell_type": "markdown",
      "metadata": {
        "id": "d_9nf638zuWj"
      },
      "source": [
        "**ask a user their weight(in pounds) convert it to kilograms and print on the terminal.**\n",
        "\n",
        "---\n",
        "\n"
      ]
    },
    {
      "cell_type": "code",
      "metadata": {
        "id": "40dcCy8PzpCE",
        "colab": {
          "base_uri": "https://localhost:8080/",
          "height": 220
        },
        "outputId": "e207a5ef-6baf-4e9f-a737-c9a0fb4a30c5"
      },
      "source": [
        "weight_lbs = print('Weight (lbs) : ')\n",
        "weight_kg = int (weight_lbs) * 0.45\n",
        "print(weight_kg)"
      ],
      "execution_count": null,
      "outputs": [
        {
          "output_type": "stream",
          "text": [
            "Weight (lbs) : \n"
          ],
          "name": "stdout"
        },
        {
          "output_type": "error",
          "ename": "TypeError",
          "evalue": "ignored",
          "traceback": [
            "\u001b[0;31m---------------------------------------------------------------------------\u001b[0m",
            "\u001b[0;31mTypeError\u001b[0m                                 Traceback (most recent call last)",
            "\u001b[0;32m<ipython-input-25-3242d92b235c>\u001b[0m in \u001b[0;36m<module>\u001b[0;34m()\u001b[0m\n\u001b[1;32m      1\u001b[0m \u001b[0mweight_lbs\u001b[0m \u001b[0;34m=\u001b[0m \u001b[0mprint\u001b[0m\u001b[0;34m(\u001b[0m\u001b[0;34m'Weight (lbs) : '\u001b[0m\u001b[0;34m)\u001b[0m\u001b[0;34m\u001b[0m\u001b[0;34m\u001b[0m\u001b[0m\n\u001b[0;32m----> 2\u001b[0;31m \u001b[0mweight_kg\u001b[0m \u001b[0;34m=\u001b[0m \u001b[0mint\u001b[0m \u001b[0;34m(\u001b[0m\u001b[0mweight_lbs\u001b[0m\u001b[0;34m)\u001b[0m \u001b[0;34m*\u001b[0m \u001b[0;36m0.45\u001b[0m\u001b[0;34m\u001b[0m\u001b[0;34m\u001b[0m\u001b[0m\n\u001b[0m\u001b[1;32m      3\u001b[0m \u001b[0mprint\u001b[0m\u001b[0;34m(\u001b[0m\u001b[0mweight_kg\u001b[0m\u001b[0;34m)\u001b[0m\u001b[0;34m\u001b[0m\u001b[0;34m\u001b[0m\u001b[0m\n",
            "\u001b[0;31mTypeError\u001b[0m: int() argument must be a string, a bytes-like object or a number, not 'NoneType'"
          ]
        }
      ]
    },
    {
      "cell_type": "markdown",
      "metadata": {
        "id": "Ueq9IQGe3LMj"
      },
      "source": [
        "Of course, you still need to crop both kilograms and grams so the numbers do not \"overlap\". You can turn the one to int, thus dropping the decimal digits, and take the other modulo 1000 to drop everything in excess of one kilogram.\n",
        "\n",
        "Your syntax error seems to come from a missing ) in the input line.\n",
        "\n",
        "You conversion from pounds to kilograms is wrong, it should be / 2.2, not * 2.2\n",
        "\n",
        "Those function parameters make no sense; you calculate those inside the function.\n",
        "\n",
        "**Instead, you should pass the pounds to the function and return the kilograms and grams and do the input and printing stuff outside of the conversion function.**"
      ]
    },
    {
      "cell_type": "code",
      "metadata": {
        "id": "_sFBo3cr2Qsl",
        "colab": {
          "base_uri": "https://localhost:8080/",
          "height": 52
        },
        "outputId": "0999f890-9c16-44f8-c88d-bb4238ee82fe"
      },
      "source": [
        "def poundsToMetric(pounds):\n",
        "    kilograms = pounds / 2.2\n",
        "    grams = kilograms * 1000\n",
        "    return int(kilograms), grams % 1000\n",
        "\n",
        "pounds = float(input(\"How many Pounds? \"))\n",
        "kg, g = poundsToMetric(pounds)\n",
        "print('The amount of pounds you entered is {}. '\\\n",
        "'This is {} kilograms and {} grams.'.format(pounds, kg, g))"
      ],
      "execution_count": null,
      "outputs": [
        {
          "output_type": "stream",
          "text": [
            "How many Pounds? 32\n",
            "The amount of pounds you entered is 32.0. This is 14 kilograms and 545.4545454545441 grams.\n"
          ],
          "name": "stdout"
        }
      ]
    },
    {
      "cell_type": "code",
      "metadata": {
        "id": "FMju2VH328kM"
      },
      "source": [
        "def poundsToMetricFunction(kilograms, grams):\n",
        "    #You were missing a bracket on the following line\n",
        "    pounds = float(input(\"enter the amount of pounds:  \"))\n",
        "    kilograms = pounds * 2.2\n",
        "    grams = kilograms * 1000\n",
        "\n",
        "    print('The amount of pounds you entered is ', pounds,\n",
        "          ' This is ', kilograms, ' kilograms ', 'and', grams,\n",
        "          'grams' )"
      ],
      "execution_count": null,
      "outputs": []
    },
    {
      "cell_type": "markdown",
      "metadata": {
        "id": "5tj4TWx0ZgYz"
      },
      "source": [
        "**String**\n",
        "\n",
        "---\n",
        "\n"
      ]
    },
    {
      "cell_type": "markdown",
      "metadata": {
        "id": "fwAHJNItaFg0"
      },
      "source": [
        "Double cotation\n",
        "\n",
        "---\n",
        "\n"
      ]
    },
    {
      "cell_type": "code",
      "metadata": {
        "id": "epDY9aBLZjs-",
        "colab": {
          "base_uri": "https://localhost:8080/",
          "height": 34
        },
        "outputId": "0d4b8df5-6326-4a35-e16b-74d2f8901a14"
      },
      "source": [
        "Course = \"Python's course complete\"\n",
        "print(Course)"
      ],
      "execution_count": null,
      "outputs": [
        {
          "output_type": "stream",
          "text": [
            "Python's course complete\n"
          ],
          "name": "stdout"
        }
      ]
    },
    {
      "cell_type": "markdown",
      "metadata": {
        "id": "yJLd_ldiaKAH"
      },
      "source": [
        "Single cotation\n",
        "\n",
        "---\n",
        "\n"
      ]
    },
    {
      "cell_type": "code",
      "metadata": {
        "id": "ldsKaduqZ69n",
        "colab": {
          "base_uri": "https://localhost:8080/",
          "height": 34
        },
        "outputId": "a0b480d5-a6c9-488d-fa73-760b0f7276ba"
      },
      "source": [
        "Course = 'Python course complete'\n",
        "print(Course)"
      ],
      "execution_count": null,
      "outputs": [
        {
          "output_type": "stream",
          "text": [
            "Python course complete\n"
          ],
          "name": "stdout"
        }
      ]
    },
    {
      "cell_type": "code",
      "metadata": {
        "id": "Z5suSutLaTMV",
        "colab": {
          "base_uri": "https://localhost:8080/",
          "height": 34
        },
        "outputId": "9bf9c84b-addb-437f-fd0f-cda05a913e54"
      },
      "source": [
        "Course = 'Python course \"complete\"'\n",
        "print(Course)"
      ],
      "execution_count": null,
      "outputs": [
        {
          "output_type": "stream",
          "text": [
            "Python course \"complete\"\n"
          ],
          "name": "stdout"
        }
      ]
    },
    {
      "cell_type": "markdown",
      "metadata": {
        "id": "Xn9pmurWaNJg"
      },
      "source": [
        "3 cotation\n",
        "\n",
        "---\n",
        "\n"
      ]
    },
    {
      "cell_type": "code",
      "metadata": {
        "id": "jjhGvpzYaCzV",
        "colab": {
          "base_uri": "https://localhost:8080/",
          "height": 193
        },
        "outputId": "4d1d7f4c-9875-49e3-d747-fd23161239c5"
      },
      "source": [
        "Course = '''\n",
        "Hi Faruq,\n",
        "\n",
        "Here is our first email to you.\n",
        "\n",
        "Thank you,\n",
        "The support team\n",
        "\n",
        "\n",
        "'''\n",
        "print(Course)"
      ],
      "execution_count": null,
      "outputs": [
        {
          "output_type": "stream",
          "text": [
            "\n",
            "Hi Faruq,\n",
            "\n",
            "Here is our first email to you.\n",
            "\n",
            "Thank you,\n",
            "The support team\n",
            "\n",
            "\n",
            "\n"
          ],
          "name": "stdout"
        }
      ]
    },
    {
      "cell_type": "markdown",
      "metadata": {
        "id": "8ckPuCpGbDSI"
      },
      "source": [
        "**get a character and a given index in this string.**\n",
        "\n",
        "---\n",
        "\n",
        "\n",
        "\n",
        "...so to get the first character we use square brakets..."
      ]
    },
    {
      "cell_type": "code",
      "metadata": {
        "id": "BdXD17LEbdbm",
        "colab": {
          "base_uri": "https://localhost:8080/",
          "height": 34
        },
        "outputId": "c029a3be-7246-4780-8afb-a29b2272b1d5"
      },
      "source": [
        "Course = 'Python course complete'\n",
        "print(Course[0])"
      ],
      "execution_count": null,
      "outputs": [
        {
          "output_type": "stream",
          "text": [
            "P\n"
          ],
          "name": "stdout"
        }
      ]
    },
    {
      "cell_type": "markdown",
      "metadata": {
        "id": "hWZhyD5ZcULL"
      },
      "source": [
        "/...now we have negative index we can get the characters starting from the end. So if i pass negative 1 here( **Assuming that 0 is the index of the first character** ) and ( **negative 1 is the index of the last character**. )"
      ]
    },
    {
      "cell_type": "code",
      "metadata": {
        "id": "kch9pQ1ofjAv",
        "colab": {
          "base_uri": "https://localhost:8080/",
          "height": 210
        },
        "outputId": "3136e22d-0fad-4b74-df22-7a107016ca1f"
      },
      "source": [
        "Course = 'Python course complete'\n",
        "print(Course[-1])\n",
        "print(Course[-2])\n",
        "print(Course[-3])\n",
        "print(Course[-4])\n",
        "print(Course[-5])\n",
        "print(Course[-6])\n",
        "print(Course[-7])\n",
        "print(Course[-8])\n",
        "print(Course[-9])\n",
        "print(Course[-10])\n",
        "print(Course[-11])"
      ],
      "execution_count": null,
      "outputs": [
        {
          "output_type": "stream",
          "text": [
            "e\n",
            "t\n",
            "e\n",
            "l\n",
            "p\n",
            "m\n",
            "o\n",
            "c\n",
            " \n",
            "e\n",
            "s\n"
          ],
          "name": "stdout"
        }
      ]
    },
    {
      "cell_type": "markdown",
      "metadata": {
        "id": "CEPKeHbDg-sI"
      },
      "source": [
        "//.....Now syntax to extract a few character insted of 1 character....///\n",
        "\n",
        "here python interpreter will return all the characters.starting 0(p) with this index all the way to this second index but it does not return the character at this index 3(h) not print"
      ]
    },
    {
      "cell_type": "code",
      "metadata": {
        "id": "49-MT2FlhUrT",
        "colab": {
          "base_uri": "https://localhost:8080/",
          "height": 34
        },
        "outputId": "b8c38d3b-c6f5-4b6d-b2d2-ccf9fe1ec906"
      },
      "source": [
        "Course = 'Python course complete'\n",
        "print(Course[0:3])"
      ],
      "execution_count": null,
      "outputs": [
        {
          "output_type": "stream",
          "text": [
            "Pyt\n"
          ],
          "name": "stdout"
        }
      ]
    },
    {
      "cell_type": "markdown",
      "metadata": {
        "id": "XVhDVHx-iLa7"
      },
      "source": [
        "Now we have default value int he start and end index. So if we don't supply end index . python supply will return all the characters to the end of the string."
      ]
    },
    {
      "cell_type": "code",
      "metadata": {
        "id": "33btb3lmig12",
        "colab": {
          "base_uri": "https://localhost:8080/",
          "height": 34
        },
        "outputId": "01db9c5d-9502-45a6-d794-124722a096b1"
      },
      "source": [
        "Course = 'Python course complete'\n",
        "print(Course[0:])"
      ],
      "execution_count": null,
      "outputs": [
        {
          "output_type": "stream",
          "text": [
            "Python course complete\n"
          ],
          "name": "stdout"
        }
      ]
    },
    {
      "cell_type": "code",
      "metadata": {
        "id": "oNhKOX4qik9d",
        "colab": {
          "base_uri": "https://localhost:8080/",
          "height": 34
        },
        "outputId": "f94c718f-6de6-459e-eb59-66c6d87f0e4d"
      },
      "source": [
        "Course = 'Python course complete'\n",
        "print(Course[1:])"
      ],
      "execution_count": null,
      "outputs": [
        {
          "output_type": "stream",
          "text": [
            "ython course complete\n"
          ],
          "name": "stdout"
        }
      ]
    },
    {
      "cell_type": "code",
      "metadata": {
        "id": "tsGOfSBkinc_",
        "colab": {
          "base_uri": "https://localhost:8080/",
          "height": 34
        },
        "outputId": "484a7625-46a9-487d-97ba-c09176cfd795"
      },
      "source": [
        "Course = 'Python course complete'\n",
        "print(Course[:6])"
      ],
      "execution_count": null,
      "outputs": [
        {
          "output_type": "stream",
          "text": [
            "Python\n"
          ],
          "name": "stdout"
        }
      ]
    },
    {
      "cell_type": "code",
      "metadata": {
        "id": "CI_Hc5ewiuS9",
        "colab": {
          "base_uri": "https://localhost:8080/",
          "height": 34
        },
        "outputId": "faa04a7e-8b92-4004-ed69-7af6cd927adb"
      },
      "source": [
        "Course = 'Python course complete'\n",
        "print(Course[0:6])"
      ],
      "execution_count": null,
      "outputs": [
        {
          "output_type": "stream",
          "text": [
            "Python\n"
          ],
          "name": "stdout"
        }
      ]
    },
    {
      "cell_type": "markdown",
      "metadata": {
        "id": "NT9yIHCPi8nV"
      },
      "source": [
        "define another variable here "
      ]
    },
    {
      "cell_type": "code",
      "metadata": {
        "id": "0dPMQ8AkiwjU",
        "colab": {
          "base_uri": "https://localhost:8080/",
          "height": 34
        },
        "outputId": "fb93ef56-fc43-411a-a91c-67f59756fdeb"
      },
      "source": [
        "Course = 'Python course complete'\n",
        "another = Course[:]\n",
        "print(another)"
      ],
      "execution_count": null,
      "outputs": [
        {
          "output_type": "stream",
          "text": [
            "Python course complete\n"
          ],
          "name": "stdout"
        }
      ]
    },
    {
      "cell_type": "markdown",
      "metadata": {
        "id": "jOV0Ou7ujNcd"
      },
      "source": [
        "**practice**\n",
        "\n",
        "---\n",
        "\n"
      ]
    },
    {
      "cell_type": "code",
      "metadata": {
        "id": "geF7xNa3jPvl",
        "colab": {
          "base_uri": "https://localhost:8080/",
          "height": 34
        },
        "outputId": "874a81c2-67cf-41b5-e1b4-1fb0c966ff31"
      },
      "source": [
        "name = 'Faruq Hossain'\n",
        "print(name[1:-1])"
      ],
      "execution_count": null,
      "outputs": [
        {
          "output_type": "stream",
          "text": [
            "aruq Hossai\n"
          ],
          "name": "stdout"
        }
      ]
    },
    {
      "cell_type": "markdown",
      "metadata": {
        "id": "YNXWtGMuiWLT"
      },
      "source": [
        "**Formatted String**\n",
        "\n",
        "---\n",
        "\n"
      ]
    },
    {
      "cell_type": "markdown",
      "metadata": {
        "id": "hbYcDT_EigqZ"
      },
      "source": [
        "Formatted string are particularly useful in situation where you dynamically generate some text with your variables."
      ]
    },
    {
      "cell_type": "code",
      "metadata": {
        "id": "_ivitP6miZ-6",
        "colab": {
          "base_uri": "https://localhost:8080/"
        },
        "outputId": "90b25be2-b8ba-4488-c5e6-58d68900d2ae"
      },
      "source": [
        "first ='Faruq'\n",
        "last = 'Hosssain'\n",
        "message = first + ' [' + last +'] is a coder'\n",
        "print(message)\n"
      ],
      "execution_count": null,
      "outputs": [
        {
          "output_type": "stream",
          "text": [
            "Faruq [Hosssain] is a coder\n"
          ],
          "name": "stdout"
        }
      ]
    },
    {
      "cell_type": "markdown",
      "metadata": {
        "id": "mX47DhEmZkiq"
      },
      "source": [
        "the code is complicated code because harder to visualize the output. SO someone else reading this code they have to visualize all the string concatenations in their head. This is where we use ( first + ' [' + last +'] is a coder) this is formate string \n",
        "\n",
        "they make it easier for us to visualize the output.so ( msg = f'{first} [{last}] is a coder') \n",
        "here two holes in our string. one is for the value of our first name variable and the other is for the value of the last name variable.\n",
        "\n",
        "But compare this formatted string with string concatenation.this easily visualize what the output looks."
      ]
    },
    {
      "cell_type": "code",
      "metadata": {
        "colab": {
          "base_uri": "https://localhost:8080/"
        },
        "id": "9oh0eL74bBVP",
        "outputId": "809c3b59-f233-4ef6-ffdb-4fb45515e37f"
      },
      "source": [
        "first ='Faruq'\n",
        "last = 'Hosssain'\n",
        "message = first + ' [' + last +'] is a coder'\n",
        "msg = f'{first} [{last}] is a coder'\n",
        "print(message)"
      ],
      "execution_count": null,
      "outputs": [
        {
          "output_type": "stream",
          "text": [
            "Faruq [Hosssain] is a coder\n"
          ],
          "name": "stdout"
        }
      ]
    },
    {
      "cell_type": "markdown",
      "metadata": {
        "id": "83-CRuyobUXH"
      },
      "source": [
        "**String Method**\n",
        "\n",
        "---\n",
        "\n"
      ]
    },
    {
      "cell_type": "markdown",
      "metadata": {
        "id": "FvIa5YCEb8Jf"
      },
      "source": [
        "using the len function we can enforce a limit on the number of characters in an input field.\n",
        "anothere character here then its error. \n",
        "\n",
        "the len function is general purpose function.so it is not lmited to counting number of characters string."
      ]
    },
    {
      "cell_type": "code",
      "metadata": {
        "colab": {
          "base_uri": "https://localhost:8080/"
        },
        "id": "NJ6wuTHGbXui",
        "outputId": "fec9bee4-cbb7-4dd0-b8d9-9f92eba6ad42"
      },
      "source": [
        "course = 'My Name Is Faruq Hossain'\n",
        "print(len(course))"
      ],
      "execution_count": null,
      "outputs": [
        {
          "output_type": "stream",
          "text": [
            "24\n"
          ],
          "name": "stdout"
        }
      ]
    },
    {
      "cell_type": "markdown",
      "metadata": {
        "id": "yV7Ixg8zc3zn"
      },
      "source": [
        "Now show all have function for converting all these characters to upper case or lower case.so we can use here the (dot) operator"
      ]
    },
    {
      "cell_type": "code",
      "metadata": {
        "colab": {
          "base_uri": "https://localhost:8080/",
          "height": 36
        },
        "id": "DqLk4NtIdJHk",
        "outputId": "15ad7884-e5c0-41de-a8fe-57164f908e19"
      },
      "source": [
        "course = 'My Name Is Faruq Hossain'\n",
        "course.upper()"
      ],
      "execution_count": null,
      "outputs": [
        {
          "output_type": "execute_result",
          "data": {
            "application/vnd.google.colaboratory.intrinsic+json": {
              "type": "string"
            },
            "text/plain": [
              "'MY NAME IS FARUQ HOSSAIN'"
            ]
          },
          "metadata": {
            "tags": []
          },
          "execution_count": 7
        }
      ]
    },
    {
      "cell_type": "code",
      "metadata": {
        "colab": {
          "base_uri": "https://localhost:8080/"
        },
        "id": "N0fkTk3edbF2",
        "outputId": "ebd819d4-fadf-4e68-eeaa-89f277748602"
      },
      "source": [
        "course = 'My Name Is Faruq Hossain'\n",
        "print(course.upper())"
      ],
      "execution_count": null,
      "outputs": [
        {
          "output_type": "stream",
          "text": [
            "MY NAME IS FARUQ HOSSAIN\n"
          ],
          "name": "stdout"
        }
      ]
    },
    {
      "cell_type": "markdown",
      "metadata": {
        "id": "kgbryhvRdTj-"
      },
      "source": [
        "lower case"
      ]
    },
    {
      "cell_type": "code",
      "metadata": {
        "colab": {
          "base_uri": "https://localhost:8080/",
          "height": 36
        },
        "id": "QsctMV_2dS4u",
        "outputId": "ad7f03b2-f119-40cb-fc62-0c881ccc1457"
      },
      "source": [
        "course = 'My Name Is Faruq Hossain'\n",
        "course.lower()"
      ],
      "execution_count": null,
      "outputs": [
        {
          "output_type": "execute_result",
          "data": {
            "application/vnd.google.colaboratory.intrinsic+json": {
              "type": "string"
            },
            "text/plain": [
              "'my name is faruq hossain'"
            ]
          },
          "metadata": {
            "tags": []
          },
          "execution_count": 8
        }
      ]
    },
    {
      "cell_type": "code",
      "metadata": {
        "colab": {
          "base_uri": "https://localhost:8080/"
        },
        "id": "47fkTnuXdg6X",
        "outputId": "b8f05fff-fca4-4ec0-9eb4-e92004ac1350"
      },
      "source": [
        "course = 'My Name Is Faruq Hossain'\n",
        "print(course.lower())"
      ],
      "execution_count": null,
      "outputs": [
        {
          "output_type": "stream",
          "text": [
            "my name is faruq hossain\n"
          ],
          "name": "stdout"
        }
      ]
    },
    {
      "cell_type": "markdown",
      "metadata": {
        "id": "ziYyS3-sdnvG"
      },
      "source": [
        "sequence"
      ]
    },
    {
      "cell_type": "markdown",
      "metadata": {
        "id": "1vk_sMevd4Kv"
      },
      "source": [
        "find method is case sensitive, so its to lowercase and uppercase character"
      ]
    },
    {
      "cell_type": "code",
      "metadata": {
        "colab": {
          "base_uri": "https://localhost:8080/"
        },
        "id": "uHyIsnwSdnEo",
        "outputId": "2dcde93e-a488-4add-ea87-7e3f059ae675"
      },
      "source": [
        "course = 'My Name Is Faruq Hossain'\n",
        "print(course.find('N'))"
      ],
      "execution_count": null,
      "outputs": [
        {
          "output_type": "stream",
          "text": [
            "3\n"
          ],
          "name": "stdout"
        }
      ]
    },
    {
      "cell_type": "markdown",
      "metadata": {
        "id": "GIGB5E9heKnn"
      },
      "source": [
        "here is no uppercase O "
      ]
    },
    {
      "cell_type": "code",
      "metadata": {
        "colab": {
          "base_uri": "https://localhost:8080/"
        },
        "id": "N8f-8RZoeFDY",
        "outputId": "697d1f8b-2488-487b-cb6e-7260f3d77722"
      },
      "source": [
        "course = 'My Name Is Faruq Hossain'\n",
        "print(course.find('O'))"
      ],
      "execution_count": null,
      "outputs": [
        {
          "output_type": "stream",
          "text": [
            "-1\n"
          ],
          "name": "stdout"
        }
      ]
    },
    {
      "cell_type": "markdown",
      "metadata": {
        "id": "jpTfW_usfx_l"
      },
      "source": [
        "Hossain start 17"
      ]
    },
    {
      "cell_type": "code",
      "metadata": {
        "colab": {
          "base_uri": "https://localhost:8080/"
        },
        "id": "DgXkStSsfo23",
        "outputId": "4e3008a2-7fc4-47c3-a3da-4f8131376a9b"
      },
      "source": [
        "course = 'My Name Is Faruq Hossain'\n",
        "print(course.find('Hossain'))"
      ],
      "execution_count": null,
      "outputs": [
        {
          "output_type": "stream",
          "text": [
            "17\n"
          ],
          "name": "stdout"
        }
      ]
    },
    {
      "cell_type": "markdown",
      "metadata": {
        "id": "pAG5KFDAf2oG"
      },
      "source": [
        "method replracing a character or a sequence of characters.so that is called replace"
      ]
    },
    {
      "cell_type": "code",
      "metadata": {
        "colab": {
          "base_uri": "https://localhost:8080/"
        },
        "id": "LcEZOAp3gCTn",
        "outputId": "1ac8bf9a-ed93-4a8e-c685-22b3f8a9f9e8"
      },
      "source": [
        "course = 'My Name Is Faruq Hossain'\n",
        "print(course.replace('Hossain','Absolute Hossain'))"
      ],
      "execution_count": null,
      "outputs": [
        {
          "output_type": "stream",
          "text": [
            "My Name Is Faruq Absolute Hossain\n"
          ],
          "name": "stdout"
        }
      ]
    },
    {
      "cell_type": "code",
      "metadata": {
        "colab": {
          "base_uri": "https://localhost:8080/"
        },
        "id": "JYC6lAEBglHW",
        "outputId": "e1f58395-ae92-4b52-d90d-ad6e6491cae2"
      },
      "source": [
        "course = 'My Name Is Faruq Hossain'\n",
        "print(course.replace('F','H'))"
      ],
      "execution_count": null,
      "outputs": [
        {
          "output_type": "stream",
          "text": [
            "My Name Is Haruq Hossain\n"
          ],
          "name": "stdout"
        }
      ]
    },
    {
      "cell_type": "markdown",
      "metadata": {
        "id": "5uzVe6UGg9OT"
      },
      "source": [
        "There time you want to check the existing of a character or sequence of character in your string . In those situations you see the in operator\n",
        "\n",
        "so lets say you to know if this string contins the word python\n",
        "\n",
        "('I am Faruq') its true or false its find the expression is boolean expression."
      ]
    },
    {
      "cell_type": "markdown",
      "metadata": {
        "id": "lvWmS9JAiOKV"
      },
      "source": [
        "now note that the different between the (in) operator and the find method is that our find method returns the index of character or sequence of characters but the i(in ) operator produces a boolean value"
      ]
    },
    {
      "cell_type": "code",
      "metadata": {
        "colab": {
          "base_uri": "https://localhost:8080/"
        },
        "id": "7rA3g_sahp8d",
        "outputId": "37b8a75a-68ff-4efa-b6f8-9397249e1ddb"
      },
      "source": [
        "course = 'My Name Is Faruq Hossain'\n",
        "print('Python' in course)"
      ],
      "execution_count": null,
      "outputs": [
        {
          "output_type": "stream",
          "text": [
            "False\n"
          ],
          "name": "stdout"
        }
      ]
    },
    {
      "cell_type": "code",
      "metadata": {
        "colab": {
          "base_uri": "https://localhost:8080/"
        },
        "id": "17nouOZhiHq5",
        "outputId": "fa81fc52-8bdc-4135-d274-3ebfe1f2f6f6"
      },
      "source": [
        "course = 'My Name Is Faruq Hossain'\n",
        "print('python' in course)"
      ],
      "execution_count": null,
      "outputs": [
        {
          "output_type": "stream",
          "text": [
            "False\n"
          ],
          "name": "stdout"
        }
      ]
    },
    {
      "cell_type": "code",
      "metadata": {
        "colab": {
          "base_uri": "https://localhost:8080/"
        },
        "id": "yuS7dQqiiBld",
        "outputId": "8d1d2247-9ada-47d5-f9eb-2dc577e1f7b1"
      },
      "source": [
        "course = 'My Name Is Faruq Hossain'\n",
        "print('Faruq' in course)"
      ],
      "execution_count": null,
      "outputs": [
        {
          "output_type": "stream",
          "text": [
            "True\n"
          ],
          "name": "stdout"
        }
      ]
    },
    {
      "cell_type": "markdown",
      "metadata": {
        "id": "PFGzLP7YjGpG"
      },
      "source": [
        "**Arithmetic Operator**\n",
        "\n",
        "---\n",
        "\n"
      ]
    },
    {
      "cell_type": "code",
      "metadata": {
        "colab": {
          "base_uri": "https://localhost:8080/"
        },
        "id": "cL8VfyjgkktC",
        "outputId": "de3d38d3-b2a4-4b58-bee8-23bbf4ef0c96"
      },
      "source": [
        "print(10+3)\n",
        "print(10-3)\n",
        "print(10*3)\n",
        "print(10/3)\n",
        "print(10//3)\n",
        "print(10%3)\n",
        "print(10**3)"
      ],
      "execution_count": null,
      "outputs": [
        {
          "output_type": "stream",
          "text": [
            "13\n",
            "7\n",
            "30\n",
            "3.3333333333333335\n",
            "3\n",
            "1\n",
            "1000\n"
          ],
          "name": "stdout"
        }
      ]
    },
    {
      "cell_type": "markdown",
      "metadata": {
        "id": "xAOM31wGlBQM"
      },
      "source": [
        "We have augmented assignment operator.That is very useful."
      ]
    },
    {
      "cell_type": "code",
      "metadata": {
        "colab": {
          "base_uri": "https://localhost:8080/"
        },
        "id": "s4OQXAmmlJn9",
        "outputId": "f5889067-5bb7-45f5-8717-78b3ba5d478a"
      },
      "source": [
        "x=10\n",
        "x= x+3\n",
        "print(x)"
      ],
      "execution_count": null,
      "outputs": [
        {
          "output_type": "stream",
          "text": [
            "13\n"
          ],
          "name": "stdout"
        }
      ]
    },
    {
      "cell_type": "markdown",
      "metadata": {
        "id": "uAvxXLQ_liRW"
      },
      "source": [
        "augmented assignment operator is a way to write the same code but in a shorter from .This"
      ]
    },
    {
      "cell_type": "code",
      "metadata": {
        "colab": {
          "base_uri": "https://localhost:8080/"
        },
        "id": "zsPcXBkSljtB",
        "outputId": "919cfa4c-927f-490f-842a-a0356eb76632"
      },
      "source": [
        "x=10\n",
        "x= x+3\n",
        "x +=3\n",
        "x -=3\n",
        "x *=3\n",
        "print(x)"
      ],
      "execution_count": null,
      "outputs": [
        {
          "output_type": "stream",
          "text": [
            "39\n"
          ],
          "name": "stdout"
        }
      ]
    },
    {
      "cell_type": "markdown",
      "metadata": {
        "id": "pLaKt5j3l8Z-"
      },
      "source": [
        "**Operator Precedence**\n",
        "\n",
        "---\n",
        "\n"
      ]
    },
    {
      "cell_type": "code",
      "metadata": {
        "colab": {
          "base_uri": "https://localhost:8080/"
        },
        "id": "47PFPe-Qm1Pk",
        "outputId": "fb3e2d4a-b468-48ac-9597-033b48820113"
      },
      "source": [
        "x = 10+3*2\n",
        "y = 10+3*2**2\n",
        "z = (10+3)*2**2\n",
        "ex = (2+3)* 10-3\n",
        "print(x)\n",
        "print(y)\n",
        "print(z)\n",
        "print(ex)"
      ],
      "execution_count": null,
      "outputs": [
        {
          "output_type": "stream",
          "text": [
            "16\n",
            "22\n",
            "52\n",
            "47\n"
          ],
          "name": "stdout"
        }
      ]
    },
    {
      "cell_type": "markdown",
      "metadata": {
        "id": "7c5QZaifoBZ1"
      },
      "source": [
        "**Math Function**\n",
        "\n",
        "---\n",
        "\n"
      ]
    },
    {
      "cell_type": "markdown",
      "metadata": {
        "id": "HdysRv29oMn9"
      },
      "source": [
        "use is built in round function"
      ]
    },
    {
      "cell_type": "code",
      "metadata": {
        "colab": {
          "base_uri": "https://localhost:8080/"
        },
        "id": "DRHgxNsHnXEN",
        "outputId": "af1aed5e-de25-426c-f7ea-b6a1130a4814"
      },
      "source": [
        "x = 2.9\n",
        "print(round(x))"
      ],
      "execution_count": null,
      "outputs": [
        {
          "output_type": "stream",
          "text": [
            "3\n"
          ],
          "name": "stdout"
        }
      ]
    },
    {
      "cell_type": "markdown",
      "metadata": {
        "id": "dZmhFGFjpCdE"
      },
      "source": [
        "its always returns the positive representation of this value , even if the value is negative."
      ]
    },
    {
      "cell_type": "code",
      "metadata": {
        "colab": {
          "base_uri": "https://localhost:8080/"
        },
        "id": "kxagKZJQpAEt",
        "outputId": "f7bda3bb-d8eb-452c-b627-d891ea6e67c2"
      },
      "source": [
        "x = 2.9\n",
        "print(abs(-2.9))"
      ],
      "execution_count": null,
      "outputs": [
        {
          "output_type": "stream",
          "text": [
            "2.9\n"
          ],
          "name": "stdout"
        }
      ]
    },
    {
      "cell_type": "markdown",
      "metadata": {
        "id": "08wyqMZLpZX0"
      },
      "source": [
        "how to use (module) "
      ]
    },
    {
      "cell_type": "markdown",
      "metadata": {
        "id": "SwTmMsRgpmld"
      },
      "source": [
        "math all in lowercase.with this we can import the math module. now math is an object like a string so we can access it's function or more accurately it's method using the (dot) operator."
      ]
    },
    {
      "cell_type": "code",
      "metadata": {
        "colab": {
          "base_uri": "https://localhost:8080/"
        },
        "id": "lg_D-gj9pf6R",
        "outputId": "5714cd77-dfa7-4b70-869d-b02a2136b330"
      },
      "source": [
        "import math\n",
        "print(math.ceil(2.9))"
      ],
      "execution_count": null,
      "outputs": [
        {
          "output_type": "stream",
          "text": [
            "3\n"
          ],
          "name": "stdout"
        }
      ]
    },
    {
      "cell_type": "code",
      "metadata": {
        "colab": {
          "base_uri": "https://localhost:8080/"
        },
        "id": "hTh1iBrfqSPF",
        "outputId": "1e4e4704-297d-4b35-a52a-228a627718e9"
      },
      "source": [
        "import math\n",
        "print(math.floor(2.9))"
      ],
      "execution_count": null,
      "outputs": [
        {
          "output_type": "stream",
          "text": [
            "2\n"
          ],
          "name": "stdout"
        }
      ]
    },
    {
      "cell_type": "code",
      "metadata": {
        "colab": {
          "base_uri": "https://localhost:8080/",
          "height": 185
        },
        "id": "KgniPI1YqWzw",
        "outputId": "8b5b257f-e56c-4df8-94c3-2e666ebd975d"
      },
      "source": [
        "import math\n",
        "print(math.comb(1 + 2) ** 5)"
      ],
      "execution_count": null,
      "outputs": [
        {
          "output_type": "error",
          "ename": "AttributeError",
          "evalue": "ignored",
          "traceback": [
            "\u001b[0;31m---------------------------------------------------------------------------\u001b[0m",
            "\u001b[0;31mAttributeError\u001b[0m                            Traceback (most recent call last)",
            "\u001b[0;32m<ipython-input-45-b9fb43fb8f5f>\u001b[0m in \u001b[0;36m<module>\u001b[0;34m()\u001b[0m\n\u001b[1;32m      1\u001b[0m \u001b[0;32mimport\u001b[0m \u001b[0mmath\u001b[0m\u001b[0;34m\u001b[0m\u001b[0;34m\u001b[0m\u001b[0m\n\u001b[0;32m----> 2\u001b[0;31m \u001b[0mprint\u001b[0m\u001b[0;34m(\u001b[0m\u001b[0mmath\u001b[0m\u001b[0;34m.\u001b[0m\u001b[0mcomb\u001b[0m\u001b[0;34m(\u001b[0m\u001b[0;36m1\u001b[0m \u001b[0;34m+\u001b[0m \u001b[0;36m2\u001b[0m\u001b[0;34m)\u001b[0m \u001b[0;34m**\u001b[0m \u001b[0;36m5\u001b[0m\u001b[0;34m)\u001b[0m\u001b[0;34m\u001b[0m\u001b[0;34m\u001b[0m\u001b[0m\n\u001b[0m",
            "\u001b[0;31mAttributeError\u001b[0m: module 'math' has no attribute 'comb'"
          ]
        }
      ]
    },
    {
      "cell_type": "code",
      "metadata": {
        "colab": {
          "base_uri": "https://localhost:8080/"
        },
        "id": "b1dSATfGsBw1",
        "outputId": "8501038a-aa55-42c0-f48d-015d90ebcc28"
      },
      "source": [
        "import math\n",
        "print(math.copysign(2,9))"
      ],
      "execution_count": null,
      "outputs": [
        {
          "output_type": "stream",
          "text": [
            "2.0\n"
          ],
          "name": "stdout"
        }
      ]
    },
    {
      "cell_type": "code",
      "metadata": {
        "colab": {
          "base_uri": "https://localhost:8080/"
        },
        "id": "ynlbNV1GsIBk",
        "outputId": "58324c56-8450-4704-fca5-8b7f3b51253f"
      },
      "source": [
        "import math\n",
        "print(math.copysign(1.0,-0.0))"
      ],
      "execution_count": null,
      "outputs": [
        {
          "output_type": "stream",
          "text": [
            "-1.0\n"
          ],
          "name": "stdout"
        }
      ]
    },
    {
      "cell_type": "code",
      "metadata": {
        "colab": {
          "base_uri": "https://localhost:8080/"
        },
        "id": "X8dYny5usMXM",
        "outputId": "1170bcd9-de3a-485a-94b2-213980341b27"
      },
      "source": [
        "import math\n",
        "print(math.fabs(1))"
      ],
      "execution_count": null,
      "outputs": [
        {
          "output_type": "stream",
          "text": [
            "1.0\n"
          ],
          "name": "stdout"
        }
      ]
    },
    {
      "cell_type": "code",
      "metadata": {
        "colab": {
          "base_uri": "https://localhost:8080/"
        },
        "id": "pVMBObKasXqs",
        "outputId": "dfe3a743-972d-4b7b-c2d1-01e27425cbd2"
      },
      "source": [
        "import math\n",
        "print(math.factorial(5.0))"
      ],
      "execution_count": null,
      "outputs": [
        {
          "output_type": "stream",
          "text": [
            "120\n"
          ],
          "name": "stdout"
        }
      ]
    },
    {
      "cell_type": "code",
      "metadata": {
        "colab": {
          "base_uri": "https://localhost:8080/"
        },
        "id": "GHdIyfLtscUM",
        "outputId": "35fa8fbb-7f78-44ea-bbad-bd4421a0e06f"
      },
      "source": [
        "import math\n",
        "print(math.fmod(5,7))"
      ],
      "execution_count": null,
      "outputs": [
        {
          "output_type": "stream",
          "text": [
            "5.0\n"
          ],
          "name": "stdout"
        }
      ]
    },
    {
      "cell_type": "code",
      "metadata": {
        "colab": {
          "base_uri": "https://localhost:8080/"
        },
        "id": "Ts6HUYndsiut",
        "outputId": "1e60b974-49a2-4a2f-c622-82dfe1453eb9"
      },
      "source": [
        "import math\n",
        "print(math.frexp(5))"
      ],
      "execution_count": null,
      "outputs": [
        {
          "output_type": "stream",
          "text": [
            "(0.625, 3)\n"
          ],
          "name": "stdout"
        }
      ]
    },
    {
      "cell_type": "code",
      "metadata": {
        "colab": {
          "base_uri": "https://localhost:8080/",
          "height": 185
        },
        "id": "arFsiCsEske8",
        "outputId": "1ffb50a7-c4c1-4364-8b0c-532a5fdc5196"
      },
      "source": [
        "import math\n",
        "print(math.fsum(5))"
      ],
      "execution_count": null,
      "outputs": [
        {
          "output_type": "error",
          "ename": "TypeError",
          "evalue": "ignored",
          "traceback": [
            "\u001b[0;31m---------------------------------------------------------------------------\u001b[0m",
            "\u001b[0;31mTypeError\u001b[0m                                 Traceback (most recent call last)",
            "\u001b[0;32m<ipython-input-56-58a246420159>\u001b[0m in \u001b[0;36m<module>\u001b[0;34m()\u001b[0m\n\u001b[1;32m      1\u001b[0m \u001b[0;32mimport\u001b[0m \u001b[0mmath\u001b[0m\u001b[0;34m\u001b[0m\u001b[0;34m\u001b[0m\u001b[0m\n\u001b[0;32m----> 2\u001b[0;31m \u001b[0mprint\u001b[0m\u001b[0;34m(\u001b[0m\u001b[0mmath\u001b[0m\u001b[0;34m.\u001b[0m\u001b[0mfsum\u001b[0m\u001b[0;34m(\u001b[0m\u001b[0;36m5\u001b[0m\u001b[0;34m)\u001b[0m\u001b[0;34m)\u001b[0m\u001b[0;34m\u001b[0m\u001b[0;34m\u001b[0m\u001b[0m\n\u001b[0m",
            "\u001b[0;31mTypeError\u001b[0m: 'int' object is not iterable"
          ]
        }
      ]
    },
    {
      "cell_type": "code",
      "metadata": {
        "colab": {
          "base_uri": "https://localhost:8080/"
        },
        "id": "8p2JhHitslG2",
        "outputId": "88f56ef5-08d4-4ae0-db65-9781d6cdb119"
      },
      "source": [
        "import math\n",
        "print(math.gcd(5,8))"
      ],
      "execution_count": null,
      "outputs": [
        {
          "output_type": "stream",
          "text": [
            "1\n"
          ],
          "name": "stdout"
        }
      ]
    },
    {
      "cell_type": "code",
      "metadata": {
        "colab": {
          "base_uri": "https://localhost:8080/"
        },
        "id": "Q4YD9PyfxJwz",
        "outputId": "6ad558a2-32d2-4900-8547-4dfc5e61ed5f"
      },
      "source": [
        "import math\n",
        "print(math.isclose(5,8))"
      ],
      "execution_count": null,
      "outputs": [
        {
          "output_type": "stream",
          "text": [
            "False\n"
          ],
          "name": "stdout"
        }
      ]
    },
    {
      "cell_type": "code",
      "metadata": {
        "colab": {
          "base_uri": "https://localhost:8080/"
        },
        "id": "0Oizrh-axLE0",
        "outputId": "890aeedc-aad9-4a72-bf71-89f8ea323172"
      },
      "source": [
        "import math\n",
        "print(math.isfinite(5.8))"
      ],
      "execution_count": null,
      "outputs": [
        {
          "output_type": "stream",
          "text": [
            "True\n"
          ],
          "name": "stdout"
        }
      ]
    },
    {
      "cell_type": "code",
      "metadata": {
        "colab": {
          "base_uri": "https://localhost:8080/"
        },
        "id": "QzL6b1DCxLkb",
        "outputId": "b36cbe9d-6f64-494a-bf51-3ad3f517f3c7"
      },
      "source": [
        "import math\n",
        "print(math.isinf(5.8))"
      ],
      "execution_count": null,
      "outputs": [
        {
          "output_type": "stream",
          "text": [
            "False\n"
          ],
          "name": "stdout"
        }
      ]
    },
    {
      "cell_type": "code",
      "metadata": {
        "colab": {
          "base_uri": "https://localhost:8080/"
        },
        "id": "APJKnZR6xexn",
        "outputId": "2b730c3b-4a97-4842-a12c-3b0c3fdcb980"
      },
      "source": [
        "import math\n",
        "print(math.isinf(+5.0000000))"
      ],
      "execution_count": null,
      "outputs": [
        {
          "output_type": "stream",
          "text": [
            "False\n"
          ],
          "name": "stdout"
        }
      ]
    },
    {
      "cell_type": "code",
      "metadata": {
        "colab": {
          "base_uri": "https://localhost:8080/"
        },
        "id": "Fp5KIcvpxMJQ",
        "outputId": "8d8c181b-1cdd-4f8e-b673-fbd0d506146c"
      },
      "source": [
        "import math\n",
        "print(math.isnan(5.8))"
      ],
      "execution_count": null,
      "outputs": [
        {
          "output_type": "stream",
          "text": [
            "False\n"
          ],
          "name": "stdout"
        }
      ]
    },
    {
      "cell_type": "code",
      "metadata": {
        "colab": {
          "base_uri": "https://localhost:8080/",
          "height": 185
        },
        "id": "3b89lkMZxsG0",
        "outputId": "cc37d2b5-a058-4160-8153-d60a961458dd"
      },
      "source": [
        "import math\n",
        "print(math.isqrt(3.8))"
      ],
      "execution_count": null,
      "outputs": [
        {
          "output_type": "error",
          "ename": "AttributeError",
          "evalue": "ignored",
          "traceback": [
            "\u001b[0;31m---------------------------------------------------------------------------\u001b[0m",
            "\u001b[0;31mAttributeError\u001b[0m                            Traceback (most recent call last)",
            "\u001b[0;32m<ipython-input-77-2f83b70eb550>\u001b[0m in \u001b[0;36m<module>\u001b[0;34m()\u001b[0m\n\u001b[1;32m      1\u001b[0m \u001b[0;32mimport\u001b[0m \u001b[0mmath\u001b[0m\u001b[0;34m\u001b[0m\u001b[0;34m\u001b[0m\u001b[0m\n\u001b[0;32m----> 2\u001b[0;31m \u001b[0mprint\u001b[0m\u001b[0;34m(\u001b[0m\u001b[0mmath\u001b[0m\u001b[0;34m.\u001b[0m\u001b[0misqrt\u001b[0m\u001b[0;34m(\u001b[0m\u001b[0;36m3.8\u001b[0m\u001b[0;34m)\u001b[0m\u001b[0;34m)\u001b[0m\u001b[0;34m\u001b[0m\u001b[0;34m\u001b[0m\u001b[0m\n\u001b[0m",
            "\u001b[0;31mAttributeError\u001b[0m: module 'math' has no attribute 'isqrt'"
          ]
        }
      ]
    },
    {
      "cell_type": "code",
      "metadata": {
        "colab": {
          "base_uri": "https://localhost:8080/",
          "height": 132
        },
        "id": "Q3zWQUsPxsnR",
        "outputId": "352fe8f5-03e1-4683-8a1f-53b872ab7dd0"
      },
      "source": [
        "import math\n",
        "print(math.ldexp(8*,5**8)))"
      ],
      "execution_count": null,
      "outputs": [
        {
          "output_type": "error",
          "ename": "SyntaxError",
          "evalue": "ignored",
          "traceback": [
            "\u001b[0;36m  File \u001b[0;32m\"<ipython-input-83-8ff3a1c396ab>\"\u001b[0;36m, line \u001b[0;32m2\u001b[0m\n\u001b[0;31m    print(math.ldexp(8*,5**8)))\u001b[0m\n\u001b[0m                       ^\u001b[0m\n\u001b[0;31mSyntaxError\u001b[0m\u001b[0;31m:\u001b[0m invalid syntax\n"
          ]
        }
      ]
    },
    {
      "cell_type": "code",
      "metadata": {
        "colab": {
          "base_uri": "https://localhost:8080/"
        },
        "id": "rzx_5HFsxtXG",
        "outputId": "2ae45c43-3aca-4bb1-c548-b638760a6755"
      },
      "source": [
        "import math\n",
        "print(math.modf(5.8))"
      ],
      "execution_count": null,
      "outputs": [
        {
          "output_type": "stream",
          "text": [
            "(0.7999999999999998, 5.0)\n"
          ],
          "name": "stdout"
        }
      ]
    },
    {
      "cell_type": "code",
      "metadata": {
        "colab": {
          "base_uri": "https://localhost:8080/",
          "height": 185
        },
        "id": "E3cStxclxuLT",
        "outputId": "bd09c7ff-618d-4652-9bf9-66609c13e2d6"
      },
      "source": [
        "import math\n",
        "print(math.nextafte(5,8))"
      ],
      "execution_count": null,
      "outputs": [
        {
          "output_type": "error",
          "ename": "AttributeError",
          "evalue": "ignored",
          "traceback": [
            "\u001b[0;31m---------------------------------------------------------------------------\u001b[0m",
            "\u001b[0;31mAttributeError\u001b[0m                            Traceback (most recent call last)",
            "\u001b[0;32m<ipython-input-86-4330ec9b8953>\u001b[0m in \u001b[0;36m<module>\u001b[0;34m()\u001b[0m\n\u001b[1;32m      1\u001b[0m \u001b[0;32mimport\u001b[0m \u001b[0mmath\u001b[0m\u001b[0;34m\u001b[0m\u001b[0;34m\u001b[0m\u001b[0m\n\u001b[0;32m----> 2\u001b[0;31m \u001b[0mprint\u001b[0m\u001b[0;34m(\u001b[0m\u001b[0mmath\u001b[0m\u001b[0;34m.\u001b[0m\u001b[0mnextafte\u001b[0m\u001b[0;34m(\u001b[0m\u001b[0;36m5\u001b[0m\u001b[0;34m,\u001b[0m\u001b[0;36m8\u001b[0m\u001b[0;34m)\u001b[0m\u001b[0;34m)\u001b[0m\u001b[0;34m\u001b[0m\u001b[0;34m\u001b[0m\u001b[0m\n\u001b[0m",
            "\u001b[0;31mAttributeError\u001b[0m: module 'math' has no attribute 'nextafte'"
          ]
        }
      ]
    },
    {
      "cell_type": "code",
      "metadata": {
        "colab": {
          "base_uri": "https://localhost:8080/",
          "height": 185
        },
        "id": "fbaNxqAMxuqb",
        "outputId": "9621ceca-7f70-4e78-9018-6d1a4f03860c"
      },
      "source": [
        "import math\n",
        "print(math.perm(5.8))"
      ],
      "execution_count": null,
      "outputs": [
        {
          "output_type": "error",
          "ename": "AttributeError",
          "evalue": "ignored",
          "traceback": [
            "\u001b[0;31m---------------------------------------------------------------------------\u001b[0m",
            "\u001b[0;31mAttributeError\u001b[0m                            Traceback (most recent call last)",
            "\u001b[0;32m<ipython-input-87-37870d86b43d>\u001b[0m in \u001b[0;36m<module>\u001b[0;34m()\u001b[0m\n\u001b[1;32m      1\u001b[0m \u001b[0;32mimport\u001b[0m \u001b[0mmath\u001b[0m\u001b[0;34m\u001b[0m\u001b[0;34m\u001b[0m\u001b[0m\n\u001b[0;32m----> 2\u001b[0;31m \u001b[0mprint\u001b[0m\u001b[0;34m(\u001b[0m\u001b[0mmath\u001b[0m\u001b[0;34m.\u001b[0m\u001b[0mperm\u001b[0m\u001b[0;34m(\u001b[0m\u001b[0;36m5.8\u001b[0m\u001b[0;34m)\u001b[0m\u001b[0;34m)\u001b[0m\u001b[0;34m\u001b[0m\u001b[0;34m\u001b[0m\u001b[0m\n\u001b[0m",
            "\u001b[0;31mAttributeError\u001b[0m: module 'math' has no attribute 'perm'"
          ]
        }
      ]
    },
    {
      "cell_type": "markdown",
      "metadata": {
        "id": "K6DI71tFzF8T"
      },
      "source": [
        "link another method (https://docs.python.org/3/library/math.html)"
      ]
    },
    {
      "cell_type": "markdown",
      "metadata": {
        "id": "XgomFRnAzNGK"
      },
      "source": [
        "**If Statement**\n",
        "\n",
        "---\n",
        "\n"
      ]
    },
    {
      "cell_type": "markdown",
      "metadata": {
        "id": "so-RDqL-VwbA"
      },
      "source": [
        "Example\n",
        "**If it is hot**\n",
        "*it is a hot day*\n",
        "**drink plenty of water**\n",
        "otherwise\n",
        "**if it is cold**\n",
        "*it is a cold day*\n",
        "**wear warm clothes**\n",
        "otherwise\n",
        "**it is a lovely day**"
      ]
    },
    {
      "cell_type": "code",
      "metadata": {
        "colab": {
          "base_uri": "https://localhost:8080/"
        },
        "id": "ivxHqJ43VgCy",
        "outputId": "7d69e30d-f202-4594-e5a0-890f0837e88c"
      },
      "source": [
        "is_hot = True\n",
        "if is_hot:\n",
        "  print(\"It is a hot day\")\n",
        "print(\"Enjoy your day\")"
      ],
      "execution_count": null,
      "outputs": [
        {
          "output_type": "stream",
          "text": [
            "It is a hot day\n",
            "Enjoy your day\n"
          ],
          "name": "stdout"
        }
      ]
    },
    {
      "cell_type": "code",
      "metadata": {
        "colab": {
          "base_uri": "https://localhost:8080/"
        },
        "id": "h-RG6Ydjawvl",
        "outputId": "6d9eb5df-9a57-4bed-e13a-cb6433ffd8f7"
      },
      "source": [
        "is_hot = False\n",
        "if is_hot:\n",
        "  print(\"It is a hot day\")\n",
        "print(\"Enjoy your day\")"
      ],
      "execution_count": null,
      "outputs": [
        {
          "output_type": "stream",
          "text": [
            "Enjoy your day\n"
          ],
          "name": "stdout"
        }
      ]
    },
    {
      "cell_type": "code",
      "metadata": {
        "colab": {
          "base_uri": "https://localhost:8080/"
        },
        "id": "Kh_s7mo0acx_",
        "outputId": "291657ab-30cb-4ec3-cc7e-d5444910c5f8"
      },
      "source": [
        "is_hot = True\n",
        "if is_hot:\n",
        "  print(\"It is a hot day\")\n",
        "  print(\"Drink plenty of water\")\n",
        "print(\"Enjoy your day\")"
      ],
      "execution_count": null,
      "outputs": [
        {
          "output_type": "stream",
          "text": [
            "It is a hot day\n",
            "Drink plenty of water\n",
            "Enjoy your day\n"
          ],
          "name": "stdout"
        }
      ]
    },
    {
      "cell_type": "markdown",
      "metadata": {
        "id": "l1jCEcs9bNnG"
      },
      "source": [
        "here we can see else condition is not working"
      ]
    },
    {
      "cell_type": "code",
      "metadata": {
        "colab": {
          "base_uri": "https://localhost:8080/"
        },
        "id": "8WBxxk4ea3_3",
        "outputId": "203f6fb7-85d2-4e83-d2af-cb7020ac0c3c"
      },
      "source": [
        "is_hot = True\n",
        "if is_hot:\n",
        "  print(\"It is a hot day\")\n",
        "  print(\"Drink plenty of water\")\n",
        "else:\n",
        "  print(\"It is a cold day\")\n",
        "  print(\"wear warm clothes\")\n",
        "print(\"Enjoy your day\")"
      ],
      "execution_count": null,
      "outputs": [
        {
          "output_type": "stream",
          "text": [
            "It is a hot day\n",
            "Drink plenty of water\n",
            "Enjoy your day\n"
          ],
          "name": "stdout"
        }
      ]
    },
    {
      "cell_type": "markdown",
      "metadata": {
        "id": "Wf4VwHSSbTq-"
      },
      "source": [
        "so use here is hot is false"
      ]
    },
    {
      "cell_type": "code",
      "metadata": {
        "colab": {
          "base_uri": "https://localhost:8080/"
        },
        "id": "PPboDaQSa32d",
        "outputId": "0794ffa7-5e53-4ece-a73a-37e525fbf32c"
      },
      "source": [
        "is_hot = False\n",
        "if is_hot:\n",
        "  print(\"It is a hot day\")\n",
        "  print(\"Drink plenty of water\")\n",
        "else:\n",
        "  print(\"It is a cold day\")\n",
        "  print(\"wear warm clothes\")\n",
        "print(\"Enjoy your day\")"
      ],
      "execution_count": null,
      "outputs": [
        {
          "output_type": "stream",
          "text": [
            "It is a cold day\n",
            "wear warm clothes\n",
            "Enjoy your day\n"
          ],
          "name": "stdout"
        }
      ]
    },
    {
      "cell_type": "markdown",
      "metadata": {
        "id": "H6JiFZy8bl0a"
      },
      "source": [
        "now work this process(otherwise if it is cold it is a cold day wear warm clothes otherwise it is a lovely day)"
      ]
    },
    {
      "cell_type": "code",
      "metadata": {
        "colab": {
          "base_uri": "https://localhost:8080/"
        },
        "id": "YU-WrZtgbubr",
        "outputId": "131d115b-5f1f-4f60-ab95-9c9e994db56e"
      },
      "source": [
        "is_hot = False\n",
        "is_cold = True\n",
        "if is_hot:\n",
        "  print(\"It is a hot day\")\n",
        "  print(\"Drink plenty of water\")\n",
        "elif is_cold:\n",
        "  print(\"It is a cold day\")\n",
        "  print(\"wear warm clothes\")\n",
        "else:\n",
        "  print(\"it is a lovely day\")\n",
        "print(\"Enjoy your day\")"
      ],
      "execution_count": null,
      "outputs": [
        {
          "output_type": "stream",
          "text": [
            "It is a cold day\n",
            "wear warm clothes\n",
            "Enjoy your day\n"
          ],
          "name": "stdout"
        }
      ]
    },
    {
      "cell_type": "code",
      "metadata": {
        "colab": {
          "base_uri": "https://localhost:8080/"
        },
        "id": "2-aB0w28cnHa",
        "outputId": "ca3d2d36-5552-464b-cb23-4cd96b16925e"
      },
      "source": [
        "is_hot = True\n",
        "is_cold = False\n",
        "if is_hot:\n",
        "  print(\"It is a hot day\")\n",
        "  print(\"Drink plenty of water\")\n",
        "elif is_cold:\n",
        "  print(\"It is a cold day\")\n",
        "  print(\"wear warm clothes\")\n",
        "else:\n",
        "  print(\"it is a lovely day\")\n",
        "print(\"Enjoy your day\")"
      ],
      "execution_count": null,
      "outputs": [
        {
          "output_type": "stream",
          "text": [
            "It is a hot day\n",
            "Drink plenty of water\n",
            "Enjoy your day\n"
          ],
          "name": "stdout"
        }
      ]
    },
    {
      "cell_type": "code",
      "metadata": {
        "colab": {
          "base_uri": "https://localhost:8080/"
        },
        "id": "4fXqggGodpV2",
        "outputId": "c0bd2cf1-e853-4572-da8e-5e4d31f17152"
      },
      "source": [
        "is_hot = False\n",
        "is_cold = False\n",
        "if is_hot:\n",
        "  print(\"It is a hot day\")\n",
        "  print(\"Drink plenty of water\")\n",
        "elif is_cold:\n",
        "  print(\"It is a cold day\")\n",
        "  print(\"wear warm clothes\")\n",
        "else:\n",
        "  print(\"it is a lovely day\")\n",
        "print(\"Enjoy your day\")"
      ],
      "execution_count": null,
      "outputs": [
        {
          "output_type": "stream",
          "text": [
            "it is a lovely day\n",
            "Enjoy your day\n"
          ],
          "name": "stdout"
        }
      ]
    },
    {
      "cell_type": "code",
      "metadata": {
        "colab": {
          "base_uri": "https://localhost:8080/"
        },
        "id": "q8t58v59jIhd",
        "outputId": "b308915f-14f3-456c-d080-e85a5871fde4"
      },
      "source": [
        "i = 20\n",
        "if (i == 10): \n",
        "    print (\"i is 10\") \n",
        "elif (i == 15): \n",
        "    print (\"i is 15\") \n",
        "elif (i == 20): \n",
        "    print (\"i is 20\") \n",
        "else: \n",
        "    print (\"i is not present\")"
      ],
      "execution_count": null,
      "outputs": [
        {
          "output_type": "stream",
          "text": [
            "i is 20\n"
          ],
          "name": "stdout"
        }
      ]
    },
    {
      "cell_type": "markdown",
      "metadata": {
        "id": "RNgPeSI1d0o-"
      },
      "source": [
        "Another example\n",
        "**Price of a house is $1M.**\n",
        "if buyer has good credit,\n",
        "They need to put down 10%\n",
        "**otherwise**\n",
        "they need to put down 20%\n",
        "**print the down payment**"
      ]
    },
    {
      "cell_type": "code",
      "metadata": {
        "colab": {
          "base_uri": "https://localhost:8080/"
        },
        "id": "tnuJ64jAeTPe",
        "outputId": "9dee5372-f6ba-46ca-c57b-d736b55c7126"
      },
      "source": [
        "price = 1000000\n",
        "is_good_creadit = True\n",
        "if is_good_creadit:\n",
        "  down_payment = 0.1*price\n",
        "else :\n",
        "  down_payment = 0.2*price\n",
        "print(f\"Down payment: ${down_payment}\")\n"
      ],
      "execution_count": null,
      "outputs": [
        {
          "output_type": "stream",
          "text": [
            "Down payment: $100000.0\n"
          ],
          "name": "stdout"
        }
      ]
    },
    {
      "cell_type": "markdown",
      "metadata": {
        "id": "aYn_enrVi4Be"
      },
      "source": [
        "**Nested if**\n",
        "\n",
        "---\n",
        "\n"
      ]
    },
    {
      "cell_type": "code",
      "metadata": {
        "colab": {
          "base_uri": "https://localhost:8080/"
        },
        "id": "eBQtyzh-i6hN",
        "outputId": "9184287e-9a06-4d56-93a0-07b3571e7924"
      },
      "source": [
        "i = 10\n",
        "if (i == 10): \n",
        "    #  First if statement \n",
        "    if (i < 15): \n",
        "        print (\"i is smaller than 15\") \n",
        "    # Nested - if statement \n",
        "    # Will only be executed if statement above \n",
        "    # it is true \n",
        "    if (i < 12): \n",
        "        print (\"i is smaller than 12 too\") \n",
        "    else: \n",
        "        print (\"i is greater than 15\") "
      ],
      "execution_count": null,
      "outputs": [
        {
          "output_type": "stream",
          "text": [
            "i is smaller than 15\n",
            "i is smaller than 12 too\n"
          ],
          "name": "stdout"
        }
      ]
    },
    {
      "cell_type": "code",
      "metadata": {
        "colab": {
          "base_uri": "https://localhost:8080/"
        },
        "id": "moG2k2jjytY-",
        "outputId": "05ac142d-9124-4af1-a860-87b13d21a3ff"
      },
      "source": [
        "a = 200\n",
        "b = 33\n",
        "if b > a:\n",
        "  print(\"b is greater than a\")\n",
        "elif a == b:\n",
        "  print(\"a and b are equal\")\n",
        "else:\n",
        "  print(\"a is greater than b\")"
      ],
      "execution_count": null,
      "outputs": [
        {
          "output_type": "stream",
          "text": [
            "a is greater than b\n"
          ],
          "name": "stdout"
        }
      ]
    },
    {
      "cell_type": "markdown",
      "metadata": {
        "id": "_HoXTYqXy7B4"
      },
      "source": [
        "**And**"
      ]
    },
    {
      "cell_type": "code",
      "metadata": {
        "colab": {
          "base_uri": "https://localhost:8080/"
        },
        "id": "w652PIaZy8dB",
        "outputId": "a7583153-4476-418d-d172-4b4fcd5c8765"
      },
      "source": [
        "a = 200\n",
        "b = 33\n",
        "c = 500\n",
        "if a > b and c > a:\n",
        "  print(\"Both conditions are True\")\n"
      ],
      "execution_count": null,
      "outputs": [
        {
          "output_type": "stream",
          "text": [
            "Both conditions are True\n"
          ],
          "name": "stdout"
        }
      ]
    },
    {
      "cell_type": "markdown",
      "metadata": {
        "id": "bOdEMLqtzAN7"
      },
      "source": [
        "**Or**"
      ]
    },
    {
      "cell_type": "code",
      "metadata": {
        "colab": {
          "base_uri": "https://localhost:8080/"
        },
        "id": "8ymWC0NczBaq",
        "outputId": "eebe2fa5-ce03-403e-ee79-94ea22a9625b"
      },
      "source": [
        "a = 200\n",
        "b = 33\n",
        "c = 500\n",
        "if a > b or a > c:\n",
        "  print(\"At least one of the conditions is True\")"
      ],
      "execution_count": null,
      "outputs": [
        {
          "output_type": "stream",
          "text": [
            "At least one of the conditions is True\n"
          ],
          "name": "stdout"
        }
      ]
    },
    {
      "cell_type": "markdown",
      "metadata": {
        "id": "qL-oB3upvtXD"
      },
      "source": [
        "The syntax for a nested while loop statement in Python programming language is as follows −"
      ]
    },
    {
      "cell_type": "code",
      "metadata": {
        "colab": {
          "base_uri": "https://localhost:8080/"
        },
        "id": "K-Pxl1sbvgUy",
        "outputId": "ee24da42-98dd-4a40-b351-f5d5b30f51ed"
      },
      "source": [
        "i = 2\n",
        "while(i < 100):\n",
        "   j = 2\n",
        "   while(j <= (i/j)):\n",
        "      if not(i%j): break\n",
        "      j = j + 1\n",
        "   if (j > i/j) : \n",
        "     print(i, \" is prime\")\n",
        "   i = i + 1\n",
        "\n",
        "print(\"Good bye!\") "
      ],
      "execution_count": null,
      "outputs": [
        {
          "output_type": "stream",
          "text": [
            "2  is prime\n",
            "3  is prime\n",
            "5  is prime\n",
            "7  is prime\n",
            "11  is prime\n",
            "13  is prime\n",
            "17  is prime\n",
            "19  is prime\n",
            "23  is prime\n",
            "29  is prime\n",
            "31  is prime\n",
            "37  is prime\n",
            "41  is prime\n",
            "43  is prime\n",
            "47  is prime\n",
            "53  is prime\n",
            "59  is prime\n",
            "61  is prime\n",
            "67  is prime\n",
            "71  is prime\n",
            "73  is prime\n",
            "79  is prime\n",
            "83  is prime\n",
            "89  is prime\n",
            "97  is prime\n",
            "Good bye!\n"
          ],
          "name": "stdout"
        }
      ]
    },
    {
      "cell_type": "markdown",
      "metadata": {
        "id": "6Lf_T675jXYt"
      },
      "source": [
        "**sort hand if**"
      ]
    },
    {
      "cell_type": "markdown",
      "metadata": {
        "id": "n6RY0WZKjiC0"
      },
      "source": [
        "Whenever there is only a single statement to be executed inside the if block then shorthand if can be used. The statement can be put on the same line as the if statement."
      ]
    },
    {
      "cell_type": "code",
      "metadata": {
        "colab": {
          "base_uri": "https://localhost:8080/"
        },
        "id": "oSlfWybCjb3k",
        "outputId": "54bcd707-f093-4140-87d0-648bfaa062fc"
      },
      "source": [
        "i = 10\n",
        "if i < 15: print(\"i is less than 15\") "
      ],
      "execution_count": null,
      "outputs": [
        {
          "output_type": "stream",
          "text": [
            "i is less than 15\n"
          ],
          "name": "stdout"
        }
      ]
    },
    {
      "cell_type": "markdown",
      "metadata": {
        "id": "1-ucN7nqjjaE"
      },
      "source": [
        "**short hand if else**"
      ]
    },
    {
      "cell_type": "markdown",
      "metadata": {
        "id": "lBbHkZVHjy0M"
      },
      "source": [
        "This can be used to write the if-else statements in a single line where there is only one statement to be executed in both if and else block."
      ]
    },
    {
      "cell_type": "code",
      "metadata": {
        "colab": {
          "base_uri": "https://localhost:8080/"
        },
        "id": "jHQlVr6pjvx8",
        "outputId": "375e86b4-6bd4-46d6-c448-374169c998bb"
      },
      "source": [
        "i = 10\n",
        "print(True) if i < 15 else print(False)"
      ],
      "execution_count": null,
      "outputs": [
        {
          "output_type": "stream",
          "text": [
            "True\n"
          ],
          "name": "stdout"
        }
      ]
    },
    {
      "cell_type": "markdown",
      "metadata": {
        "id": "j_TYXjtmmx7f"
      },
      "source": [
        "**While loop**"
      ]
    },
    {
      "cell_type": "markdown",
      "metadata": {
        "id": "LxI-diKJvSDg"
      },
      "source": [
        "while loops to excute a block of code multiple times and there are often useful in building interactive programs and games. "
      ]
    },
    {
      "cell_type": "code",
      "metadata": {
        "colab": {
          "base_uri": "https://localhost:8080/"
        },
        "id": "INmFNBSBvnNt",
        "outputId": "a88f1266-d38c-4d59-b7aa-bb83b737cb22"
      },
      "source": [
        "i = 1\n",
        "while i<=5:\n",
        "  print(i)\n",
        "  i=i+1\n",
        "print(\"done\")\n"
      ],
      "execution_count": null,
      "outputs": [
        {
          "output_type": "stream",
          "text": [
            "1\n",
            "2\n",
            "3\n",
            "4\n",
            "5\n",
            "done\n"
          ],
          "name": "stdout"
        }
      ]
    },
    {
      "cell_type": "code",
      "metadata": {
        "colab": {
          "base_uri": "https://localhost:8080/"
        },
        "id": "q8Vr_9O6wJOm",
        "outputId": "3789aee3-a273-4ab3-8c73-51f4474f5ac7"
      },
      "source": [
        "i = 1\n",
        "while i<=5:\n",
        "  print('*' * i)\n",
        "  i=i+1\n",
        "print(\"done\")"
      ],
      "execution_count": null,
      "outputs": [
        {
          "output_type": "stream",
          "text": [
            "*\n",
            "**\n",
            "***\n",
            "****\n",
            "*****\n",
            "done\n"
          ],
          "name": "stdout"
        }
      ]
    },
    {
      "cell_type": "markdown",
      "metadata": {
        "id": "ZUTfDvS5wiwF"
      },
      "source": [
        "**Guessing game in while loop python**"
      ]
    },
    {
      "cell_type": "markdown",
      "metadata": {
        "id": "vRXZR5lgwz52"
      },
      "source": [
        "Here the game working process"
      ]
    },
    {
      "cell_type": "markdown",
      "metadata": {
        "id": "ElvaCjAyw4hN"
      },
      "source": [
        "So here the secrect number is 9 . Now computer is asking me to make a guess. So, 1st gess 1 then 2 then 3 here not fint my number so. u faield the game. and you only have 3 chances to make a guess. If can not guess the number the program tells me that i faielled."
      ]
    },
    {
      "cell_type": "code",
      "metadata": {
        "colab": {
          "base_uri": "https://localhost:8080/"
        },
        "id": "OfS2XIog0Oju",
        "outputId": "f3186af7-c535-4785-dad3-edac4ca6d39a"
      },
      "source": [
        "secret_number = 9\n",
        "guess_count = 0                     #guess_count represent the number of guesses the use has made\n",
        "guess_limit = 3\n",
        "\n",
        "while guess_count < guess_limit:\n",
        "  guess = int(input('GUess :'))     #here (int) use because the users enters comes out as a string so we need to convert it to an integer.\n",
        "  guess_count +=1                   #increment the guess_count\n",
        "  if guess == secret_number:\n",
        "    print('You Won!...')\n",
        "    break\n",
        "else:\n",
        "  print('Sorry, You Faield The Game...')"
      ],
      "execution_count": null,
      "outputs": [
        {
          "output_type": "stream",
          "text": [
            "GUess :1\n",
            "GUess :2\n",
            "GUess :3\n",
            "Sorry, You Faield The Game...\n"
          ],
          "name": "stdout"
        }
      ]
    },
    {
      "cell_type": "code",
      "metadata": {
        "colab": {
          "base_uri": "https://localhost:8080/"
        },
        "id": "nbOBgzyEwnUK",
        "outputId": "945eb43c-412c-4fd7-dd5f-49e6e0bdb50f"
      },
      "source": [
        "secret_number = 9\n",
        "guess_count = 0\n",
        "guess_limit = 3\n",
        "while guess_count < guess_limit:\n",
        "  guess = int(input('GUess :'))\n",
        "  guess_count +=1\n",
        "  if guess == secret_number:\n",
        "    print('You Win...')\n",
        "    break\n",
        "else:\n",
        "  print('You Faield The Game...')\n"
      ],
      "execution_count": null,
      "outputs": [
        {
          "output_type": "stream",
          "text": [
            "GUess :1\n",
            "GUess :2\n",
            "GUess :3\n",
            "You Faield The Game...\n"
          ],
          "name": "stdout"
        }
      ]
    },
    {
      "cell_type": "markdown",
      "metadata": {
        "id": "qN7nfWR94rTE"
      },
      "source": [
        "**Another**"
      ]
    },
    {
      "cell_type": "code",
      "metadata": {
        "colab": {
          "base_uri": "https://localhost:8080/"
        },
        "id": "W3JV__GU4tvo",
        "outputId": "12152f66-a155-4964-e540-c509bf338a2e"
      },
      "source": [
        "from random import randint\n",
        "guesses = 1\n",
        "number = randint(1,10)\n",
        "\n",
        "guess = int (input(\"Gusses the number between 1 to 100.\\n\"))\n",
        "\n",
        "while guess!=number:\n",
        "  if guess < number:\n",
        "    print(\"Your guess too low.\\n\")\n",
        "    guess = int (input(\"Guess again!. \\n\"))\n",
        "\n",
        "    guesses = guesses + 1\n",
        "  elif guess > number:\n",
        "    print(\"Your guess was too high.\\n\")\n",
        "    guess = int (input(\"Guess again!. \\n\"))\n",
        "    guesses = guesses+1\n",
        "print()\n",
        "print(\"Congratulations, you guess the number!. \\n\")\n",
        "print(\"It only took you\", guesses,\"guesses!.\\n\")\n"
      ],
      "execution_count": null,
      "outputs": [
        {
          "output_type": "stream",
          "text": [
            "Gusses the number between 1 to 100.\n",
            "1\n",
            "Your guess too low.\n",
            "\n",
            "Guess again!. \n",
            "2\n",
            "Your guess too low.\n",
            "\n",
            "Guess again!. \n",
            "3\n",
            "Your guess too low.\n",
            "\n",
            "Guess again!. \n",
            "4\n",
            "\n",
            "Congratulations, you guess the number!. \n",
            "\n",
            "It only took you 4 guesses!.\n",
            "\n"
          ],
          "name": "stdout"
        }
      ]
    },
    {
      "cell_type": "markdown",
      "metadata": {
        "id": "RDu6x2hf8l0S"
      },
      "source": [
        "**Car Game**\n",
        "\n",
        "---\n",
        "\n"
      ]
    },
    {
      "cell_type": "markdown",
      "metadata": {
        "id": "dGMW_hbc9EBn"
      },
      "source": [
        "this game doen not have a graphical user interface or gooy"
      ]
    },
    {
      "cell_type": "code",
      "metadata": {
        "colab": {
          "base_uri": "https://localhost:8080/"
        },
        "id": "CTKToXQA8swJ",
        "outputId": "1de1b193-9e24-4dbd-995e-3d06984c9a48"
      },
      "source": [
        "command = \"\"\n",
        "while command!= \"quit\":\n",
        "  command = input(\">\").lower()\n",
        "  if command == \"start\":\n",
        "    print(\"Car Started...\")\n",
        "  elif command == \"stop\":\n",
        "    print(\"Car Stopped...\")\n",
        "  elif command == \"help\":\n",
        "    print(\"\"\"\n",
        "    start- to start the car\n",
        "    stop - to stop the car\n",
        "    quit - to quit\n",
        "    \"\"\")\n",
        "  else:\n",
        "    print(\"Sorry, I don't understand!\")\n"
      ],
      "execution_count": null,
      "outputs": [
        {
          "output_type": "stream",
          "text": [
            ">start\n",
            "Car Started...\n",
            ">stop\n",
            "Car Stopped...\n",
            ">help\n",
            "\n",
            "    start- to start the car\n",
            "    stop - to stop the car\n",
            "    quit - to quit\n",
            "    \n",
            ">quit\n",
            "Sorry, I don't understand!\n"
          ],
          "name": "stdout"
        }
      ]
    },
    {
      "cell_type": "markdown",
      "metadata": {
        "id": "_qP7PvESCCyk"
      },
      "source": [
        "now here we can see we run the program quit then show the \"**Sorry, I don't understand!\"** *now to to remove and just show quit dont show another message* "
      ]
    },
    {
      "cell_type": "code",
      "metadata": {
        "colab": {
          "base_uri": "https://localhost:8080/"
        },
        "id": "-mBOXYHNCGRi",
        "outputId": "4c2484c4-e51a-4510-9183-30a33798f0d4"
      },
      "source": [
        "command = \"\"\n",
        "while command!= \"quit\":\n",
        "  command = input(\">\").lower()\n",
        "  if command == \"start\":\n",
        "    print(\"Car Started...\")\n",
        "  elif command == \"stop\":\n",
        "    print(\"Car Stopped...\")\n",
        "  elif command == \"help\":\n",
        "    print(\"\"\"\n",
        "    start- to start the car\n",
        "    stop - to stop the car\n",
        "    quit - to quit\n",
        "    \"\"\")\n",
        "  else:\n",
        "    print(\"Sorry, I don't understand!\")"
      ],
      "execution_count": null,
      "outputs": [
        {
          "output_type": "stream",
          "text": [
            ">quit\n",
            "Sorry, I don't understand!\n"
          ],
          "name": "stdout"
        }
      ]
    },
    {
      "cell_type": "markdown",
      "metadata": {
        "id": "y1aiKJP7ChFM"
      },
      "source": [
        "**now remove quit message **just change just before last else block and add another **elif command == \"quit\" break** this will so our problem but note that have kind of repated this expression in two places.the reality we dont really need this **while command!= \"quit\":** condition with **this if statement  well more accuratly with this elif we can jump out of this loop and terminate our program** so here use **while True:** this means **this block of code is going to get executed repeatedly,until we explicitly break out of it,**"
      ]
    },
    {
      "cell_type": "code",
      "metadata": {
        "colab": {
          "base_uri": "https://localhost:8080/"
        },
        "id": "pDOtryEGCkY6",
        "outputId": "20a49e43-f94d-4880-fcc6-f8303b98cef4"
      },
      "source": [
        "command = \"\"\n",
        "while True:\n",
        "  command = input(\">\").lower()\n",
        "  if command == \"start\":\n",
        "    print(\"Car Started...\")\n",
        "  elif command == \"stop\":\n",
        "    print(\"Car Stopped...\")\n",
        "  elif command == \"help\":\n",
        "    print(\"\"\"\n",
        "    start- to start the car\n",
        "    stop - to stop the car\n",
        "    quit - to quit\n",
        "    \"\"\")\n",
        "  elif command == \"quit\":\n",
        "    break\n",
        "  else:\n",
        "    print(\"Sorry, I don't understand!\")"
      ],
      "execution_count": null,
      "outputs": [
        {
          "output_type": "stream",
          "text": [
            ">quit\n"
          ],
          "name": "stdout"
        }
      ]
    },
    {
      "cell_type": "markdown",
      "metadata": {
        "id": "1D49iMHWNLw7"
      },
      "source": [
        "**another**"
      ]
    },
    {
      "cell_type": "code",
      "metadata": {
        "colab": {
          "base_uri": "https://localhost:8080/"
        },
        "id": "6rpLx5bmm0WT",
        "outputId": "7d6f7107-131f-43ae-dcd6-477b8d71ad5a"
      },
      "source": [
        "count = 0\n",
        "while (count < 9):\n",
        "   print('The count is:', count)\n",
        "   count = count + 1\n",
        "\n",
        "print(\"Good bye!\") "
      ],
      "execution_count": null,
      "outputs": [
        {
          "output_type": "stream",
          "text": [
            "The count is: 0\n",
            "The count is: 1\n",
            "The count is: 2\n",
            "The count is: 3\n",
            "The count is: 4\n",
            "The count is: 5\n",
            "The count is: 6\n",
            "The count is: 7\n",
            "The count is: 8\n",
            "Good bye!\n"
          ],
          "name": "stdout"
        }
      ]
    },
    {
      "cell_type": "code",
      "metadata": {
        "colab": {
          "base_uri": "https://localhost:8080/",
          "height": 132
        },
        "id": "PRZh7tBfnEtF",
        "outputId": "7e4eb4de-0ba4-4723-8a91-763b94f52a91"
      },
      "source": [
        "var = 1\n",
        "while var == 1 :  # This constructs an infinite loop\n",
        " num = raw_input(\"Enter a number  :\")\n",
        "  print('You entered: ', num)\n",
        "\n",
        "print(\"Good bye!\") "
      ],
      "execution_count": null,
      "outputs": [
        {
          "output_type": "error",
          "ename": "IndentationError",
          "evalue": "ignored",
          "traceback": [
            "\u001b[0;36m  File \u001b[0;32m\"<ipython-input-48-63a47a65cb95>\"\u001b[0;36m, line \u001b[0;32m4\u001b[0m\n\u001b[0;31m    print('You entered: ', num)\u001b[0m\n\u001b[0m    ^\u001b[0m\n\u001b[0;31mIndentationError\u001b[0m\u001b[0;31m:\u001b[0m unexpected indent\n"
          ]
        }
      ]
    },
    {
      "cell_type": "markdown",
      "metadata": {
        "id": "XgLE9QkqoOqC"
      },
      "source": [
        "**The Infinite Loop**"
      ]
    },
    {
      "cell_type": "code",
      "metadata": {
        "id": "za04H__QpXsL"
      },
      "source": [
        "var = 10\n",
        "\n",
        "while var == 10:\n",
        "  num = input(\"Enter a number :\")\n",
        "  print(\"You enter :\",num)\n",
        "  print(\"Good bye!\")"
      ],
      "execution_count": null,
      "outputs": []
    },
    {
      "cell_type": "markdown",
      "metadata": {
        "id": "Cb2VQuBnoy-K"
      },
      "source": [
        "**Using else Statement with While Loop**"
      ]
    },
    {
      "cell_type": "markdown",
      "metadata": {
        "id": "UWfDDc4ao5Lr"
      },
      "source": [
        "If the else statement is used with a while loop, the else statement is executed when the condition becomes false."
      ]
    },
    {
      "cell_type": "code",
      "metadata": {
        "colab": {
          "base_uri": "https://localhost:8080/"
        },
        "id": "wfYLnmP7pM39",
        "outputId": "488ecc35-0634-4121-fea4-534e77a25a85"
      },
      "source": [
        "count = 0\n",
        "while count < 5:\n",
        "   print(count, \" is  less than 5\") \n",
        "   count = count + 1\n",
        "else:\n",
        "   print(count, \" is not less than 5\")"
      ],
      "execution_count": null,
      "outputs": [
        {
          "output_type": "stream",
          "text": [
            "0  is  less than 5\n",
            "1  is  less than 5\n",
            "2  is  less than 5\n",
            "3  is  less than 5\n",
            "4  is  less than 5\n",
            "5  is not less than 5\n"
          ],
          "name": "stdout"
        }
      ]
    },
    {
      "cell_type": "code",
      "metadata": {
        "colab": {
          "base_uri": "https://localhost:8080/"
        },
        "id": "G_D5JfyszTVZ",
        "outputId": "bf710625-9384-4f4b-8a59-3466eea9e687"
      },
      "source": [
        "i = 1\n",
        "while i < 6:\n",
        "  print(i)\n",
        "  i += 1\n",
        "else:\n",
        "  print(\"i is no longer less than 6\")"
      ],
      "execution_count": null,
      "outputs": [
        {
          "output_type": "stream",
          "text": [
            "1\n",
            "2\n",
            "3\n",
            "4\n",
            "5\n",
            "i is no longer less than 6\n"
          ],
          "name": "stdout"
        }
      ]
    },
    {
      "cell_type": "markdown",
      "metadata": {
        "id": "eJ2EYv0-pASa"
      },
      "source": [
        "**Single Statement Suites**\n",
        "\n",
        "---\n",
        "\n"
      ]
    },
    {
      "cell_type": "markdown",
      "metadata": {
        "id": "OlzwJZGtpp3e"
      },
      "source": [
        "Similar to the if statement syntax, if your while clause consists only of a single statement, it may be placed on the same line as the while header."
      ]
    },
    {
      "cell_type": "code",
      "metadata": {
        "id": "hsyAbmyxqKmj"
      },
      "source": [
        "flag = 1\n",
        "while (flag): \n",
        "  print('Given flag is really true!')\n",
        "print(\"Good bye!\")"
      ],
      "execution_count": null,
      "outputs": []
    },
    {
      "cell_type": "markdown",
      "metadata": {
        "id": "aYmPdhtFqf42"
      },
      "source": [
        "**For loop**\n",
        "\n",
        "\n"
      ]
    },
    {
      "cell_type": "code",
      "metadata": {
        "colab": {
          "base_uri": "https://localhost:8080/"
        },
        "id": "mC0v0vGIKrE-",
        "outputId": "d21dd4ec-9d54-4c59-f926-3f479a2b79f1"
      },
      "source": [
        "for item in \"Python\":\n",
        "  print(item)"
      ],
      "execution_count": null,
      "outputs": [
        {
          "output_type": "stream",
          "text": [
            "P\n",
            "y\n",
            "t\n",
            "h\n",
            "o\n",
            "n\n"
          ],
          "name": "stdout"
        }
      ]
    },
    {
      "cell_type": "code",
      "metadata": {
        "colab": {
          "base_uri": "https://localhost:8080/"
        },
        "id": "lSnVBXhLLPao",
        "outputId": "ff94798a-6fd0-4108-cabc-067374b8db5e"
      },
      "source": [
        "for item in ['family','faruq','meem']:\n",
        "  print(item)"
      ],
      "execution_count": null,
      "outputs": [
        {
          "output_type": "stream",
          "text": [
            "family\n",
            "faruq\n",
            "meem\n"
          ],
          "name": "stdout"
        }
      ]
    },
    {
      "cell_type": "code",
      "metadata": {
        "colab": {
          "base_uri": "https://localhost:8080/"
        },
        "id": "lpgU_uDcLb2F",
        "outputId": "e3860bea-7c03-49f5-d58e-0f38944229e0"
      },
      "source": [
        "for item in [1,2,3]:\n",
        "  print(item)"
      ],
      "execution_count": null,
      "outputs": [
        {
          "output_type": "stream",
          "text": [
            "1\n",
            "2\n",
            "3\n"
          ],
          "name": "stdout"
        }
      ]
    },
    {
      "cell_type": "code",
      "metadata": {
        "colab": {
          "base_uri": "https://localhost:8080/"
        },
        "id": "X20XYHSOMafw",
        "outputId": "0a90b4b2-d17f-48f4-a10f-1859a0defa9d"
      },
      "source": [
        "for item in [1,2,3,4,5,6,7,8]:\n",
        "  print(item)"
      ],
      "execution_count": null,
      "outputs": [
        {
          "output_type": "stream",
          "text": [
            "1\n",
            "2\n",
            "3\n",
            "4\n",
            "5\n",
            "6\n",
            "7\n",
            "8\n"
          ],
          "name": "stdout"
        }
      ]
    },
    {
      "cell_type": "markdown",
      "metadata": {
        "id": "RAaW3WV7MCJZ"
      },
      "source": [
        "larg list of number. we dont to explicitly type out a list with 100 , 1000 numbers we dont want to type 5,6 all the way to 100. that is when we use the **range dunction**"
      ]
    },
    {
      "cell_type": "code",
      "metadata": {
        "colab": {
          "base_uri": "https://localhost:8080/"
        },
        "id": "jJnNynpkL3-q",
        "outputId": "e758adc5-815c-4ff9-f038-2a7ec5edc778"
      },
      "source": [
        "for item in range(10):\n",
        "  print(item)"
      ],
      "execution_count": null,
      "outputs": [
        {
          "output_type": "stream",
          "text": [
            "0\n",
            "1\n",
            "2\n",
            "3\n",
            "4\n",
            "5\n",
            "6\n",
            "7\n",
            "8\n",
            "9\n"
          ],
          "name": "stdout"
        }
      ]
    },
    {
      "cell_type": "markdown",
      "metadata": {
        "id": "7KWIe2bJMly-"
      },
      "source": [
        "th erange function is an object,it is not a list a special kind of object we can iterate over, in each iteration this object will split out a new number,.now use another number here 5, 10"
      ]
    },
    {
      "cell_type": "code",
      "metadata": {
        "colab": {
          "base_uri": "https://localhost:8080/"
        },
        "id": "HqBFZxeoNDBq",
        "outputId": "2880aea7-7527-4034-bce3-4ebacba2a3de"
      },
      "source": [
        "for item in range(5,10):\n",
        "  print(item)"
      ],
      "execution_count": null,
      "outputs": [
        {
          "output_type": "stream",
          "text": [
            "5\n",
            "6\n",
            "7\n",
            "8\n",
            "9\n"
          ],
          "name": "stdout"
        }
      ]
    },
    {
      "cell_type": "markdown",
      "metadata": {
        "id": "xrQxLhtQNdUC"
      },
      "source": [
        "last 2 number print we can use last just 2"
      ]
    },
    {
      "cell_type": "code",
      "metadata": {
        "colab": {
          "base_uri": "https://localhost:8080/"
        },
        "id": "12Bi-P8pNitU",
        "outputId": "8f0c6b04-f294-4a4d-b109-98e2f8136b50"
      },
      "source": [
        "for item in range(5,10,2):\n",
        "  print(item)"
      ],
      "execution_count": null,
      "outputs": [
        {
          "output_type": "stream",
          "text": [
            "5\n",
            "7\n",
            "9\n"
          ],
          "name": "stdout"
        }
      ]
    },
    {
      "cell_type": "markdown",
      "metadata": {
        "id": "ZIOE11SBNqVM"
      },
      "source": [
        "**Exersice**"
      ]
    },
    {
      "cell_type": "markdown",
      "metadata": {
        "id": "JZ-zJa6XNpuX"
      },
      "source": [
        "i want to write a program to calculate the total cost of all the items in a shopping cart."
      ]
    },
    {
      "cell_type": "markdown",
      "metadata": {
        "id": "IhNjTrPjOEJh"
      },
      "source": [
        "here use for loop to calculate the total cost of all the items in our imaginary shopping cart,"
      ]
    },
    {
      "cell_type": "markdown",
      "metadata": {
        "id": "HngUlitgPHWU"
      },
      "source": [
        "**solve**use for loops over all the items in a collection. a collection can be string it can be list it can be a range object that is returned from the range function. anything any kind of object that has multiple items."
      ]
    },
    {
      "cell_type": "markdown",
      "metadata": {
        "id": "FjpPGBkAPqfa"
      },
      "source": [
        "so in this example we were to use a for **loop to iterate** over the list of prices **for item in prices :** this loop variable we do not have to call this item can call this anything, for example **for price in prices :** in this iteration **price** will hold one value. in the first iteration it is going to hold 10 items then going to be 20 and then ot is going to be 30 . so we need to define another variable to calculate the total . so we define that outside of our for loop . let's call it** total = 0**"
      ]
    },
    {
      "cell_type": "markdown",
      "metadata": {
        "id": "EA6O6TaCSdZ9"
      },
      "source": [
        "so this iteration we get the current price and add it to the total so **total += total + price** or as you learned earlier we can use the argumented assignment operator to simplify this code **+**"
      ]
    },
    {
      "cell_type": "markdown",
      "metadata": {
        "id": "d7f8sGXvTi2p"
      },
      "source": [
        "now formate string so print(f\"Total: {dynamicaly include some value in our string,**total**}"
      ]
    },
    {
      "cell_type": "code",
      "metadata": {
        "colab": {
          "base_uri": "https://localhost:8080/"
        },
        "id": "ph5F4DJ5qjR-",
        "outputId": "b4083684-114c-47c8-d226-8ee203b9d0dc"
      },
      "source": [
        "for letter in 'Python':     # First Example\n",
        "   print('Current Letter :', letter) \n",
        "\n",
        "fruits = ['banana', 'apple',  'mango']\n",
        "for fruit in fruits:        # Second Example\n",
        "   print('Current fruit :', fruit) \n",
        "\n",
        "print(\"Good bye!\")"
      ],
      "execution_count": null,
      "outputs": [
        {
          "output_type": "stream",
          "text": [
            "Current Letter : P\n",
            "Current Letter : y\n",
            "Current Letter : t\n",
            "Current Letter : h\n",
            "Current Letter : o\n",
            "Current Letter : n\n",
            "Current fruit : banana\n",
            "Current fruit : apple\n",
            "Current fruit : mango\n",
            "Good bye!\n"
          ],
          "name": "stdout"
        }
      ]
    },
    {
      "cell_type": "code",
      "metadata": {
        "colab": {
          "base_uri": "https://localhost:8080/"
        },
        "id": "V0YR0cNTqxmb",
        "outputId": "29950777-c82e-4595-b594-8d4009a736b3"
      },
      "source": [
        "\n",
        "fruits = ['banana', 'apple',  'mango']\n",
        "for fruit in fruits:        # Second Example\n",
        "   print('Current fruit :', fruit) \n",
        "   "
      ],
      "execution_count": null,
      "outputs": [
        {
          "output_type": "stream",
          "text": [
            "Current fruit : banana\n",
            "Current fruit : apple\n",
            "Current fruit : mango\n"
          ],
          "name": "stdout"
        }
      ]
    },
    {
      "cell_type": "markdown",
      "metadata": {
        "id": "TW3FyxWHrAHq"
      },
      "source": [
        "**Iterating by Sequence Index**"
      ]
    },
    {
      "cell_type": "markdown",
      "metadata": {
        "id": "lL5PP0-irBte"
      },
      "source": [
        "An alternative way of iterating through each item is by index offset into the sequence itself. Following is a simple example −\n",
        "\n"
      ]
    },
    {
      "cell_type": "code",
      "metadata": {
        "colab": {
          "base_uri": "https://localhost:8080/"
        },
        "id": "z7mUaPJ0rHQS",
        "outputId": "89dd0ae9-c271-4506-c1b7-17badc64ab2d"
      },
      "source": [
        "fruits = ['banana','apple','mango']\n",
        "for index in range(len(fruits)):\n",
        "  print('current fruit :',fruits[index])\n",
        "print('Good bye!')"
      ],
      "execution_count": null,
      "outputs": [
        {
          "output_type": "stream",
          "text": [
            "current fruit : banana\n",
            "current fruit : apple\n",
            "current fruit : mango\n",
            "Good bye!\n"
          ],
          "name": "stdout"
        }
      ]
    },
    {
      "cell_type": "code",
      "metadata": {
        "colab": {
          "base_uri": "https://localhost:8080/"
        },
        "id": "Pandle8DzdFN",
        "outputId": "adc8f5a9-99e4-40bc-b8d1-9e8963dc2aae"
      },
      "source": [
        "for x in range(6):\n",
        "  print(x)"
      ],
      "execution_count": null,
      "outputs": [
        {
          "output_type": "stream",
          "text": [
            "0\n",
            "1\n",
            "2\n",
            "3\n",
            "4\n",
            "5\n"
          ],
          "name": "stdout"
        }
      ]
    },
    {
      "cell_type": "markdown",
      "metadata": {
        "id": "_T-VrbzQzh0y"
      },
      "source": [
        "**Start parameter**"
      ]
    },
    {
      "cell_type": "code",
      "metadata": {
        "colab": {
          "base_uri": "https://localhost:8080/"
        },
        "id": "e-5R-co1zgFR",
        "outputId": "b64dafa5-4204-4914-e783-3b90eaa415c2"
      },
      "source": [
        "for x in range(2, 6):\n",
        "  print(x)"
      ],
      "execution_count": null,
      "outputs": [
        {
          "output_type": "stream",
          "text": [
            "2\n",
            "3\n",
            "4\n",
            "5\n"
          ],
          "name": "stdout"
        }
      ]
    },
    {
      "cell_type": "markdown",
      "metadata": {
        "id": "XJIbqdLUzlge"
      },
      "source": [
        "**Increment the sequence with 3 (default is 1):**"
      ]
    },
    {
      "cell_type": "code",
      "metadata": {
        "colab": {
          "base_uri": "https://localhost:8080/"
        },
        "id": "57EnDopSzmlh",
        "outputId": "6c1c20bc-c985-46e2-8a99-7a1065997ff1"
      },
      "source": [
        "for x in range(2, 30, 3):\n",
        "  print(x)"
      ],
      "execution_count": null,
      "outputs": [
        {
          "output_type": "stream",
          "text": [
            "2\n",
            "5\n",
            "8\n",
            "11\n",
            "14\n",
            "17\n",
            "20\n",
            "23\n",
            "26\n",
            "29\n"
          ],
          "name": "stdout"
        }
      ]
    },
    {
      "cell_type": "code",
      "metadata": {
        "colab": {
          "base_uri": "https://localhost:8080/"
        },
        "id": "Zjhv8dYxzsur",
        "outputId": "a0fd44b6-60ed-48ff-aa70-2c65d061746e"
      },
      "source": [
        "for x in range(6):\n",
        "  print(x)\n",
        "else:\n",
        "  print(\"Finally finished!\")"
      ],
      "execution_count": null,
      "outputs": [
        {
          "output_type": "stream",
          "text": [
            "0\n",
            "1\n",
            "2\n",
            "3\n",
            "4\n",
            "5\n",
            "Finally finished!\n"
          ],
          "name": "stdout"
        }
      ]
    },
    {
      "cell_type": "markdown",
      "metadata": {
        "id": "Y2EXiL5XuVRC"
      },
      "source": [
        "**Using else Statement with For Loop**"
      ]
    },
    {
      "cell_type": "markdown",
      "metadata": {
        "id": "uBF3y3LquX4V"
      },
      "source": [
        "If the else statement is used with a for loop, the else statement is executed when the loop has exhausted iterating the list."
      ]
    },
    {
      "cell_type": "code",
      "metadata": {
        "colab": {
          "base_uri": "https://localhost:8080/",
          "height": 308
        },
        "id": "P7jF-w0euT-O",
        "outputId": "a183c109-9178-4c52-c6f2-91ea42135ebe"
      },
      "source": [
        "for num in range(10,20):     #to iterate between 10 to 20\n",
        "   for i in range(2,num):    #to iterate on the factors of the number\n",
        "      if num%i == 0:         #to determine the first factor\n",
        "         j=num/i             #to calculate the second factor\n",
        "         print('%d equals %d * %d' % (num,i,j)) \n",
        "         break #to move to the next number, the #first FOR\n",
        "   else:                  # else part of the loop\n",
        "      print(num, 'is a prime number')\n",
        "break"
      ],
      "execution_count": null,
      "outputs": [
        {
          "output_type": "stream",
          "text": [
            "10 equals 2 * 5\n",
            "11 is a prime number\n",
            "12 equals 2 * 6\n",
            "13 is a prime number\n",
            "14 equals 2 * 7\n",
            "15 equals 3 * 5\n",
            "16 equals 2 * 8\n",
            "17 is a prime number\n",
            "18 equals 2 * 9\n",
            "19 is a prime number\n"
          ],
          "name": "stdout"
        },
        {
          "output_type": "error",
          "ename": "SyntaxError",
          "evalue": "ignored",
          "traceback": [
            "\u001b[0;36m  File \u001b[0;32m\"<ipython-input-72-cf13ec99e5db>\"\u001b[0;36m, line \u001b[0;32m9\u001b[0m\n\u001b[0;31m    break\u001b[0m\n\u001b[0m         ^\u001b[0m\n\u001b[0;31mSyntaxError\u001b[0m\u001b[0;31m:\u001b[0m 'break' outside loop\n"
          ]
        }
      ]
    },
    {
      "cell_type": "markdown",
      "metadata": {
        "id": "1rVvwKsQvcHo"
      },
      "source": [
        "**Brake statement**"
      ]
    },
    {
      "cell_type": "markdown",
      "metadata": {
        "id": "3WkVEUitwKh5"
      },
      "source": [
        "The most common use for break is when some external condition is triggered requiring a hasty exit from a loop. The break statement can be used in both while and for loops.\n",
        "\n",
        "If you are using nested loops, the break statement stops the execution of the innermost loop and start executing the next line of code after the block."
      ]
    },
    {
      "cell_type": "code",
      "metadata": {
        "colab": {
          "base_uri": "https://localhost:8080/"
        },
        "id": "t3jqvrs-wJ0x",
        "outputId": "f7f1c40e-7b6f-4948-b19f-228a615408d3"
      },
      "source": [
        "for letter in 'Python':     # First Example\n",
        "   if letter == 'h':\n",
        "      break\n",
        "   print('Current Letter :', letter) \n",
        "\n",
        "print(\"Good bye!\") "
      ],
      "execution_count": null,
      "outputs": [
        {
          "output_type": "stream",
          "text": [
            "Current Letter : P\n",
            "Current Letter : y\n",
            "Current Letter : t\n",
            "Good bye!\n"
          ],
          "name": "stdout"
        }
      ]
    },
    {
      "cell_type": "code",
      "metadata": {
        "colab": {
          "base_uri": "https://localhost:8080/"
        },
        "id": "-PI8dYaHwfp-",
        "outputId": "9a2d426d-87b0-4ba9-8816-8751e1d47852"
      },
      "source": [
        "var = 10                    # Second Example\n",
        "while var > 0:              \n",
        "   print('Current variable value :', var) \n",
        "   var = var -1\n",
        "   if var == 5:\n",
        "      break\n",
        "\n",
        "print(\"Good bye!\") "
      ],
      "execution_count": null,
      "outputs": [
        {
          "output_type": "stream",
          "text": [
            "Current variable value : 10\n",
            "Current variable value : 9\n",
            "Current variable value : 8\n",
            "Current variable value : 7\n",
            "Current variable value : 6\n",
            "Good bye!\n"
          ],
          "name": "stdout"
        }
      ]
    },
    {
      "cell_type": "markdown",
      "metadata": {
        "id": "hZOut2O8z0SR"
      },
      "source": [
        "**Nested loop**"
      ]
    },
    {
      "cell_type": "code",
      "metadata": {
        "colab": {
          "base_uri": "https://localhost:8080/"
        },
        "id": "DhoCtleXUDvA",
        "outputId": "f793d1f6-71c0-4c33-8628-02bdb2aa7f4e"
      },
      "source": [
        "prices = [10,20,30]\n",
        "\n",
        "total = 0\n",
        "for price in prices:\n",
        "  total += price\n",
        "print(f\"Total:{total}\")"
      ],
      "execution_count": null,
      "outputs": [
        {
          "output_type": "stream",
          "text": [
            "Total:60\n"
          ],
          "name": "stdout"
        }
      ]
    },
    {
      "cell_type": "markdown",
      "metadata": {
        "id": "hu4_oRIyUtRS"
      },
      "source": [
        "in these program u can see ta x value generate . but we shoud generate a few y values. so that is where we use anested loop"
      ]
    },
    {
      "cell_type": "markdown",
      "metadata": {
        "id": "V-R-c30mVbrG"
      },
      "source": [
        "this program add to middle coma look like this"
      ]
    },
    {
      "cell_type": "markdown",
      "metadata": {
        "id": "6sLj7kCcUMBL"
      },
      "source": [
        "(x,y)=(0,0)(0,1)(0,2)(1,0)(1,1)(1,2) this easily generate these coordinates using nested loops."
      ]
    },
    {
      "cell_type": "code",
      "metadata": {
        "colab": {
          "base_uri": "https://localhost:8080/"
        },
        "id": "GTJ87wXtUlZJ",
        "outputId": "81cf2914-bc88-404f-d9d5-63b2837e16ca"
      },
      "source": [
        "for x in range(4):\r\n",
        "  print(x)"
      ],
      "execution_count": null,
      "outputs": [
        {
          "output_type": "stream",
          "text": [
            "0\n",
            "1\n",
            "2\n",
            "3\n"
          ],
          "name": "stdout"
        }
      ]
    },
    {
      "cell_type": "markdown",
      "metadata": {
        "id": "l32SRbINTnO1"
      },
      "source": [
        "heding 1 loop inside of another loop "
      ]
    },
    {
      "cell_type": "markdown",
      "metadata": {
        "id": "eVpWp4EtU9Tv"
      },
      "source": [
        "so inside the 1st loop add another loop"
      ]
    },
    {
      "cell_type": "markdown",
      "metadata": {
        "id": "C9eF69pQVuif"
      },
      "source": [
        "now explain this how this program gets execudet . so 1st iteration of the **outer **loop x is 0 . now the new loop which is call inner looop"
      ]
    },
    {
      "cell_type": "code",
      "metadata": {
        "colab": {
          "base_uri": "https://localhost:8080/"
        },
        "id": "yE4pmAoDVDvw",
        "outputId": "34134f1e-7e8c-4da1-ccc8-0cc6c35aac78"
      },
      "source": [
        "for x in range(4):\r\n",
        "  for y in range(3):\r\n",
        "    print(x,y)\r\n",
        "    #print(f'{x},{y}')"
      ],
      "execution_count": null,
      "outputs": [
        {
          "output_type": "stream",
          "text": [
            "0 0\n",
            "0 1\n",
            "0 2\n",
            "1 0\n",
            "1 1\n",
            "1 2\n",
            "2 0\n",
            "2 1\n",
            "2 2\n",
            "3 0\n",
            "3 1\n",
            "3 2\n"
          ],
          "name": "stdout"
        }
      ]
    },
    {
      "cell_type": "code",
      "metadata": {
        "colab": {
          "base_uri": "https://localhost:8080/"
        },
        "id": "wVtY9qzNViD-",
        "outputId": "770c8195-a72a-44fd-9f06-dd696e1913f5"
      },
      "source": [
        "for x in range(4):\r\n",
        "  for y in range(3):\r\n",
        "    print(f'({x},{y})')"
      ],
      "execution_count": null,
      "outputs": [
        {
          "output_type": "stream",
          "text": [
            "(0,0)\n",
            "(0,1)\n",
            "(0,2)\n",
            "(1,0)\n",
            "(1,1)\n",
            "(1,2)\n",
            "(2,0)\n",
            "(2,1)\n",
            "(2,2)\n",
            "(3,0)\n",
            "(3,1)\n",
            "(3,2)\n"
          ],
          "name": "stdout"
        }
      ]
    },
    {
      "cell_type": "code",
      "metadata": {
        "colab": {
          "base_uri": "https://localhost:8080/"
        },
        "id": "V2flrrlszyZH",
        "outputId": "a5c6b5b3-c5c2-4f8f-c512-114bb2dff6ad"
      },
      "source": [
        "adj = [\"red\", \"big\", \"tasty\"]\n",
        "fruits = [\"apple\", \"banana\", \"cherry\"]\n",
        "\n",
        "for x in adj:\n",
        "  for y in fruits:\n",
        "    print(x, y)"
      ],
      "execution_count": null,
      "outputs": [
        {
          "output_type": "stream",
          "text": [
            "red apple\n",
            "red banana\n",
            "red cherry\n",
            "big apple\n",
            "big banana\n",
            "big cherry\n",
            "tasty apple\n",
            "tasty banana\n",
            "tasty cherry\n"
          ],
          "name": "stdout"
        }
      ]
    },
    {
      "cell_type": "markdown",
      "metadata": {
        "id": "aK-hj9L7E3Ol"
      },
      "source": [
        "**Exeicise**"
      ]
    },
    {
      "cell_type": "code",
      "metadata": {
        "colab": {
          "base_uri": "https://localhost:8080/"
        },
        "id": "dqFNxMNO9G4u",
        "outputId": "c8b33ef3-9072-41e3-e51d-5920c4e5515a"
      },
      "source": [
        "number = [5,2,5,2,2]\r\n",
        "for x in number:\r\n",
        "    print('x' * x)"
      ],
      "execution_count": null,
      "outputs": [
        {
          "output_type": "stream",
          "text": [
            "xxxxx\n",
            "xx\n",
            "xxxxx\n",
            "xx\n",
            "xx\n"
          ],
          "name": "stdout"
        }
      ]
    },
    {
      "cell_type": "markdown",
      "metadata": {
        "id": "by8cFwqtE6BF"
      },
      "source": [
        "**or**"
      ]
    },
    {
      "cell_type": "markdown",
      "metadata": {
        "id": "9mTJudpxAs45"
      },
      "source": [
        "here line 3 we were going to reset our output variable to an empty string. so we start over then we go to inner loop. this loop exicute 2 times. to the output variable and then print it."
      ]
    },
    {
      "cell_type": "code",
      "metadata": {
        "colab": {
          "base_uri": "https://localhost:8080/"
        },
        "id": "NM6nRAQ9AFMY",
        "outputId": "a8411c08-fe31-4154-a081-0506ae03963a"
      },
      "source": [
        "number = [5,2,5,2,2]\r\n",
        "for x in number:\r\n",
        "  output = ''\r\n",
        "  for count in range(x):\r\n",
        "    output += 'x'\r\n",
        "  print(output)"
      ],
      "execution_count": null,
      "outputs": [
        {
          "output_type": "stream",
          "text": [
            "xxxxx\n",
            "xx\n",
            "xxxxx\n",
            "xx\n",
            "xx\n"
          ],
          "name": "stdout"
        }
      ]
    },
    {
      "cell_type": "markdown",
      "metadata": {
        "id": "IwBqPg6lFRim"
      },
      "source": [
        "**List**"
      ]
    },
    {
      "cell_type": "markdown",
      "metadata": {
        "id": "kOz_5Gbzwqoi"
      },
      "source": [
        "**Continue statement**"
      ]
    },
    {
      "cell_type": "markdown",
      "metadata": {
        "id": "XDFuMMvuwyaj"
      },
      "source": [
        "It returns the control to the beginning of the while loop.. The continue statement rejects all the remaining statements in the current iteration of the loop and moves the control back to the top of the loop."
      ]
    },
    {
      "cell_type": "code",
      "metadata": {
        "colab": {
          "base_uri": "https://localhost:8080/"
        },
        "id": "HWk1wWqywzVl",
        "outputId": "3f76671b-cbcc-4157-d22d-fd001d4aee68"
      },
      "source": [
        "for letter in 'Python':     # First Example\n",
        "   if letter == 'h':\n",
        "      break\n",
        "   print('Current Letter :', letter) \n",
        "\n",
        "print(\"Good bye!\")\n",
        "\n",
        "#continue\n",
        "for letter in 'Python':     # First Example\n",
        "   if letter == 'h':\n",
        "      continue\n",
        "   print('Current Letter :', letter) \n",
        "print(\"Good bye!\") "
      ],
      "execution_count": null,
      "outputs": [
        {
          "output_type": "stream",
          "text": [
            "Current Letter : P\n",
            "Current Letter : y\n",
            "Current Letter : t\n",
            "Good bye!\n",
            "Current Letter : P\n",
            "Current Letter : y\n",
            "Current Letter : t\n",
            "Current Letter : o\n",
            "Current Letter : n\n",
            "Good bye!\n"
          ],
          "name": "stdout"
        }
      ]
    },
    {
      "cell_type": "code",
      "metadata": {
        "colab": {
          "base_uri": "https://localhost:8080/"
        },
        "id": "z0bHt2D7w6Ni",
        "outputId": "3c41c45b-3749-40bb-f539-a8b167b78fc7"
      },
      "source": [
        "var = 10                    # Second Example\n",
        "while var > 0:              \n",
        "   print('Current variable value :', var) \n",
        "   var = var -1\n",
        "   if var == 5:\n",
        "      break\n",
        "\n",
        "print(\"Good bye!\") \n",
        "\n",
        "\n",
        "var = 10                    # Second Example\n",
        "while var > 0:              \n",
        "   var = var -1\n",
        "   if var == 5:\n",
        "      continue\n",
        "   print('Current variable value :', var) \n",
        "print(\"Good bye!\") "
      ],
      "execution_count": null,
      "outputs": [
        {
          "output_type": "stream",
          "text": [
            "Current variable value : 10\n",
            "Current variable value : 9\n",
            "Current variable value : 8\n",
            "Current variable value : 7\n",
            "Current variable value : 6\n",
            "Good bye!\n",
            "Current variable value : 9\n",
            "Current variable value : 8\n",
            "Current variable value : 7\n",
            "Current variable value : 6\n",
            "Current variable value : 4\n",
            "Current variable value : 3\n",
            "Current variable value : 2\n",
            "Current variable value : 1\n",
            "Current variable value : 0\n",
            "Good bye!\n"
          ],
          "name": "stdout"
        }
      ]
    },
    {
      "cell_type": "markdown",
      "metadata": {
        "id": "PrcoUIsXx2uN"
      },
      "source": [
        "**Pass statement**"
      ]
    },
    {
      "cell_type": "markdown",
      "metadata": {
        "id": "vP3xoEpYx6eB"
      },
      "source": [
        "It is used when a statement is required syntactically but you do not want any command or code to execute.\n",
        "\n",
        "The pass statement is a null operation; nothing happens when it executes. The pass is also useful in places where your code will eventually go, but has not been written yet (e.g., in stubs for example) −"
      ]
    },
    {
      "cell_type": "code",
      "metadata": {
        "colab": {
          "base_uri": "https://localhost:8080/"
        },
        "id": "2S8mBQ75x5nk",
        "outputId": "dc674742-5d70-4f0a-b624-05537bf34346"
      },
      "source": [
        "\n",
        "for letter in 'Python': \n",
        "   if letter == 'h':\n",
        "      pass\n",
        "      print('This is pass block') \n",
        "   print('Current Letter :', letter)\n",
        "\n",
        "print(\"Good bye!\") "
      ],
      "execution_count": null,
      "outputs": [
        {
          "output_type": "stream",
          "text": [
            "Current Letter : P\n",
            "Current Letter : y\n",
            "Current Letter : t\n",
            "This is pass block\n",
            "Current Letter : h\n",
            "Current Letter : o\n",
            "Current Letter : n\n",
            "Good bye!\n"
          ],
          "name": "stdout"
        }
      ]
    },
    {
      "cell_type": "markdown",
      "metadata": {
        "id": "ss_nbOLDiOAL"
      },
      "source": [
        "**Logical Operation**\n",
        "\n",
        "---\n",
        "\n"
      ]
    },
    {
      "cell_type": "markdown",
      "metadata": {
        "id": "4s30kUk02zBg"
      },
      "source": [
        " we use the operator in situations where we have multiple operation"
      ]
    },
    {
      "cell_type": "markdown",
      "metadata": {
        "id": "frjTPOkI3BZS"
      },
      "source": [
        "For example\n",
        "**let's say where building an application for processing loans**if applicant has high income and good credit eligible for loan\n",
        "**Here 2 condition (1) high income (2)good credit.**This both condition are true then the applicant is eligible for a loan. **SO here use logical and operator.**"
      ]
    },
    {
      "cell_type": "code",
      "metadata": {
        "colab": {
          "base_uri": "https://localhost:8080/"
        },
        "id": "FqFJbU-23-fx",
        "outputId": "ab225549-aa66-4255-cbde-0d2a4eac47f2"
      },
      "source": [
        "has_high_income = True\n",
        "has_good_credit = True\n",
        "\n",
        "if has_high_income and has_good_credit:\n",
        "  print(\"Eligible for loan\")\n"
      ],
      "execution_count": null,
      "outputs": [
        {
          "output_type": "stream",
          "text": [
            "Eligible for loan\n"
          ],
          "name": "stdout"
        }
      ]
    },
    {
      "cell_type": "markdown",
      "metadata": {
        "id": "jx98j7KP4bY1"
      },
      "source": [
        "**Or** operator at least is only of the condition is true."
      ]
    },
    {
      "cell_type": "markdown",
      "metadata": {
        "id": "g6ZTOwof4tKx"
      },
      "source": [
        "if applicant has high income **or** good credit eligible for loan"
      ]
    },
    {
      "cell_type": "code",
      "metadata": {
        "colab": {
          "base_uri": "https://localhost:8080/"
        },
        "id": "3_0C1H0O4m5h",
        "outputId": "b3cbf1b8-1769-4aab-de5d-132f12ff5052"
      },
      "source": [
        "has_high_income = True\n",
        "has_good_credit = False\n",
        "\n",
        "if has_high_income or has_good_credit:\n",
        "  print(\"Eligible for loan\")"
      ],
      "execution_count": null,
      "outputs": [
        {
          "output_type": "stream",
          "text": [
            "Eligible for loan\n"
          ],
          "name": "stdout"
        }
      ]
    },
    {
      "cell_type": "code",
      "metadata": {
        "id": "z9lgyrQh44fR"
      },
      "source": [
        "has_high_income = False\n",
        "has_good_credit = False\n",
        "\n",
        "if has_high_income or has_good_credit:\n",
        "  print(\"Eligible for loan\")"
      ],
      "execution_count": null,
      "outputs": []
    },
    {
      "cell_type": "markdown",
      "metadata": {
        "id": "Jg2-BI2o5EYW"
      },
      "source": [
        "**Not**"
      ]
    },
    {
      "cell_type": "markdown",
      "metadata": {
        "id": "rOE20M2b5GTd"
      },
      "source": [
        "Inverses any boolean value we give it .if we give it true in convart it to false"
      ]
    },
    {
      "cell_type": "markdown",
      "metadata": {
        "id": "e5agrGek5WIA"
      },
      "source": [
        "Example\n"
      ]
    },
    {
      "cell_type": "markdown",
      "metadata": {
        "id": "z-Fybo9R5YPV"
      },
      "source": [
        "If applicant has good credit AND does not a criminal record then Eligible for record"
      ]
    },
    {
      "cell_type": "code",
      "metadata": {
        "id": "qVxBkDKI5mU7"
      },
      "source": [
        "has_good_credit = True\n",
        "has_criminal_record = False\n",
        "\n",
        "if has_good_credit and not has_criminal_record:\n",
        "  print(\"Eligible for loan\")"
      ],
      "execution_count": null,
      "outputs": []
    },
    {
      "cell_type": "code",
      "metadata": {
        "id": "Zb8XtKmJ6Q7D"
      },
      "source": [
        "has_good_credit = True\n",
        "has_criminal_record = True\n",
        "\n",
        "if has_good_credit and not has_criminal_record:\n",
        "  print(\"Eligible for loan\")"
      ],
      "execution_count": null,
      "outputs": []
    },
    {
      "cell_type": "markdown",
      "metadata": {
        "id": "1CeOIvcS6oOg"
      },
      "source": [
        "**AND**"
      ]
    },
    {
      "cell_type": "markdown",
      "metadata": {
        "id": "ne8az4E47hB8"
      },
      "source": [
        "Logical AND: True if both the operands are true"
      ]
    },
    {
      "cell_type": "code",
      "metadata": {
        "colab": {
          "base_uri": "https://localhost:8080/"
        },
        "id": "kEAyNSjG6mMZ",
        "outputId": "e8e08030-92e6-442a-b0e6-db50d9814b97"
      },
      "source": [
        "a = 10\n",
        "b = 10\n",
        "c = -10\n",
        "  \n",
        "if a > 0 and b > 0: \n",
        "    print(\"The numbers are greater than 0\") \n",
        "  \n",
        "if a > 0 and b > 0 and c > 0: \n",
        "    print(\"The numbers are greater than 0\") \n",
        "else: \n",
        "    print(\"Atleast one number is not greater than 0\") \n"
      ],
      "execution_count": null,
      "outputs": [
        {
          "output_type": "stream",
          "text": [
            "The numbers are greater than 0\n",
            "Atleast one number is not greater than 0\n"
          ],
          "name": "stdout"
        }
      ]
    },
    {
      "cell_type": "markdown",
      "metadata": {
        "id": "ZSqmaJ0U6xSQ"
      },
      "source": [
        "**OR**"
      ]
    },
    {
      "cell_type": "markdown",
      "metadata": {
        "id": "ntQPU0di7jQq"
      },
      "source": [
        "Logical OR: True if either of the operands is true"
      ]
    },
    {
      "cell_type": "code",
      "metadata": {
        "colab": {
          "base_uri": "https://localhost:8080/"
        },
        "id": "bYWmp0tR6yme",
        "outputId": "aedc0d99-fba5-4ecf-e465-b42e2d0f051c"
      },
      "source": [
        "a = 10\n",
        "b = -10\n",
        "c = 0\n",
        "  \n",
        "if a > 0 or b > 0: \n",
        "    print(\"Either of the number is greater than 0\") \n",
        "else: \n",
        "    print(\"No number is greater than 0\") \n",
        "  \n",
        "if b > 0 or c > 0: \n",
        "    print(\"Either of the number is greater than 0\") \n",
        "else: \n",
        "    print(\"No number is greater than 0\") "
      ],
      "execution_count": null,
      "outputs": [
        {
          "output_type": "stream",
          "text": [
            "Either of the number is greater than 0\n",
            "No number is greater than 0\n"
          ],
          "name": "stdout"
        }
      ]
    },
    {
      "cell_type": "markdown",
      "metadata": {
        "id": "XxvEy-7T6_JH"
      },
      "source": [
        "**NOT**"
      ]
    },
    {
      "cell_type": "markdown",
      "metadata": {
        "id": "h3CnyeXX7kW2"
      },
      "source": [
        "Logical NOT: True if operand is false"
      ]
    },
    {
      "cell_type": "code",
      "metadata": {
        "colab": {
          "base_uri": "https://localhost:8080/"
        },
        "id": "DkKwkvm77AwF",
        "outputId": "22a4693c-b2c0-4337-8980-c0beafc9a269"
      },
      "source": [
        "a = 10\n",
        "  \n",
        "if not a: \n",
        "    print(\"Boolean value of a is True\") \n",
        "  \n",
        "if not (a%3 == 0 or a%5 == 0): \n",
        "    print(\"10 is not divisible by either 3 or 5\") \n",
        "else: \n",
        "    print(\"10 is divisible by either 3 or 5\")"
      ],
      "execution_count": null,
      "outputs": [
        {
          "output_type": "stream",
          "text": [
            "10 is divisible by either 3 or 5\n"
          ],
          "name": "stdout"
        }
      ]
    },
    {
      "cell_type": "markdown",
      "metadata": {
        "id": "J6MJI4a37LNu"
      },
      "source": [
        "**Order of evaluation of logical operators**"
      ]
    },
    {
      "cell_type": "markdown",
      "metadata": {
        "id": "Ogmu_p3A7OLC"
      },
      "source": [
        "In the case of multiple operators, Python always evaluates the expression from left to right. This can be verified by the below example."
      ]
    },
    {
      "cell_type": "code",
      "metadata": {
        "colab": {
          "base_uri": "https://localhost:8080/"
        },
        "id": "RkDmxd2j7PHF",
        "outputId": "1baaf610-6c40-4393-af80-0b6983917bb7"
      },
      "source": [
        "def order(x): \n",
        "    print(\"Method called for value:\", x) \n",
        "    return True if x > 0 else False\n",
        "      \n",
        "a = order \n",
        "b = order \n",
        "c = order \n",
        "  \n",
        "if a(-1) or b(5) or c(10): \n",
        "    print(\"Atleast one of the number is positive\") "
      ],
      "execution_count": null,
      "outputs": [
        {
          "output_type": "stream",
          "text": [
            "Method called for value: -1\n",
            "Method called for value: 5\n",
            "Atleast one of the number is positive\n"
          ],
          "name": "stdout"
        }
      ]
    },
    {
      "cell_type": "markdown",
      "metadata": {
        "id": "SzRhpCms_jVu"
      },
      "source": [
        "**Comparism Operators**"
      ]
    },
    {
      "cell_type": "markdown",
      "metadata": {
        "id": "_QDbih79_v6F"
      },
      "source": [
        "We use comperators in operator in situation where we want to compare a variable with value"
      ]
    },
    {
      "cell_type": "markdown",
      "metadata": {
        "id": "8d97TV_S_-KO"
      },
      "source": [
        "Example"
      ]
    },
    {
      "cell_type": "markdown",
      "metadata": {
        "id": "bUiVWcxCAAyW"
      },
      "source": [
        "If temperature is greater than 30 .its a hot day. "
      ]
    },
    {
      "cell_type": "markdown",
      "metadata": {
        "id": "aOzYXOtkAMyd"
      },
      "source": [
        "otherwise if it is less than 10. it is a cold day"
      ]
    },
    {
      "cell_type": "markdown",
      "metadata": {
        "id": "NLz4hMfgATVz"
      },
      "source": [
        "otherwise it is neither hot or cold"
      ]
    },
    {
      "cell_type": "code",
      "metadata": {
        "colab": {
          "base_uri": "https://localhost:8080/"
        },
        "id": "RKcHrCJqAZMw",
        "outputId": "c7dc8bed-01a9-427a-d263-9548367585b1"
      },
      "source": [
        "temperature = 35\n",
        "if temperature > 30:\n",
        "  print(\"it is a hot day\")\n",
        "else:\n",
        "  print(\"it is not a hot day\") #temperature >30"
      ],
      "execution_count": null,
      "outputs": [
        {
          "output_type": "stream",
          "text": [
            "it is a hot day\n"
          ],
          "name": "stdout"
        }
      ]
    },
    {
      "cell_type": "code",
      "metadata": {
        "colab": {
          "base_uri": "https://localhost:8080/"
        },
        "id": "8rOkbz28A48k",
        "outputId": "515baa83-eb75-4c02-8dcc-c0a9cf631a3f"
      },
      "source": [
        "temperature = 30\n",
        "if temperature > 30:\n",
        "  print(\"it is a hot day\")\n",
        "else:\n",
        "  print(\"it is not a hot day\") "
      ],
      "execution_count": null,
      "outputs": [
        {
          "output_type": "stream",
          "text": [
            "it is not a hot day\n"
          ],
          "name": "stdout"
        }
      ]
    },
    {
      "cell_type": "code",
      "metadata": {
        "colab": {
          "base_uri": "https://localhost:8080/",
          "height": 132
        },
        "id": "eucSi_NfA9y1",
        "outputId": "9a79ef59-61e0-4bec-e910-02a11003199f"
      },
      "source": [
        "temperature = 35\n",
        "if temperature >= 30:\n",
        "  if temperature <= 30:\n",
        "    if temperature == 30:\n",
        "      if temperature = 30:\n",
        "        if temperature != 30: #assignmet statement\n",
        "  print(\"it is a hot day\")\n",
        "else:\n",
        "  print(\"it is not a hot day\") "
      ],
      "execution_count": null,
      "outputs": [
        {
          "output_type": "error",
          "ename": "SyntaxError",
          "evalue": "ignored",
          "traceback": [
            "\u001b[0;36m  File \u001b[0;32m\"<ipython-input-18-cbf629c15360>\"\u001b[0;36m, line \u001b[0;32m5\u001b[0m\n\u001b[0;31m    if temperature = 30: #assignmet statement\u001b[0m\n\u001b[0m                   ^\u001b[0m\n\u001b[0;31mSyntaxError\u001b[0m\u001b[0;31m:\u001b[0m invalid syntax\n"
          ]
        }
      ]
    },
    {
      "cell_type": "markdown",
      "metadata": {
        "id": "faJdWUu6Bi2Z"
      },
      "source": [
        "Example"
      ]
    },
    {
      "cell_type": "markdown",
      "metadata": {
        "id": "Mou5T8neBkre"
      },
      "source": [
        "If name is less than 3 character long .name must be at least 3 characters "
      ]
    },
    {
      "cell_type": "markdown",
      "metadata": {
        "id": "iXZYjr9-Bsjz"
      },
      "source": [
        "otherwise if it is more than 50 characters long.name must be a maximum of 50 characters"
      ]
    },
    {
      "cell_type": "markdown",
      "metadata": {
        "id": "R11dPyfLB4dI"
      },
      "source": [
        "otherwise looks goor!"
      ]
    },
    {
      "cell_type": "code",
      "metadata": {
        "colab": {
          "base_uri": "https://localhost:8080/"
        },
        "id": "X5n9606ACDsD",
        "outputId": "12a7d8a9-590c-4989-e2b1-0d7f247b4f0a"
      },
      "source": [
        "name = \"faruq\"\n",
        "if len(name) < 3:\n",
        "  print(\"Name must be at least 3 characters\")\n",
        "elif len(name) > 50:\n",
        "  print(\"Name must be at least 50 characters\")\n",
        "else:\n",
        "  print(\"looks good! \")\n",
        "\n",
        "\n",
        "\n"
      ],
      "execution_count": null,
      "outputs": [
        {
          "output_type": "stream",
          "text": [
            "looks good! \n"
          ],
          "name": "stdout"
        }
      ]
    },
    {
      "cell_type": "code",
      "metadata": {
        "colab": {
          "base_uri": "https://localhost:8080/"
        },
        "id": "RhHRcfj_Dnr1",
        "outputId": "d7ebe310-cd26-4995-d41a-7c9d6fa26460"
      },
      "source": [
        "a = 13\n",
        "b = 33\n",
        "  \n",
        "# a > b is False \n",
        "print(a > b) \n",
        "  \n",
        "# a < b is True \n",
        "print(a < b) \n",
        "  \n",
        "# a == b is False \n",
        "print(a == b) \n",
        "  \n",
        "# a != b is True \n",
        "print(a != b) \n",
        "  \n",
        "# a >= b is False \n",
        "print(a >= b) \n",
        "  \n",
        "# a <= b is True \n",
        "print(a <= b) "
      ],
      "execution_count": null,
      "outputs": [
        {
          "output_type": "stream",
          "text": [
            "False\n",
            "True\n",
            "False\n",
            "True\n",
            "False\n",
            "True\n"
          ],
          "name": "stdout"
        }
      ]
    },
    {
      "cell_type": "markdown",
      "metadata": {
        "id": "riRsZKeyD3Ze"
      },
      "source": [
        "**Examples of Bitwise operators**"
      ]
    },
    {
      "cell_type": "code",
      "metadata": {
        "colab": {
          "base_uri": "https://localhost:8080/"
        },
        "id": "wpUpAaGCD1LW",
        "outputId": "c117580c-e2e7-415d-aa62-44bc14a13309"
      },
      "source": [
        "# Examples of Bitwise operators \n",
        "a = 10\n",
        "b = 4\n",
        "  \n",
        "# Print bitwise AND operation   \n",
        "print(a & b) \n",
        "  \n",
        "# Print bitwise OR operation \n",
        "print(a | b) \n",
        "  \n",
        "# Print bitwise NOT operation  \n",
        "print(~a) \n",
        "  \n",
        "# print bitwise XOR operation  \n",
        "print(a ^ b) \n",
        "  \n",
        "# print bitwise right shift operation  \n",
        "print(a >> 2) \n",
        "  \n",
        "# print bitwise left shift operation  \n",
        "print(a << 2) "
      ],
      "execution_count": null,
      "outputs": [
        {
          "output_type": "stream",
          "text": [
            "0\n",
            "14\n",
            "-11\n",
            "14\n",
            "2\n",
            "40\n"
          ],
          "name": "stdout"
        }
      ]
    },
    {
      "cell_type": "code",
      "metadata": {
        "colab": {
          "base_uri": "https://localhost:8080/"
        },
        "id": "DRXqHngYEhS-",
        "outputId": "bd61f127-776a-42e4-cabb-113b4a8fc834"
      },
      "source": [
        "a = 21\n",
        "b = 10\n",
        "c = 0\n",
        "\n",
        "if ( a == b ):\n",
        "   print(\"Line 1 - a is equal to b\") \n",
        "else:\n",
        "   print(\"Line 1 - a is not equal to b\") \n",
        "\n",
        "if ( a != b ):\n",
        "   print(\"Line 2 - a is not equal to b\") \n",
        "else:\n",
        "   print(\"Line 2 - a is equal to b\") \n",
        "\n",
        "#if ( a <> b ):\n",
        "   #print(\"Line 3 - a is not equal to b\") \n",
        "#else:\n",
        "   #print(\"Line 3 - a is equal to b\") \n",
        "\n",
        "if ( a < b ):\n",
        "   print(\"Line 4 - a is less than b\" ) \n",
        "else:\n",
        "   print(\"Line 4 - a is not less than b\") \n",
        "\n",
        "if ( a > b ):\n",
        "   print(\"Line 5 - a is greater than b\") \n",
        "else:\n",
        "   print(\"Line 5 - a is not greater than b\") \n",
        "\n",
        "a = 5;\n",
        "b = 20;\n",
        "if ( a <= b ):\n",
        "   print(\"Line 6 - a is either less than or equal to  b\") \n",
        "else:\n",
        "   print(\"Line 6 - a is neither less than nor equal to  b\") \n",
        "\n",
        "if ( b >= a ):\n",
        "   print(\"Line 7 - b is either greater than  or equal to b\") \n",
        "else:\n",
        "   print(\"Line 7 - b is neither greater than  nor equal to b\") "
      ],
      "execution_count": null,
      "outputs": [
        {
          "output_type": "stream",
          "text": [
            "Line 1 - a is not equal to b\n",
            "Line 2 - a is not equal to b\n",
            "Line 4 - a is not less than b\n",
            "Line 5 - a is greater than b\n",
            "Line 6 - a is either less than or equal to  b\n",
            "Line 7 - b is either greater than  or equal to b\n"
          ],
          "name": "stdout"
        }
      ]
    },
    {
      "cell_type": "code",
      "metadata": {
        "colab": {
          "base_uri": "https://localhost:8080/"
        },
        "id": "vIMc110LFVaw",
        "outputId": "87e5e300-02a8-4ae5-a67d-6644c1492285"
      },
      "source": [
        "a = 21\n",
        "b = 10\n",
        "c = 0\n",
        "\n",
        "c = a + b\n",
        "print(\"Line 1 - Value of c is \", c) \n",
        "\n",
        "c += a\n",
        "print(\"Line 2 - Value of c is \", c ) \n",
        "\n",
        "c *= a\n",
        "print(\"Line 3 - Value of c is \", c ) \n",
        "\n",
        "c /= a \n",
        "print(\"Line 4 - Value of c is \", c ) \n",
        "\n",
        "c  = 2\n",
        "c %= a\n",
        "print(\"Line 5 - Value of c is \", c) \n",
        "\n",
        "c **= a\n",
        "print(\"Line 6 - Value of c is \", c) \n",
        "\n",
        "c //= a\n",
        "print(\"Line 7 - Value of c is \", c) "
      ],
      "execution_count": null,
      "outputs": [
        {
          "output_type": "stream",
          "text": [
            "Line 1 - Value of c is  31\n",
            "Line 2 - Value of c is  52\n",
            "Line 3 - Value of c is  1092\n",
            "Line 4 - Value of c is  52.0\n",
            "Line 5 - Value of c is  2\n",
            "Line 6 - Value of c is  2097152\n",
            "Line 7 - Value of c is  99864\n"
          ],
          "name": "stdout"
        }
      ]
    },
    {
      "cell_type": "markdown",
      "metadata": {
        "id": "xLnj7HpiFvg1"
      },
      "source": [
        "**Bitwise Operator**"
      ]
    },
    {
      "cell_type": "code",
      "metadata": {
        "colab": {
          "base_uri": "https://localhost:8080/"
        },
        "id": "Z4OALWvmFyd9",
        "outputId": "e3f90d2a-939f-42d8-c61f-aac11b1f9e07"
      },
      "source": [
        "a = 60            # 60 = 0011 1100 \n",
        "b = 13            # 13 = 0000 1101 \n",
        "c = 0\n",
        "\n",
        "c = a & b;        # 12 = 0000 1100  #Operator copies a bit to the result if it exists in both operands\n",
        "                                    #(a & b) (means 0000 1100)\n",
        "print(\"Line 1 - Value of c is \", c) \n",
        "\n",
        "c = a | b;        # 61 = 0011 1101   #It copies a bit if it exists in either operand.\n",
        "                                     #(a | b) = 61 (means 0011 1101)\n",
        "print(\"Line 2 - Value of c is \", c) \n",
        "\n",
        "c = a ^ b;        # 49 = 0011 0001   #It copies the bit if it is set in one operand but not both.\n",
        "                                    #(a ^ b) = 49 (means 0011 0001)\n",
        "print(\"Line 3 - Value of c is \", c) \n",
        "\n",
        "c = ~a;           # -61 = 1100 0011  #It is unary and has the effect of 'flipping' bits.\n",
        "                                     #\t(~a ) = -61 (means 1100 0011 in 2's complement form due to a signed binary number.\n",
        "print(\"Line 4 - Value of c is \", c) \n",
        "\n",
        "c = a << 2;        # 240 = 1111 0000  #The left operands value is moved left by the number of bits specified by the right operand.\n",
        "                                      #a << 2 = 240 (means 1111 0000)\n",
        "\n",
        "print(\"Line 5 - Value of c is \", c) \n",
        "\n",
        "c = a >> 2;       # 15 = 0000 1111   #The left operands value is moved right by the number of bits specified by the right operand.\n",
        "print(\"Line 6 - Value of c is \", c)  # a >> 2 = 15 (means 0000 1111)\n"
      ],
      "execution_count": null,
      "outputs": [
        {
          "output_type": "stream",
          "text": [
            "Line 1 - Value of c is  12\n",
            "Line 2 - Value of c is  61\n",
            "Line 3 - Value of c is  49\n",
            "Line 4 - Value of c is  -61\n",
            "Line 5 - Value of c is  240\n",
            "Line 6 - Value of c is  15\n"
          ],
          "name": "stdout"
        }
      ]
    },
    {
      "cell_type": "markdown",
      "metadata": {
        "id": "za-ZQSHZHRdD"
      },
      "source": [
        "**Membership Operators**"
      ]
    },
    {
      "cell_type": "markdown",
      "metadata": {
        "id": "O5QNcK5iHqg2"
      },
      "source": [
        "**in** \tEvaluates to true if it finds a variable in the specified sequence and false otherwise."
      ]
    },
    {
      "cell_type": "markdown",
      "metadata": {
        "id": "DmYKZYahHv_S"
      },
      "source": [
        "**Example** x in y, here in results in a 1 if x is a member of sequence y."
      ]
    },
    {
      "cell_type": "markdown",
      "metadata": {
        "id": "YoDU9l0AH1YN"
      },
      "source": [
        "**not in**Evaluates to true if it does not finds a variable in the specified sequence and false otherwise."
      ]
    },
    {
      "cell_type": "markdown",
      "metadata": {
        "id": "9ioSBydqH8kk"
      },
      "source": [
        "**Example**x not in y, here not in results in a 1 if x is not a member of sequence y."
      ]
    },
    {
      "cell_type": "code",
      "metadata": {
        "colab": {
          "base_uri": "https://localhost:8080/"
        },
        "id": "Q4aLjmJeHcSs",
        "outputId": "1dfb7c3d-f3a3-40dc-bad5-ea52f72a3bd9"
      },
      "source": [
        "a = 10\n",
        "b = 20\n",
        "list = [1, 2, 3, 4, 5 ];\n",
        "\n",
        "if ( a in list ):\n",
        "   print(\"Line 1 - a is available in the given list\") \n",
        "else:\n",
        "   print(\"Line 1 - a is not available in the given list\") \n",
        "\n",
        "if ( b not in list ):\n",
        "   print(\"Line 2 - b is not available in the given list\") \n",
        "else:\n",
        "   print( \"Line 2 - b is available in the given list\")\n",
        "\n",
        "a = 2\n",
        "if ( a in list ):\n",
        "   print(\"Line 3 - a is available in the given list\") \n",
        "else:\n",
        "   print(\"Line 3 - a is not available in the given list\") "
      ],
      "execution_count": null,
      "outputs": [
        {
          "output_type": "stream",
          "text": [
            "Line 1 - a is not available in the given list\n",
            "Line 2 - b is not available in the given list\n",
            "Line 3 - a is available in the given list\n"
          ],
          "name": "stdout"
        }
      ]
    },
    {
      "cell_type": "markdown",
      "metadata": {
        "id": "jGX8cruCIIEy"
      },
      "source": [
        "**Identity Operators**"
      ]
    },
    {
      "cell_type": "markdown",
      "metadata": {
        "id": "mtnTomGZIMry"
      },
      "source": [
        "**is** \t*Evaluates to true if the variables on either side of the operator point to the same object and false otherwise.*"
      ]
    },
    {
      "cell_type": "markdown",
      "metadata": {
        "id": "KZGEaPQlITbh"
      },
      "source": [
        "**Example** x is y, here is results in 1 if id(x) equals id(y)."
      ]
    },
    {
      "cell_type": "markdown",
      "metadata": {
        "id": "nFEA50sCIOqr"
      },
      "source": [
        "**is not** *\tEvaluates to false if the variables on either side of the operator point to the same object and true otherwise.*"
      ]
    },
    {
      "cell_type": "markdown",
      "metadata": {
        "id": "S8IXIg5gIeCS"
      },
      "source": [
        "**Example** x is not y, here is not results in 1 if id(x) is not equal to id(y)."
      ]
    },
    {
      "cell_type": "code",
      "metadata": {
        "colab": {
          "base_uri": "https://localhost:8080/"
        },
        "id": "b25Zqj3VIkFy",
        "outputId": "5ba88e88-071f-4ab0-e498-483d8fd2ddfd"
      },
      "source": [
        "a = 20\n",
        "b = 20\n",
        "\n",
        "if ( a is b ):\n",
        "   print( \"Line 1 - a and b have same identity\")\n",
        "else:\n",
        "   print(\"Line 1 - a and b do not have same identity\") \n",
        "\n",
        "if ( id(a) == id(b) ):\n",
        "   print(\"Line 2 - a and b have same identity\") \n",
        "else:\n",
        "   print(\"Line 2 - a and b do not have same identity\") \n",
        "\n",
        "b = 30\n",
        "if ( a is b ):\n",
        "   print(\"Line 3 - a and b have same identity\") \n",
        "else:\n",
        "   print(\"Line 3 - a and b do not have same identity\") \n",
        "\n",
        "if ( a is not b ):\n",
        "   print(\"Line 4 - a and b do not have same identity\") \n",
        "else:\n",
        "   print( \"Line 4 - a and b have same identity\")"
      ],
      "execution_count": null,
      "outputs": [
        {
          "output_type": "stream",
          "text": [
            "Line 1 - a and b have same identity\n",
            "Line 2 - a and b have same identity\n",
            "Line 3 - a and b do not have same identity\n",
            "Line 4 - a and b do not have same identity\n"
          ],
          "name": "stdout"
        }
      ]
    },
    {
      "cell_type": "markdown",
      "metadata": {
        "id": "usI47F65JJ3k"
      },
      "source": [
        "**operators precedence**"
      ]
    },
    {
      "cell_type": "markdown",
      "metadata": {
        "id": "eeND6bFiKRGR"
      },
      "source": [
        "[link text](https://www.tutorialspoint.com/python/operators_precedence_example.htm)"
      ]
    },
    {
      "cell_type": "code",
      "metadata": {
        "colab": {
          "base_uri": "https://localhost:8080/"
        },
        "id": "ecIOGEW2JJVS",
        "outputId": "845f6b51-96e2-4287-a84c-d5e6bd52caf0"
      },
      "source": [
        "a = 20\n",
        "b = 10\n",
        "c = 15\n",
        "d = 5\n",
        "e = 0\n",
        "\n",
        "e = (a + b) * c / d       #( 30 * 15 ) / 5\n",
        "print(\"Value of (a + b) * c / d is \",  e) \n",
        "\n",
        "e = ((a + b) * c) / d     # (30 * 15 ) / 5\n",
        "print(\"Value of ((a + b) * c) / d is \",  e) \n",
        "\n",
        "e = (a + b) * (c / d);    # (30) * (15/5)\n",
        "print(\"Value of (a + b) * (c / d) is \",  e) \n",
        "\n",
        "e = a + (b * c) / d;      #  20 + (150/5)\n",
        "print(\"Value of a + (b * c) / d is \",  e) "
      ],
      "execution_count": null,
      "outputs": [
        {
          "output_type": "stream",
          "text": [
            "Value of (a + b) * c / d is  90.0\n",
            "Value of ((a + b) * c) / d is  90.0\n",
            "Value of (a + b) * (c / d) is  90.0\n",
            "Value of a + (b * c) / d is  50.0\n"
          ],
          "name": "stdout"
        }
      ]
    },
    {
      "cell_type": "markdown",
      "metadata": {
        "id": "94-pPo2jLFbs"
      },
      "source": [
        "**Project: Weight Convert**"
      ]
    },
    {
      "cell_type": "markdown",
      "metadata": {
        "id": "TJGlRu_iLV7L"
      },
      "source": [
        "here convert someon's weight from pounds to kilograms. Now we want to extend this program and allow the user to enter their weight in eother kilograms or pounds and then we will convert it to the other unit. so see how it to work"
      ]
    },
    {
      "cell_type": "code",
      "metadata": {
        "colab": {
          "base_uri": "https://localhost:8080/"
        },
        "id": "zmnRiWi8L2Rw",
        "outputId": "191182cd-702d-4cc8-8c03-b5ae4460801b"
      },
      "source": [
        "weight = int (input( 'Weight: '))\n",
        "unit = input('(L)bs or (K)g: ')\n",
        "if unit.upper() == \"L\": #with this inplementation we are only allowing the users to enter a vapital L\n",
        "               #if they enter a lowercase l this code is not going to work\n",
        "               #so this is where we use the upper method of string objects so this \n",
        "               #unit is a string becaudse as  i told you input function always return string\n",
        "\n",
        "               #so we can use dot (.) operator to access all it is method or functioin , here we dcall the upper method this will convert we use to upper case and then we will convert it capital l. \n",
        "  converted = weight * 0.45\n",
        "  print(f\"You are {converted} kilos\")\n",
        "else:\n",
        "  converted = weight / 0.45\n",
        "  print(f\"You are {converted} pounds\")"
      ],
      "execution_count": null,
      "outputs": [
        {
          "output_type": "stream",
          "text": [
            "Weight: 160\n",
            "(L)bs or (K)g: l\n",
            "You are 72.0 kilos\n"
          ],
          "name": "stdout"
        }
      ]
    },
    {
      "cell_type": "markdown",
      "metadata": {
        "id": "4u9tIaKvUpoW"
      },
      "source": [
        "**List**"
      ]
    },
    {
      "cell_type": "code",
      "metadata": {
        "colab": {
          "base_uri": "https://localhost:8080/"
        },
        "id": "6ZSKGbLKUsHF",
        "outputId": "5fa1070d-ec8e-4ac4-97d5-8e725475982b"
      },
      "source": [
        "names = ['abbu','ammu','kaieum','ami','family',]\r\n",
        "print(names)"
      ],
      "execution_count": null,
      "outputs": [
        {
          "output_type": "stream",
          "text": [
            "['abbu', 'ammu', 'kaieum', 'ami', 'family']\n"
          ],
          "name": "stdout"
        }
      ]
    },
    {
      "cell_type": "markdown",
      "metadata": {
        "id": "Pk_GVxU5RD3e"
      },
      "source": [
        "now we can also access anindividual element using an index "
      ]
    },
    {
      "cell_type": "code",
      "metadata": {
        "colab": {
          "base_uri": "https://localhost:8080/"
        },
        "id": "LUqGNtkARMVq",
        "outputId": "e43fb6a5-874b-4d72-f516-520bc5df60a6"
      },
      "source": [
        "names = ['abbu','ammu','kaieum','ami','family',]\r\n",
        "print(names[0])"
      ],
      "execution_count": null,
      "outputs": [
        {
          "output_type": "stream",
          "text": [
            "abbu\n"
          ],
          "name": "stdout"
        }
      ]
    },
    {
      "cell_type": "code",
      "metadata": {
        "colab": {
          "base_uri": "https://localhost:8080/"
        },
        "id": "H5kUF0AiRTMC",
        "outputId": "2e9692df-0a54-49b2-aef1-32052c604e08"
      },
      "source": [
        "names = ['abbu','ammu','kaieum','ami','family',]\r\n",
        "print(names[0])"
      ],
      "execution_count": null,
      "outputs": [
        {
          "output_type": "stream",
          "text": [
            "abbu\n"
          ],
          "name": "stdout"
        }
      ]
    },
    {
      "cell_type": "code",
      "metadata": {
        "colab": {
          "base_uri": "https://localhost:8080/"
        },
        "id": "Ufnh906pRT6A",
        "outputId": "b85ffd9c-f279-4663-f3b5-f190081516ec"
      },
      "source": [
        "names = ['abbu','ammu','kaieum','ami','family',]\r\n",
        "print(names[1])"
      ],
      "execution_count": null,
      "outputs": [
        {
          "output_type": "stream",
          "text": [
            "ammu\n"
          ],
          "name": "stdout"
        }
      ]
    },
    {
      "cell_type": "code",
      "metadata": {
        "colab": {
          "base_uri": "https://localhost:8080/"
        },
        "id": "Nn3jc5UmRUtv",
        "outputId": "6388f68f-3412-486f-c343-c0f71c34ea62"
      },
      "source": [
        "names = ['abbu','ammu','kaieum','ami','family',]\r\n",
        "print(names[2])"
      ],
      "execution_count": null,
      "outputs": [
        {
          "output_type": "stream",
          "text": [
            "kaieum\n"
          ],
          "name": "stdout"
        }
      ]
    },
    {
      "cell_type": "code",
      "metadata": {
        "colab": {
          "base_uri": "https://localhost:8080/"
        },
        "id": "OD3tohYsRVQI",
        "outputId": "b0e7f61c-e2aa-40d2-cea5-14bb98187565"
      },
      "source": [
        "names = ['abbu','ammu','kaieum','ami','family',]\r\n",
        "print(names[3])"
      ],
      "execution_count": null,
      "outputs": [
        {
          "output_type": "stream",
          "text": [
            "ami\n"
          ],
          "name": "stdout"
        }
      ]
    },
    {
      "cell_type": "code",
      "metadata": {
        "colab": {
          "base_uri": "https://localhost:8080/"
        },
        "id": "Shsg-g67RYMN",
        "outputId": "7eb801ba-0f9b-4c5c-c44f-5aed55742b7d"
      },
      "source": [
        "names = ['abbu','ammu','kaieum','ami','family',]\r\n",
        "print(names[4])"
      ],
      "execution_count": null,
      "outputs": [
        {
          "output_type": "stream",
          "text": [
            "family\n"
          ],
          "name": "stdout"
        }
      ]
    },
    {
      "cell_type": "markdown",
      "metadata": {
        "id": "Okk2NsRbRjV2"
      },
      "source": [
        "now show the last item."
      ]
    },
    {
      "cell_type": "code",
      "metadata": {
        "colab": {
          "base_uri": "https://localhost:8080/"
        },
        "id": "7PSYmig9RoiW",
        "outputId": "7c9b5c7f-0a93-4144-88de-120f7703727a"
      },
      "source": [
        "names = ['abbu','ammu','kaieum','ami','family',]\r\n",
        "print(names[-1])"
      ],
      "execution_count": null,
      "outputs": [
        {
          "output_type": "stream",
          "text": [
            "family\n"
          ],
          "name": "stdout"
        }
      ]
    },
    {
      "cell_type": "code",
      "metadata": {
        "colab": {
          "base_uri": "https://localhost:8080/"
        },
        "id": "oZ5mnX8iRqh8",
        "outputId": "b32006b9-ad41-495e-d039-c59c7538dcc7"
      },
      "source": [
        "names = ['abbu','ammu','kaieum','ami','family',]\r\n",
        "print(names[-2])"
      ],
      "execution_count": null,
      "outputs": [
        {
          "output_type": "stream",
          "text": [
            "ami\n"
          ],
          "name": "stdout"
        }
      ]
    },
    {
      "cell_type": "code",
      "metadata": {
        "colab": {
          "base_uri": "https://localhost:8080/"
        },
        "id": "xUuEm-dERs4s",
        "outputId": "a458af66-cb95-43c0-8739-f7e814ff8325"
      },
      "source": [
        "names = ['abbu','ammu','kaieum','ami','family',]\r\n",
        "print(names[-4])"
      ],
      "execution_count": null,
      "outputs": [
        {
          "output_type": "stream",
          "text": [
            "ammu\n"
          ],
          "name": "stdout"
        }
      ]
    },
    {
      "cell_type": "markdown",
      "metadata": {
        "id": "8C3DnbZiSDGW"
      },
      "source": [
        "range item"
      ]
    },
    {
      "cell_type": "code",
      "metadata": {
        "colab": {
          "base_uri": "https://localhost:8080/"
        },
        "id": "HvR3v-JISJ65",
        "outputId": "82165ca5-5b6c-4486-f357-756cde31fc09"
      },
      "source": [
        "names = ['abbu','ammu','kaieum','ami','family',]\r\n",
        "print(names[0:])"
      ],
      "execution_count": null,
      "outputs": [
        {
          "output_type": "stream",
          "text": [
            "['abbu', 'ammu', 'kaieum', 'ami', 'family']\n"
          ],
          "name": "stdout"
        }
      ]
    },
    {
      "cell_type": "code",
      "metadata": {
        "colab": {
          "base_uri": "https://localhost:8080/"
        },
        "id": "ssLtlWINSQ_Y",
        "outputId": "d869e14d-6f66-4e49-a365-4544b5ccd9c5"
      },
      "source": [
        "names = ['abbu','ammu','kaieum','ami','family',]\r\n",
        "print(names[1:])"
      ],
      "execution_count": null,
      "outputs": [
        {
          "output_type": "stream",
          "text": [
            "['ammu', 'kaieum', 'ami', 'family']\n"
          ],
          "name": "stdout"
        }
      ]
    },
    {
      "cell_type": "code",
      "metadata": {
        "colab": {
          "base_uri": "https://localhost:8080/"
        },
        "id": "sdChCcOjSTGP",
        "outputId": "7466c00a-8869-4c48-ff89-d7f39dbfd563"
      },
      "source": [
        "names = ['abbu','ammu','kaieum','ami','family',]\r\n",
        "print(names[2:])"
      ],
      "execution_count": null,
      "outputs": [
        {
          "output_type": "stream",
          "text": [
            "['kaieum', 'ami', 'family']\n"
          ],
          "name": "stdout"
        }
      ]
    },
    {
      "cell_type": "code",
      "metadata": {
        "colab": {
          "base_uri": "https://localhost:8080/"
        },
        "id": "YfJ00hq2SVUJ",
        "outputId": "b05ff185-e9b3-4781-f2e1-d6f8c86a0e48"
      },
      "source": [
        "names = ['abbu','ammu','kaieum','ami','family',]\r\n",
        "print(names[0:2])"
      ],
      "execution_count": null,
      "outputs": [
        {
          "output_type": "stream",
          "text": [
            "['abbu', 'ammu']\n"
          ],
          "name": "stdout"
        }
      ]
    },
    {
      "cell_type": "code",
      "metadata": {
        "colab": {
          "base_uri": "https://localhost:8080/"
        },
        "id": "32ZdBmBGSwHO",
        "outputId": "c5ade552-bfd6-4b23-cea6-f814c887f518"
      },
      "source": [
        "names = ['abbu','ammu','kaieum','ami','family',]\r\n",
        "print(names[2:])\r\n",
        "names = ['abbu','ammu','kaieum','ami','family',]\r\n",
        "print(names[0:])"
      ],
      "execution_count": null,
      "outputs": [
        {
          "output_type": "stream",
          "text": [
            "['kaieum', 'ami', 'family']\n",
            "['abbu', 'ammu', 'kaieum', 'ami', 'family']\n"
          ],
          "name": "stdout"
        }
      ]
    },
    {
      "cell_type": "markdown",
      "metadata": {
        "id": "vzq76IN_S1Gx"
      },
      "source": [
        "now we will show here print abb last u cut this word"
      ]
    },
    {
      "cell_type": "code",
      "metadata": {
        "colab": {
          "base_uri": "https://localhost:8080/"
        },
        "id": "6aEYMO9bS9XF",
        "outputId": "bb876437-9a2a-4227-9cf7-2cf69236a892"
      },
      "source": [
        "names = ['abbu','ammu','kaieum','ami','family',]\r\n",
        "names[0] ='abb'\r\n",
        "print(names)\r\n"
      ],
      "execution_count": null,
      "outputs": [
        {
          "output_type": "stream",
          "text": [
            "['abb', 'ammu', 'kaieum', 'ami', 'family']\n"
          ],
          "name": "stdout"
        }
      ]
    },
    {
      "cell_type": "code",
      "metadata": {
        "colab": {
          "base_uri": "https://localhost:8080/"
        },
        "id": "ZbIrd0nFTUJP",
        "outputId": "0b3fd91d-0206-4409-891a-f5fdbaedf1e0"
      },
      "source": [
        "names = ['abbu','ammu','kaieum','ami','family',]\r\n",
        "names[3] ='kaeum'\r\n",
        "print(names)"
      ],
      "execution_count": null,
      "outputs": [
        {
          "output_type": "stream",
          "text": [
            "['abbu', 'ammu', 'kaieum', 'kaeum', 'family']\n"
          ],
          "name": "stdout"
        }
      ]
    },
    {
      "cell_type": "code",
      "metadata": {
        "colab": {
          "base_uri": "https://localhost:8080/"
        },
        "id": "I9cEwReETbuL",
        "outputId": "df158e39-9b95-4946-f5d2-341c36ce41a6"
      },
      "source": [
        "names = ['abbu','ammu','kaieum','ami','family',]\r\n",
        "names[0] ='abb'\r\n",
        "names[1] ='amm'\r\n",
        "names[3] ='fauq'\r\n",
        "print(names)"
      ],
      "execution_count": null,
      "outputs": [
        {
          "output_type": "stream",
          "text": [
            "['abb', 'amm', 'kaieum', 'fauq', 'family']\n"
          ],
          "name": "stdout"
        }
      ]
    },
    {
      "cell_type": "markdown",
      "metadata": {
        "id": "nceqfSefT-uo"
      },
      "source": [
        "**Exercise**"
      ]
    },
    {
      "cell_type": "markdown",
      "metadata": {
        "id": "RCX8-7lJUA3_"
      },
      "source": [
        "Write a program to find the largest number in a list"
      ]
    }
  ]
}