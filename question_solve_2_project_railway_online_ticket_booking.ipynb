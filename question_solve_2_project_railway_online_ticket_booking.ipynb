{
  "nbformat": 4,
  "nbformat_minor": 0,
  "metadata": {
    "colab": {
      "name": "question solve 2 project railway online ticket booking.ipynb",
      "provenance": [],
      "collapsed_sections": [],
      "authorship_tag": "ABX9TyMUwWrCXSd6yHbmo8TXuHS3",
      "include_colab_link": true
    },
    "kernelspec": {
      "name": "python3",
      "display_name": "Python 3"
    }
  },
  "cells": [
    {
      "cell_type": "markdown",
      "metadata": {
        "id": "view-in-github",
        "colab_type": "text"
      },
      "source": [
        "<a href=\"https://colab.research.google.com/github/Faruq-hossain/Python-codding/blob/master/question_solve_2_project_railway_online_ticket_booking.ipynb\" target=\"_parent\"><img src=\"https://colab.research.google.com/assets/colab-badge.svg\" alt=\"Open In Colab\"/></a>"
      ]
    },
    {
      "cell_type": "code",
      "metadata": {
        "colab": {
          "base_uri": "https://localhost:8080/"
        },
        "id": "RLDg-xYi3AAy",
        "outputId": "4e19292e-6b56-4431-dbfd-c3d861ce1a2a"
      },
      "source": [
        "from datetime import datetime\r\n",
        "import random\r\n",
        "print(\"\\n\\nRailway online ticket booking\\n\")\r\n",
        "restart = ('Y')\r\n",
        "\r\n",
        "while restart != ('N','NO','n','no'):\r\n",
        "\tprint(\"1.Check Train Details\")\r\n",
        "\tprint(\"2.Book Ticket\")\r\n",
        "\tprint(\"3.Cancle Ticket\")\r\n",
        "\toption = int(input(\"\\nEnter your option : \"))\r\n",
        "\r\n",
        "\tif option == 1:\r\n",
        "\t\tprint(\"There are 2 Train here\\nBANALATA / PADMA\\nYou can purchase maximum 4 tickets\\nYou can purchase during 8am to 11pm.\")\r\n",
        "\t\texit(0)\r\n",
        "\r\n",
        "\telif option == 2:\r\n",
        "\t\tnow = datetime.now()\r\n",
        "\r\n",
        "\t\tcurrent_time = now.strftime(\"%H:%M:%S\")\r\n",
        "\t\tpeople = int(input(\"\\nEnter no. of Ticket you want : \"))\r\n",
        "\t\tif people>4:\r\n",
        "\t\t\tprint (\"You can purchase maximum 4 tickets.\")\r\n",
        "\t\telse:\r\n",
        "\t\t\tname_l = []\r\n",
        "\t\t\tphone_l = []\r\n",
        "\t\t\tplace_l = []\r\n",
        "\t\t\tcoach=input (\"Select Coach A/B/C/D: \")\r\n",
        "\t\t\tfor p in range(people):\r\n",
        "\t\t\t\tname = str(input(\"\\nName : \"))\r\n",
        "\t\t\t\tname_l.append(name)\r\n",
        "\t\t\t\tphone = int(input(\"\\nPhone  : \"))\r\n",
        "\t\t\t\tphone_l.append(phone)\r\n",
        "\t\t\t\tplace = str(input(\"\\nSelect Train BANALATA/PADMA : \"))\r\n",
        "\t\t\t\tplace_l.append(place)\r\n",
        "\r\n",
        "\r\n",
        "\t\t\trestart = str(input(\"\\nDid you forgot something? y/n: \"))\r\n",
        "\t\t\tif restart in ('y','YES','yes','Yes'):\r\n",
        "\t\t\t\trestart = ('Y')\r\n",
        "\t\t\telse :\r\n",
        "\r\n",
        "\t\t\t\tx = 0\r\n",
        "\t\t\t\tprint(\"\\nTotal Ticket : \",people)\r\n",
        "\t\t\t\tprint(\"Congratulation! Your ticket/s are booked successfully.\\n\\n\")\r\n",
        "\t\t\t\tseat=random.randint(1,9)\r\n",
        "\t\t\t\tfor p in range(1,people+1):\r\n",
        "\t\t\t\t\tprint(\"Train: \",place_l[x])\r\n",
        "\t\t\t\t\tprint(\"Coach: \"+coach)\r\n",
        "\t\t\t\t\tprint(\"Seat Range\", seat)\r\n",
        "\t\t\t\t\tprint(\"Phone No.: \", phone_l[x])\r\n",
        "\r\n",
        "\t\t\t\t\tprint(\"\\nPurchace Time =\", current_time)\r\n",
        "\t\t\t\t\tprint(\"Your ticket will cout if you purchase between 8am to 11pm\\notherwise your ticket will be cancled\")\r\n",
        "\t\t\t\t\tx += 1\r\n",
        "\r\n",
        "\telif option == 3:\r\n",
        "\t\ta=input(\"Input your name : \")\r\n",
        "\t\tprint (\"Your ticket will be cancle soon Mr \"+a)"
      ],
      "execution_count": null,
      "outputs": [
        {
          "output_type": "stream",
          "text": [
            "\n",
            "\n",
            "Railway online ticket booking\n",
            "\n",
            "1.Check Train Details\n",
            "2.Book Ticket\n",
            "3.Cancle Ticket\n",
            "\n",
            "Enter your option : 2\n",
            "\n",
            "Enter no. of Ticket you want : 1\n",
            "Select Coach A/B/C/D: a\n",
            "\n",
            "Name : faruq\n",
            "\n",
            "Phone  : 01729991421\n",
            "\n",
            "Select Train BANALATA/PADMA : padma\n",
            "\n",
            "Did you forgot something? y/n: n\n",
            "\n",
            "Total Ticket :  1\n",
            "Congratulation! Your ticket/s are booked successfully.\n",
            "\n",
            "\n",
            "Train:  padma\n",
            "Coach: a\n",
            "Seat Range 5\n",
            "Phone No.:  1729991421\n",
            "\n",
            "Purchace Time = 06:39:04\n",
            "Your ticket will cout if you purchase between 8am to 11pm\n",
            "otherwise your ticket will be cancled\n",
            "1.Check Train Details\n",
            "2.Book Ticket\n",
            "3.Cancle Ticket\n"
          ],
          "name": "stdout"
        }
      ]
    }
  ]
}