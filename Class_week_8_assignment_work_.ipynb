{
  "nbformat": 4,
  "nbformat_minor": 0,
  "metadata": {
    "colab": {
      "name": "Class week-8 assignment work .ipynb",
      "provenance": [],
      "authorship_tag": "ABX9TyMOuqa58TQP6uQadV7HLtM1",
      "include_colab_link": true
    },
    "kernelspec": {
      "name": "python3",
      "display_name": "Python 3"
    }
  },
  "cells": [
    {
      "cell_type": "markdown",
      "metadata": {
        "id": "view-in-github",
        "colab_type": "text"
      },
      "source": [
        "<a href=\"https://colab.research.google.com/github/Faruq-hossain/Python-codding/blob/master/Class_week_8_assignment_work_.ipynb\" target=\"_parent\"><img src=\"https://colab.research.google.com/assets/colab-badge.svg\" alt=\"Open In Colab\"/></a>"
      ]
    },
    {
      "cell_type": "markdown",
      "metadata": {
        "id": "GSibURksAsNw"
      },
      "source": [
        "ক্লাস এর মাধ্যমে আমরা ডাটা গুল সাজিয়ে রাখতে পারি কোড লিখতে আর maintain korte sohoj hoi.মনে করি আমাদের একটা social site বানাতে হবে যেখানে আমাদের user দের জন্য **function** log in log out.** data ** ইউজার নাম ইড ইমাইল পাসওরড"
      ]
    },
    {
      "cell_type": "markdown",
      "metadata": {
        "id": "QtuEAw1ZB8Kn"
      },
      "source": [
        "user related function or variable কে আমরা একটা ক্লাস এর আন্ডার এ রাখতে পারি যাতে কোড লিখতে সুবিধা হয় আর maintain করতে সুবিধা হয়।"
      ]
    },
    {
      "cell_type": "code",
      "metadata": {
        "id": "ZaYOXpI6NeJq"
      },
      "source": [
        "class user"
      ],
      "execution_count": null,
      "outputs": []
    },
    {
      "cell_type": "markdown",
      "metadata": {
        "id": "ePVVG1Su665C"
      },
      "source": [
        "**Syntax of creating Python Class**"
      ]
    },
    {
      "cell_type": "code",
      "metadata": {
        "id": "ajEOtvMj634x"
      },
      "source": [
        "class NameofClass():\n",
        "  def _init_(self,parameter1, parameter2):\n",
        "    self.parameter1 = parameter1\n",
        "    self.parameter2 = parameter2\n",
        "  def someMethod(self):\n",
        "    #perfrom some action\n",
        "    print(self.parameter1)"
      ],
      "execution_count": null,
      "outputs": []
    },
    {
      "cell_type": "markdown",
      "metadata": {
        "id": "FKNYFR-28qBn"
      },
      "source": [
        "**Create a Aminal Class**"
      ]
    },
    {
      "cell_type": "code",
      "metadata": {
        "id": "xrofWOXp8o1h"
      },
      "source": [
        "class Animal():\n",
        "  def __init__(self, name, colour):\n",
        "    #arrtibute\n",
        "    #we take in the argument\n",
        "    #assgin it using self.arrtibute_name \n",
        "    self.name = name\n",
        "    self.colour = colour\n",
        "  def running(self):\n",
        "    print(f'hey! i am {self.name}, now i am running!')\n",
        "  def drinkingMilk(self):\n",
        "    print(f'hey! i am {self.name}, now i am drinking mlik!')"
      ],
      "execution_count": 1,
      "outputs": []
    },
    {
      "cell_type": "markdown",
      "metadata": {
        "id": "ydIPeN5C9tow"
      },
      "source": [
        "**Create object**"
      ]
    },
    {
      "cell_type": "code",
      "metadata": {
        "id": "jcYYznD49xzh"
      },
      "source": [
        "tom=Animal('tom', 'gray')\n",
        "jerry=Animal('jerry', 'browon')"
      ],
      "execution_count": 2,
      "outputs": []
    },
    {
      "cell_type": "markdown",
      "metadata": {
        "id": "iZKB_LjF90I5"
      },
      "source": [
        "**Understanding object attribute**\n",
        "\n"
      ]
    },
    {
      "cell_type": "code",
      "metadata": {
        "colab": {
          "base_uri": "https://localhost:8080/"
        },
        "id": "SNafr3Mw98th",
        "outputId": "915862df-c3e3-49be-e4ef-b69309b00112"
      },
      "source": [
        "print(f'hey! i am {tom.name} and my colour is: {tom.colour}')\n",
        "print(f'hey! i am {jerry.name} and my colour is: {jerry.colour}')"
      ],
      "execution_count": 3,
      "outputs": [
        {
          "output_type": "stream",
          "text": [
            "hey! i am tom and my colour is: gray\n",
            "hey! i am jerry and my colour is: browon\n"
          ],
          "name": "stdout"
        }
      ]
    },
    {
      "cell_type": "markdown",
      "metadata": {
        "id": "EvsNqei1-JsQ"
      },
      "source": [
        "**Understanding object behaviour**"
      ]
    },
    {
      "cell_type": "code",
      "metadata": {
        "colab": {
          "base_uri": "https://localhost:8080/"
        },
        "id": "_WhLbDTt-OkZ",
        "outputId": "f90fea62-209a-477b-d0da-c82a3fc831b9"
      },
      "source": [
        "#print tom behaviour\n",
        "tom.running()\n",
        "tom.drinkingMilk()\n",
        "\n",
        "#print jerry behaviour\n",
        "jerry.running()\n",
        "jerry.drinkingMilk()"
      ],
      "execution_count": 4,
      "outputs": [
        {
          "output_type": "stream",
          "text": [
            "hey! i am tom, now i am running!\n",
            "hey! i am tom, now i am drinking mlik!\n",
            "hey! i am jerry, now i am running!\n",
            "hey! i am jerry, now i am drinking mlik!\n"
          ],
          "name": "stdout"
        }
      ]
    },
    {
      "cell_type": "markdown",
      "metadata": {
        "id": "ra2xmLhJ-pY5"
      },
      "source": [
        "**The self Parameter**"
      ]
    },
    {
      "cell_type": "markdown",
      "metadata": {
        "id": "BpWXJjDf-s_o"
      },
      "source": [
        "1.   The **self** parameter is a reference to the current instance of the class, and is used to access variables that belongs to the class.\n",
        "2.   It does not have to be named self , you can call it whatever you like, but it has to be **the first parameter of any function in the class**."
      ]
    },
    {
      "cell_type": "code",
      "metadata": {
        "colab": {
          "base_uri": "https://localhost:8080/"
        },
        "id": "WM7dzgD7-zWx",
        "outputId": "0712de0b-4aa8-45e1-ee1d-5b11cf3fb181"
      },
      "source": [
        "#create class\n",
        "class Animal():\n",
        "  def __init__(self, objectName, objectColour):\n",
        "    #arrtibute\n",
        "    #we take in the argument\n",
        "    #assgin it using self.arrtibute_name \n",
        "    self.name = objectName\n",
        "    self.colour = objectColour\n",
        "\n",
        "#create object\n",
        "tom=Animal('tom', 'gray')\n",
        "jerry=Animal('jerry', 'browon')\n",
        "\n",
        "#printing object attribute, object attribute access with name and colour. \n",
        "print(f'hey! i am {tom.name} and my colour is: {tom.colour}')\n",
        "print(f'hey! i am {jerry.name} and my colour is: {jerry.colour}')"
      ],
      "execution_count": 5,
      "outputs": [
        {
          "output_type": "stream",
          "text": [
            "hey! i am tom and my colour is: gray\n",
            "hey! i am jerry and my colour is: browon\n"
          ],
          "name": "stdout"
        }
      ]
    },
    {
      "cell_type": "markdown",
      "metadata": {
        "id": "W7CECHfI_FCA"
      },
      "source": [
        "**Use this**"
      ]
    },
    {
      "cell_type": "code",
      "metadata": {
        "colab": {
          "base_uri": "https://localhost:8080/"
        },
        "id": "WKRiv3tA_AAZ",
        "outputId": "ff9cf917-5b82-4170-9573-da17d227b42f"
      },
      "source": [
        "#create class\n",
        "class Animal():\n",
        "  def __init__(this, objectName, objectColour):\n",
        "    #arrtibute\n",
        "    #we take in the argument\n",
        "    #assgin it using this.arrtibute_name \n",
        "    this.name = objectName\n",
        "    this.colour = objectColour\n",
        "\n",
        "#create object\n",
        "tom=Animal('tom', 'gray')\n",
        "jerry=Animal('jerry', 'browon')\n",
        "\n",
        "#printing object attribute, object attribute access with name and colour. \n",
        "print(f'hey! i am {tom.name} and my colour is: {tom.colour}')\n",
        "print(f'hey! i am {jerry.name} and my colour is: {jerry.colour}')"
      ],
      "execution_count": 6,
      "outputs": [
        {
          "output_type": "stream",
          "text": [
            "hey! i am tom and my colour is: gray\n",
            "hey! i am jerry and my colour is: browon\n"
          ],
          "name": "stdout"
        }
      ]
    },
    {
      "cell_type": "markdown",
      "metadata": {
        "id": "0RRQVyqf_qyY"
      },
      "source": [
        "**The int() function**"
      ]
    },
    {
      "cell_type": "markdown",
      "metadata": {
        "id": "2scpZLn9_xiY"
      },
      "source": [
        "The init() function is called automatically every time the class is being used to create a new object.\n",
        "All classes have a function called init(), which is always executed when the class is being initiated."
      ]
    },
    {
      "cell_type": "code",
      "metadata": {
        "colab": {
          "base_uri": "https://localhost:8080/"
        },
        "id": "N07EPrbZ_u1C",
        "outputId": "c3cf7a88-37b0-4318-c9b0-6248137b9587"
      },
      "source": [
        "#create class\n",
        "class Animal():\n",
        "  def __init__(self):\n",
        "    print(f'hello! i am init()!')\n",
        "\n",
        "#create object\n",
        "tom=Animal()"
      ],
      "execution_count": 7,
      "outputs": [
        {
          "output_type": "stream",
          "text": [
            "hello! i am init()!\n"
          ],
          "name": "stdout"
        }
      ]
    },
    {
      "cell_type": "markdown",
      "metadata": {
        "id": "S0tmsNC3_5pI"
      },
      "source": [
        "**Class object attribute**"
      ]
    },
    {
      "cell_type": "markdown",
      "metadata": {
        "id": "Oi8t86p2_-Pw"
      },
      "source": [
        "this attribute same for any instance of class"
      ]
    },
    {
      "cell_type": "code",
      "metadata": {
        "colab": {
          "base_uri": "https://localhost:8080/"
        },
        "id": "I-RiB27e_9iQ",
        "outputId": "702bcf25-cee5-4a2c-c72e-16b69d346fb1"
      },
      "source": [
        "#create class \n",
        "class Animal():\n",
        "  #class object attribute\n",
        "  #same for any instance of class\n",
        "  species = 'mammal'\n",
        "  def __init__(self, name, colour):\n",
        "    #arrtibute\n",
        "    #we take in the argument\n",
        "    #assgin it using self.arrtibute_name \n",
        "    self.name = name\n",
        "    self.colour = colour\n",
        "\n",
        "#create object\n",
        "tom=Animal('tom', 'gray')\n",
        "jerry=Animal('jerry', 'browon')\n",
        "\n",
        "#print object attribute \n",
        "print(tom.species)\n",
        "print(jerry.species)"
      ],
      "execution_count": 8,
      "outputs": [
        {
          "output_type": "stream",
          "text": [
            "mammal\n",
            "mammal\n"
          ],
          "name": "stdout"
        }
      ]
    }
  ]
}