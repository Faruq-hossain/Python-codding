{
  "nbformat": 4,
  "nbformat_minor": 0,
  "metadata": {
    "colab": {
      "name": "Calculate Student Grades in Python program .ipynb",
      "provenance": [],
      "authorship_tag": "ABX9TyOzMvGyXC5d7RMPLWZSfCEw",
      "include_colab_link": true
    },
    "kernelspec": {
      "name": "python3",
      "display_name": "Python 3"
    }
  },
  "cells": [
    {
      "cell_type": "markdown",
      "metadata": {
        "id": "view-in-github",
        "colab_type": "text"
      },
      "source": [
        "<a href=\"https://colab.research.google.com/github/Faruq-hossain/Python-codding/blob/master/Calculate_Student_Grades_in_Python_program_.ipynb\" target=\"_parent\"><img src=\"https://colab.research.google.com/assets/colab-badge.svg\" alt=\"Open In Colab\"/></a>"
      ]
    },
    {
      "cell_type": "markdown",
      "metadata": {
        "id": "krr79nq-uhWy"
      },
      "source": [
        "**Calculate Student Grades in Python programm**\n",
        "\n",
        "---\n",
        "\n"
      ]
    },
    {
      "cell_type": "code",
      "metadata": {
        "id": "cqQOYnrhuNL8",
        "outputId": "e0e0ebb1-668a-4ca2-b14a-03579d26f5b6",
        "colab": {
          "base_uri": "https://localhost:8080/"
        }
      },
      "source": [
        "def inputmark():\n",
        "  print(\"Enter Student ID : \")\n",
        "  id = int (input())\n",
        "  print(\"Enter Exam Score : \")\n",
        "  exam = int (input())\n",
        "  print(\"Enter All Test Scores : \")\n",
        "  mark1 = int (input())\n",
        "  mark2 = int (input())\n",
        "  mark3 = int (input())\n",
        "  mark4 = int (input())\n",
        "  mark5 = int (input())\n",
        "  mark6 = int (input())\n",
        "  mark7 = int (input())\n",
        "  mark8 = int (input())\n",
        "  mark9 = int (input())\n",
        "  mark10 = int (input())\n",
        "\n",
        "  sum = (mark1+mark2+mark3+mark4+mark5+mark6+mark7+mark8+mark9+mark10)\n",
        "  avge = sum/10\n",
        "  print(\"Test Average is :\" +str(avge))\n",
        "  print(\"Final mark is :\",compute_mark(avge,exam))\n",
        "  print(\"Letter Grade is :\",getgrade(compute_mark(avge,exam)))\n",
        "  print_Remark(getgrade(compute_mark(avge,exam)))\n",
        "  return avge\n",
        "def compute_mark(avge,exam):\n",
        "  final_mark = 0.4*avge+0.6*exam\n",
        "  return final_mark\n",
        "def getgrade(final_mark):\n",
        "    if 90<=final_mark<=100:\n",
        "      grade='Golden A'\n",
        "    elif 80<=final_mark<=89:\n",
        "      grade='A+'\n",
        "    elif 70<=final_mark<=79:\n",
        "      grade='A-'\n",
        "    elif 60<=final_mark<=69:\n",
        "      grade='B'\n",
        "    elif 50<=final_mark<=59:\n",
        "      grade='C'\n",
        "    elif 40<=final_mark<=49:\n",
        "      grade='D'\n",
        "    else:\n",
        "      grade = 'F'\n",
        "    return grade\n",
        "def print_Remark(grade):\n",
        "  if grade == 'A':\n",
        "    print(\"Remark : Excillent\")\n",
        "  elif grade == 'A-':\n",
        "    print(\"Remark : Good\")\n",
        "  elif grade == 'B':\n",
        "    print(\"Remark : Satisfactory\")\n",
        "  elif grade == 'C':\n",
        "    print(\"Remark : Fair\")\n",
        "  elif grade == 'D':\n",
        "    print(\"Remark : Bad\")\n",
        "  elif grade == 'F':\n",
        "    print(\"Remark : Poor\")\n",
        "inputmark()\n",
        "\n",
        "\n",
        "    "
      ],
      "execution_count": 1,
      "outputs": [
        {
          "output_type": "stream",
          "text": [
            "Enter Student ID : \n",
            "191152700\n",
            "Enter Exam Score : \n",
            "100\n",
            "Enter All Test Scores : \n",
            "80\n",
            "80\n",
            "80\n",
            "70\n",
            "79\n",
            "89\n",
            "80\n",
            "80\n",
            "90\n",
            "60\n",
            "Test Average is :78.8\n",
            "Final mark is : 91.52\n",
            "Letter Grade is : Golden A\n"
          ],
          "name": "stdout"
        },
        {
          "output_type": "execute_result",
          "data": {
            "text/plain": [
              "78.8"
            ]
          },
          "metadata": {
            "tags": []
          },
          "execution_count": 1
        }
      ]
    }
  ]
}