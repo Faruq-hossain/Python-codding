{
  "nbformat": 4,
  "nbformat_minor": 0,
  "metadata": {
    "colab": {
      "name": "**Project: Weight Convert in python**.ipynb",
      "provenance": [],
      "authorship_tag": "ABX9TyOno25T6T3wHLGpQ71/JtoZ",
      "include_colab_link": true
    },
    "kernelspec": {
      "name": "python3",
      "display_name": "Python 3"
    }
  },
  "cells": [
    {
      "cell_type": "markdown",
      "metadata": {
        "id": "view-in-github",
        "colab_type": "text"
      },
      "source": [
        "<a href=\"https://colab.research.google.com/github/Faruq-hossain/Python-codding/blob/master/_Project_Weight_Convert_in_python_.ipynb\" target=\"_parent\"><img src=\"https://colab.research.google.com/assets/colab-badge.svg\" alt=\"Open In Colab\"/></a>"
      ]
    },
    {
      "cell_type": "markdown",
      "metadata": {
        "id": "spUe_1z7PsiJ"
      },
      "source": [
        "**Project: Weight Convert**"
      ]
    },
    {
      "cell_type": "markdown",
      "metadata": {
        "id": "H9r2XBwSPxIZ"
      },
      "source": [
        "here convert someon's weight from pounds to kilograms. Now we want to extend this program and allow the user to enter their weight in eother kilograms or pounds and then we will convert it to the other unit. so see how it to work"
      ]
    },
    {
      "cell_type": "code",
      "metadata": {
        "colab": {
          "base_uri": "https://localhost:8080/"
        },
        "id": "-xP_cUcOP0Jg",
        "outputId": "cae97b14-e3d3-4c36-ddb2-f2cde585ac2b"
      },
      "source": [
        "weight = int (input( 'Weight: '))\n",
        "unit = input('(L)bs or (K)g: ')\n",
        "if unit.upper() == \"L\": #with this inplementation we are only allowing the users to enter a vapital L\n",
        "               #if they enter a lowercase l this code is not going to work\n",
        "               #so this is where we use the upper method of string objects so this \n",
        "               #unit is a string becaudse as  i told you input function always return string\n",
        "\n",
        "               #so we can use dot (.) operator to access all it is method or functioin , here we dcall the upper method this will convert we use to upper case and then we will convert it capital l. \n",
        "  converted = weight * 0.45\n",
        "  print(f\"You are {converted} kilos\")\n",
        "else:\n",
        "  converted = weight / 0.45\n",
        "  print(f\"You are {converted} pounds\")"
      ],
      "execution_count": 1,
      "outputs": [
        {
          "output_type": "stream",
          "text": [
            "Weight: 160\n",
            "(L)bs or (K)g: l\n",
            "You are 72.0 kilos\n"
          ],
          "name": "stdout"
        }
      ]
    }
  ]
}