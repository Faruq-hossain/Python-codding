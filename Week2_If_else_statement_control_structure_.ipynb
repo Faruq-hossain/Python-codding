{
  "nbformat": 4,
  "nbformat_minor": 0,
  "metadata": {
    "colab": {
      "name": "Week2 If else statement control structure .ipynb",
      "provenance": [],
      "toc_visible": true,
      "authorship_tag": "ABX9TyPMHnp2lq0SFsbYFKUTIf3X",
      "include_colab_link": true
    },
    "kernelspec": {
      "name": "python3",
      "display_name": "Python 3"
    },
    "accelerator": "GPU"
  },
  "cells": [
    {
      "cell_type": "markdown",
      "metadata": {
        "id": "view-in-github",
        "colab_type": "text"
      },
      "source": [
        "<a href=\"https://colab.research.google.com/github/Faruq-hossain/Python-codding/blob/master/Week2_If_else_statement_control_structure_.ipynb\" target=\"_parent\"><img src=\"https://colab.research.google.com/assets/colab-badge.svg\" alt=\"Open In Colab\"/></a>"
      ]
    },
    {
      "cell_type": "markdown",
      "metadata": {
        "id": "qUgXOgqqdgyy"
      },
      "source": [
        "# **If Statement**\n",
        "\n",
        "---\n",
        "\n"
      ]
    },
    {
      "cell_type": "code",
      "metadata": {
        "id": "atF2zd0oWKsX",
        "outputId": "0d78e1e4-cd8b-4ba2-e810-7cd169be3710",
        "colab": {
          "base_uri": "https://localhost:8080/",
          "height": 34
        }
      },
      "source": [
        "grade = 85\n",
        "if grade >= 60:\n",
        "  print('Passed')    "
      ],
      "execution_count": 1,
      "outputs": [
        {
          "output_type": "stream",
          "text": [
            "Passed\n"
          ],
          "name": "stdout"
        }
      ]
    },
    {
      "cell_type": "code",
      "metadata": {
        "id": "EKik9nq2eX_f"
      },
      "source": [
        ""
      ],
      "execution_count": null,
      "outputs": []
    },
    {
      "cell_type": "markdown",
      "metadata": {
        "id": "sfJtFYYAeGLq"
      },
      "source": [
        "# **If else Statement**\n",
        "\n",
        "---\n",
        "\n"
      ]
    },
    {
      "cell_type": "code",
      "metadata": {
        "id": "kbGyT4rieLl8",
        "outputId": "d029c4d9-e504-4735-e671-962e6011eaf8",
        "colab": {
          "base_uri": "https://localhost:8080/",
          "height": 34
        }
      },
      "source": [
        "grade = 85\n",
        "if grade>= 60:\n",
        "   print(\"Passed\")\n",
        "else:\n",
        "   print(\"Failed\")"
      ],
      "execution_count": 8,
      "outputs": [
        {
          "output_type": "stream",
          "text": [
            "Passed\n"
          ],
          "name": "stdout"
        }
      ]
    },
    {
      "cell_type": "code",
      "metadata": {
        "id": "l7l5CfJpis4I",
        "outputId": "19fc268b-fef3-46c4-c8c6-55a9f093481b",
        "colab": {
          "base_uri": "https://localhost:8080/",
          "height": 34
        }
      },
      "source": [
        "grade = 57\n",
        "if grade >= 60:\n",
        " print('Passed')\n",
        "else:\n",
        " print('Failed')"
      ],
      "execution_count": 9,
      "outputs": [
        {
          "output_type": "stream",
          "text": [
            "Failed\n"
          ],
          "name": "stdout"
        }
      ]
    },
    {
      "cell_type": "markdown",
      "metadata": {
        "id": "ir47v-VGjTsw"
      },
      "source": [
        "#**Conditional Expressions**\n",
        "\n",
        "---\n",
        "\n"
      ]
    },
    {
      "cell_type": "code",
      "metadata": {
        "id": "Dy5tReQSjxhG"
      },
      "source": [
        "result = ('Passed' if grade >= 60 else 'Failed')"
      ],
      "execution_count": 14,
      "outputs": []
    },
    {
      "cell_type": "code",
      "metadata": {
        "id": "tDzkkr_Hj0Iv",
        "outputId": "91628ca4-b4a7-4b33-cd3f-15d8946dfaea",
        "colab": {
          "base_uri": "https://localhost:8080/",
          "height": 34
        }
      },
      "source": [
        "print(result)"
      ],
      "execution_count": 15,
      "outputs": [
        {
          "output_type": "stream",
          "text": [
            "Failed\n"
          ],
          "name": "stdout"
        }
      ]
    },
    {
      "cell_type": "markdown",
      "metadata": {
        "id": "FuCWrM2ckobI"
      },
      "source": [
        "# **Multiple Statements in a Suite**\n",
        "\n",
        "---\n",
        "\n"
      ]
    },
    {
      "cell_type": "code",
      "metadata": {
        "id": "rYoDq_ODkuXx",
        "outputId": "c4bd9714-44f0-4b89-ff7b-fcb06921c719",
        "colab": {
          "base_uri": "https://localhost:8080/",
          "height": 52
        }
      },
      "source": [
        "grade = 49\n",
        "if grade >= 60:\n",
        " print('Passed')\n",
        "else:\n",
        " print('Failed')\n",
        " print('You must take this course again')"
      ],
      "execution_count": 16,
      "outputs": [
        {
          "output_type": "stream",
          "text": [
            "Failed\n",
            "You must take this course again\n"
          ],
          "name": "stdout"
        }
      ]
    },
    {
      "cell_type": "code",
      "metadata": {
        "id": "KEX_C5wYk2tO",
        "outputId": "e9792334-527e-4b4e-c0ec-f89f651ba11f",
        "colab": {
          "base_uri": "https://localhost:8080/",
          "height": 34
        }
      },
      "source": [
        "grade = 100\n",
        "if grade >= 60:\n",
        "  print('Passed')\n",
        "else:\n",
        "    print('Failed')\n",
        "    print('You must take this course again')"
      ],
      "execution_count": 25,
      "outputs": [
        {
          "output_type": "stream",
          "text": [
            "Passed\n"
          ],
          "name": "stdout"
        }
      ]
    },
    {
      "cell_type": "markdown",
      "metadata": {
        "id": "taQyxFxVkUSX"
      },
      "source": [
        "# **IF...elif...else statement**\n",
        "\n",
        "---\n",
        "\n"
      ]
    },
    {
      "cell_type": "code",
      "metadata": {
        "id": "DwYBZQU1lTbJ",
        "outputId": "8d0d336e-2f18-4436-c370-7addc34c3bc5",
        "colab": {
          "base_uri": "https://localhost:8080/",
          "height": 34
        }
      },
      "source": [
        "grade = 77\n",
        "if grade >= 90:\n",
        " print('A')\n",
        "elif grade >= 80:\n",
        " print('B')\n",
        "elif grade >= 70:\n",
        " print('C')\n",
        "elif grade >= 60:\n",
        " print('D')\n",
        "else:\n",
        " print('F')"
      ],
      "execution_count": 28,
      "outputs": [
        {
          "output_type": "stream",
          "text": [
            "C\n"
          ],
          "name": "stdout"
        }
      ]
    },
    {
      "cell_type": "markdown",
      "metadata": {
        "id": "uTn9dZmPoL2u"
      },
      "source": [
        "# **while Statement**\n",
        "\n",
        "---\n",
        "\n"
      ]
    },
    {
      "cell_type": "code",
      "metadata": {
        "id": "2F8ztcL1oW43",
        "outputId": "5225320c-edfa-44f3-8b09-5e6e60ce9f55",
        "colab": {
          "base_uri": "https://localhost:8080/",
          "height": 34
        }
      },
      "source": [
        "number = 1\n",
        "\n",
        "while (number<10):\n",
        "  print(number, end=\" \") #print in same line with space using end =\"\"\n",
        "  number+=1"
      ],
      "execution_count": 31,
      "outputs": [
        {
          "output_type": "stream",
          "text": [
            "1 2 3 4 5 6 7 8 9 "
          ],
          "name": "stdout"
        }
      ]
    },
    {
      "cell_type": "code",
      "metadata": {
        "id": "YS4DE1p2pB_1"
      },
      "source": [
        "product = 3\n",
        "\n",
        "while product <= 50:\n",
        " product = product * 3"
      ],
      "execution_count": 36,
      "outputs": []
    },
    {
      "cell_type": "code",
      "metadata": {
        "id": "sxKkUoMlpMNm",
        "outputId": "40440d8a-3184-4077-c772-c0cbc1a781ca",
        "colab": {
          "base_uri": "https://localhost:8080/",
          "height": 34
        }
      },
      "source": [
        "print(product)"
      ],
      "execution_count": 37,
      "outputs": [
        {
          "output_type": "stream",
          "text": [
            "81\n"
          ],
          "name": "stdout"
        }
      ]
    },
    {
      "cell_type": "markdown",
      "metadata": {
        "id": "PAhup1CSqI-2"
      },
      "source": [
        "# **For statement**\n",
        "\n",
        "---\n",
        "\n"
      ]
    },
    {
      "cell_type": "code",
      "metadata": {
        "id": "KD4xjjrOqjbO",
        "outputId": "1906816c-8d88-4745-bfa2-e304ed725314",
        "colab": {
          "base_uri": "https://localhost:8080/",
          "height": 34
        }
      },
      "source": [
        "for character in \"programming\":\n",
        "  print(character, end=\" \")"
      ],
      "execution_count": 38,
      "outputs": [
        {
          "output_type": "stream",
          "text": [
            "p r o g r a m m i n g "
          ],
          "name": "stdout"
        }
      ]
    },
    {
      "cell_type": "markdown",
      "metadata": {
        "id": "c4cTumbAqnCT"
      },
      "source": [
        "Let’s use a for statement and the built-in range function to iterate precisely 10 times, displaying the values from 0 through 9:"
      ]
    },
    {
      "cell_type": "code",
      "metadata": {
        "id": "NeUJ36gYqqmW",
        "outputId": "45c8a301-2134-4bff-929a-7bdc7e4bea6b",
        "colab": {
          "base_uri": "https://localhost:8080/",
          "height": 34
        }
      },
      "source": [
        "for counter in range(10):\n",
        "  print(counter, end=\" \")"
      ],
      "execution_count": 39,
      "outputs": [
        {
          "output_type": "stream",
          "text": [
            "0 1 2 3 4 5 6 7 8 9 "
          ],
          "name": "stdout"
        }
      ]
    },
    {
      "cell_type": "markdown",
      "metadata": {
        "id": "MFmdsuo7q8KW"
      },
      "source": [
        "Use the range function and a for statement to calculate the total of the integers from 0 through 1,000,000.\n",
        "\n"
      ]
    },
    {
      "cell_type": "code",
      "metadata": {
        "id": "8WTvhDnkq_UO",
        "outputId": "3dce3942-0c63-48f2-da19-f114b3158f23",
        "colab": {
          "base_uri": "https://localhost:8080/",
          "height": 34
        }
      },
      "source": [
        "total = 0\n",
        "for number in range(1000001):\n",
        "  total = total+number\n",
        "\n",
        "print(total)"
      ],
      "execution_count": 40,
      "outputs": [
        {
          "output_type": "stream",
          "text": [
            "500000500000\n"
          ],
          "name": "stdout"
        }
      ]
    },
    {
      "cell_type": "markdown",
      "metadata": {
        "id": "APHRkv-wrCim"
      },
      "source": [
        "Function range also has two- and three-argument versions. As you’ve seen, range’s one argument version produces a sequence of consecutive integers from 0 up to, but not including, the argument’s value. Function range’s two-argument version produces a sequence of consecutive integers from its first argument’s value up to, but not including, the second argument’s value, as in:"
      ]
    },
    {
      "cell_type": "code",
      "metadata": {
        "id": "75sg5VGurD1e",
        "outputId": "f2e4c13c-c050-4cb1-d240-bca2695a4142",
        "colab": {
          "base_uri": "https://localhost:8080/",
          "height": 34
        }
      },
      "source": [
        "for number in range(5,10):\n",
        "  print(number, end=\" \")"
      ],
      "execution_count": 41,
      "outputs": [
        {
          "output_type": "stream",
          "text": [
            "5 6 7 8 9 "
          ],
          "name": "stdout"
        }
      ]
    },
    {
      "cell_type": "markdown",
      "metadata": {
        "id": "VTU3qe0KrZcQ"
      },
      "source": [
        "Function range’s three-argument version produces a sequence of integers from its first argument’s value up to, but not including, the second argument’s value, incrementing by the third argument’s value, which is known as the step:"
      ]
    },
    {
      "cell_type": "code",
      "metadata": {
        "id": "Tos1EVxfrab2",
        "outputId": "484bfd9d-8bb1-4b43-8432-773d389aa1a3",
        "colab": {
          "base_uri": "https://localhost:8080/",
          "height": 34
        }
      },
      "source": [
        "for number in range(0,10,2):\n",
        "  print(number, end=\" \")"
      ],
      "execution_count": 42,
      "outputs": [
        {
          "output_type": "stream",
          "text": [
            "0 2 4 6 8 "
          ],
          "name": "stdout"
        }
      ]
    },
    {
      "cell_type": "markdown",
      "metadata": {
        "id": "92HP4rcOrfFR"
      },
      "source": [
        "If the third argument is negative, the sequence progresses from the first argument’s value down to, but not including the second argument’s value, decrementing by the third argument’s value, as in:"
      ]
    },
    {
      "cell_type": "code",
      "metadata": {
        "id": "N12hDYa8rdy-",
        "outputId": "d4cca257-07ab-436c-a878-d7419d83ec96",
        "colab": {
          "base_uri": "https://localhost:8080/",
          "height": 34
        }
      },
      "source": [
        "for number in range(10,0,-2):\n",
        "  print(number, end=\" \")"
      ],
      "execution_count": 43,
      "outputs": [
        {
          "output_type": "stream",
          "text": [
            "10 8 6 4 2 "
          ],
          "name": "stdout"
        }
      ]
    },
    {
      "cell_type": "markdown",
      "metadata": {
        "id": "mz4Zo8b8rtP3"
      },
      "source": [
        "***Number table print using range function***"
      ]
    },
    {
      "cell_type": "markdown",
      "metadata": {
        "id": "bx5iyf9wrvbW"
      },
      "source": [
        "***Take an input from user and print the number table***\n",
        "\n",
        "\n",
        "\n",
        "```\n",
        "# This is formatted as code\n",
        "```\n",
        "\n"
      ]
    },
    {
      "cell_type": "code",
      "metadata": {
        "id": "htL7ERHJrt8e",
        "outputId": "0c40c25c-d9f4-4d1b-8344-2b7b834a4f22",
        "colab": {
          "base_uri": "https://localhost:8080/",
          "height": 34
        }
      },
      "source": [
        "number =  int(input())"
      ],
      "execution_count": 44,
      "outputs": [
        {
          "output_type": "stream",
          "text": [
            "7\n"
          ],
          "name": "stdout"
        }
      ]
    },
    {
      "cell_type": "code",
      "metadata": {
        "id": "IlUKEaSptLZV"
      },
      "source": [
        ""
      ],
      "execution_count": null,
      "outputs": []
    },
    {
      "cell_type": "code",
      "metadata": {
        "id": "5DQefrTcr28W",
        "outputId": "c4a1190a-420d-44f3-d8cf-31f056d274a5",
        "colab": {
          "base_uri": "https://localhost:8080/",
          "height": 193
        }
      },
      "source": [
        "for i in range(1,11):\n",
        "  print(number,\"X\",i,\"=\",number*i)"
      ],
      "execution_count": 45,
      "outputs": [
        {
          "output_type": "stream",
          "text": [
            "7 X 1 = 7\n",
            "7 X 2 = 14\n",
            "7 X 3 = 21\n",
            "7 X 4 = 28\n",
            "7 X 5 = 35\n",
            "7 X 6 = 42\n",
            "7 X 7 = 49\n",
            "7 X 8 = 56\n",
            "7 X 9 = 63\n",
            "7 X 10 = 70\n"
          ],
          "name": "stdout"
        }
      ]
    },
    {
      "cell_type": "markdown",
      "metadata": {
        "id": "TrBk4x_tr-MX"
      },
      "source": [
        "\n",
        "Nested For Loop"
      ]
    },
    {
      "cell_type": "code",
      "metadata": {
        "id": "_Yobay3Zr9_e",
        "outputId": "9f86fc93-5d73-4dc9-c779-91c4db023c7a",
        "colab": {
          "base_uri": "https://localhost:8080/",
          "height": 140
        }
      },
      "source": [
        "for left in range(7):\n",
        "    for right in range(left,7):\n",
        "        print(\"[\"+str(left)+\"|\"+str(right)+\"]\", end =\" \")\n",
        "    print()"
      ],
      "execution_count": 46,
      "outputs": [
        {
          "output_type": "stream",
          "text": [
            "[0|0] [0|1] [0|2] [0|3] [0|4] [0|5] [0|6] \n",
            "[1|1] [1|2] [1|3] [1|4] [1|5] [1|6] \n",
            "[2|2] [2|3] [2|4] [2|5] [2|6] \n",
            "[3|3] [3|4] [3|5] [3|6] \n",
            "[4|4] [4|5] [4|6] \n",
            "[5|5] [5|6] \n",
            "[6|6] \n"
          ],
          "name": "stdout"
        }
      ]
    },
    {
      "cell_type": "markdown",
      "metadata": {
        "id": "0vKxaI8fsEaX"
      },
      "source": [
        "\n",
        "***Break statement***"
      ]
    },
    {
      "cell_type": "code",
      "metadata": {
        "id": "EKgxtjdFsENI",
        "outputId": "17b0662d-1234-45ca-8cbd-2ae04403aa5b",
        "colab": {
          "base_uri": "https://localhost:8080/",
          "height": 34
        }
      },
      "source": [
        "for number in range(10):\n",
        "  if  number==5:\n",
        "    break\n",
        "  print(number, end=\" \")"
      ],
      "execution_count": 47,
      "outputs": [
        {
          "output_type": "stream",
          "text": [
            "0 1 2 3 4 "
          ],
          "name": "stdout"
        }
      ]
    },
    {
      "cell_type": "markdown",
      "metadata": {
        "id": "BxwmXC70sK7D"
      },
      "source": [
        "\n",
        "**Continue statement**"
      ]
    },
    {
      "cell_type": "code",
      "metadata": {
        "id": "COg6QLfRsNIN",
        "outputId": "9c27ed0d-d8d0-40dc-e209-4a1e7b09df73",
        "colab": {
          "base_uri": "https://localhost:8080/",
          "height": 34
        }
      },
      "source": [
        "for number in range(10):\n",
        "  if  number==5:\n",
        "    continue\n",
        "  print(number, end=\" \")"
      ],
      "execution_count": 48,
      "outputs": [
        {
          "output_type": "stream",
          "text": [
            "0 1 2 3 4 6 7 8 9 "
          ],
          "name": "stdout"
        }
      ]
    },
    {
      "cell_type": "markdown",
      "metadata": {
        "id": "NeQVHO7XsQRA"
      },
      "source": [
        "#**Beginner Problem solving from Uri Online Judge**\n",
        "\n",
        "---\n",
        "\n",
        "\n",
        "\n"
      ]
    },
    {
      "cell_type": "markdown",
      "metadata": {
        "id": "1u-DY_B6szaH"
      },
      "source": [
        "https://www.urionlinejudge.com.br/judge/en/problems/index/1"
      ]
    }
  ]
}