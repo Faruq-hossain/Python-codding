{
  "nbformat": 4,
  "nbformat_minor": 0,
  "metadata": {
    "colab": {
      "name": "solve question 1 product selling record.ipynb",
      "provenance": [],
      "collapsed_sections": [],
      "authorship_tag": "ABX9TyPXyk+/nb9IjNFEiRye+nSJ",
      "include_colab_link": true
    },
    "kernelspec": {
      "name": "python3",
      "display_name": "Python 3"
    }
  },
  "cells": [
    {
      "cell_type": "markdown",
      "metadata": {
        "id": "view-in-github",
        "colab_type": "text"
      },
      "source": [
        "<a href=\"https://colab.research.google.com/github/Faruq-hossain/Python-codding/blob/master/solve_question_1_product_selling_record.ipynb\" target=\"_parent\"><img src=\"https://colab.research.google.com/assets/colab-badge.svg\" alt=\"Open In Colab\"/></a>"
      ]
    },
    {
      "cell_type": "code",
      "metadata": {
        "colab": {
          "base_uri": "https://localhost:8080/"
        },
        "id": "UTxDGDME_P1A",
        "outputId": "cb7424a2-256a-4a59-ab9d-c50eaf997bcf"
      },
      "source": [
        "product = {\"name\": [], \"price =\": []};\r\n",
        "emp={\"NID\":[],\"firstName\":[],\"lastName\":[],\"phone\":[]}\r\n",
        "cust={\"firstName\":[],\"lastName\":[],\"phone\":[],\"address\":[]}\r\n",
        "s_record={\"sellerInformation\":[],\"customerInformation\":[]}\r\n",
        "Whole_record=[]\r\n",
        "\r\n",
        "class employee:\r\n",
        "     def __init__(self,sNID,sfName,slName,sphone):\r\n",
        "         self.NID=sNID\r\n",
        "         self.fName=sfName\r\n",
        "         self.lName=slName\r\n",
        "         self.phone=sphone\r\n",
        "     def adding(self,NID,fName,lName,phone):\r\n",
        "         emp[\"NID\"].append(NID)\r\n",
        "         emp[\"firstName\"].append(fName)\r\n",
        "         emp[\"lastName\"].append(lName)\r\n",
        "         emp[\"phone\"].append(phone)\r\n",
        "\r\n",
        "class customer:\r\n",
        "    def __init__(self,cfName,clName,cphone,caddress):\r\n",
        "        self.fname=cfName\r\n",
        "        self.lname=clName\r\n",
        "        self.phone=cphone\r\n",
        "        self.address=caddress\r\n",
        "    def adding(self,fName,lName,phone,address):\r\n",
        "        cust[\"firstName\"].append(fName)\r\n",
        "        cust[\"lastName\"].append(lName)\r\n",
        "        cust[\"phone\"].append(phone)\r\n",
        "        cust[\"address\"].append(address)\r\n",
        "\r\n",
        "\r\n",
        "class products:\r\n",
        "    def __init__(self,pname,pprice):\r\n",
        "        self.name=pname\r\n",
        "        self.price=pprice\r\n",
        "    def adding(self,name,price):\r\n",
        "        product[\"name\"].append(name)\r\n",
        "        product[\"price\"].append(price)\r\n",
        "\r\n",
        "\r\n",
        "def available_product():\r\n",
        "    print(product)\r\n",
        "\r\n",
        "\r\n",
        "class selling_record:\r\n",
        "    def __init__(self,emp,cust):\r\n",
        "        s_record[\"sellerInformation\"].append(emp)\r\n",
        "        s_record[\"customerInformation\"].append(cust)\r\n",
        "\r\n",
        "    Whole_record.append(s_record)\r\n",
        "\r\n",
        "\r\n",
        "def records():\r\n",
        "    print(Whole_record)\r\n",
        "\r\n",
        "if __name__ == '__main__':\r\n",
        "    while 1:\r\n",
        "        a=int(input(\"\\n 1.Add product \\n 2.Add Selling record \\n 3.Show product in Stock  \\n 4.Show selling records\"))\r\n",
        "        if(a==1):\r\n",
        "            pname=input(\"Enter product name : \")\r\n",
        "            pprice=int(input(\"Enter product price : \"))\r\n",
        "            prd=products(pname,pprice)\r\n",
        "        elif(a==2):\r\n",
        "            sNID=input(\"Enter sellers NID Number : \")\r\n",
        "            sfName = input(\"Enter sellers First name : \")\r\n",
        "            slName = input(\"Enter sellers Last name : \")\r\n",
        "            sphone = input(\"Enter sellers Phone Number : \")\r\n",
        "            cfName = input(\"Enter Customers First name : \")\r\n",
        "            clName = input(\"Enter Customers Last name : \")\r\n",
        "            cphone = input(\"Enter Customers Phone Number : \")\r\n",
        "            caddress = input(\"Enter Customers address : \")\r\n",
        "            em=employee(sNID,sfName,slName,sphone)\r\n",
        "            cus=customer(cfName,clName,cphone,caddress)\r\n",
        "            sr=selling_record(emp,cust)\r\n",
        "\r\n",
        "        elif(a==3):\r\n",
        "            available_product()\r\n",
        "        elif (a == 4):\r\n",
        "            records()"
      ],
      "execution_count": null,
      "outputs": [
        {
          "output_type": "stream",
          "text": [
            "\n",
            " 1.Add product \n",
            " 2.Add Selling record \n",
            " 3.Show product in Stock  \n",
            " 4.Show selling records1\n",
            "Enter product name : cips\n",
            "Enter product price : 10\n"
          ],
          "name": "stdout"
        }
      ]
    }
  ]
}