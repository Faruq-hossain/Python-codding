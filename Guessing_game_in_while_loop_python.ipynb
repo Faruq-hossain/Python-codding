{
  "nbformat": 4,
  "nbformat_minor": 0,
  "metadata": {
    "colab": {
      "name": "Guessing game in while loop python.ipynb",
      "provenance": [],
      "collapsed_sections": [],
      "authorship_tag": "ABX9TyP8LOMDoOQMe5wYUPtfbaKh",
      "include_colab_link": true
    },
    "kernelspec": {
      "name": "python3",
      "display_name": "Python 3"
    }
  },
  "cells": [
    {
      "cell_type": "markdown",
      "metadata": {
        "id": "view-in-github",
        "colab_type": "text"
      },
      "source": [
        "<a href=\"https://colab.research.google.com/github/Faruq-hossain/Python-codding/blob/master/Guessing_game_in_while_loop_python.ipynb\" target=\"_parent\"><img src=\"https://colab.research.google.com/assets/colab-badge.svg\" alt=\"Open In Colab\"/></a>"
      ]
    },
    {
      "cell_type": "markdown",
      "metadata": {
        "id": "7DHkHB6z2tTR"
      },
      "source": [
        "**Guessing game in while loop python**"
      ]
    },
    {
      "cell_type": "markdown",
      "metadata": {
        "id": "YhQhRLwt26wm"
      },
      "source": [
        "Here the game working process"
      ]
    },
    {
      "cell_type": "markdown",
      "metadata": {
        "id": "xUgGsf2f2791"
      },
      "source": [
        "So here the secrect number is 9 . Now computer is asking me to make a guess. So, 1st gess 1 then 2 then 3 here not fint my number so. u faield the game. and you only have 3 chances to make a guess. If can not guess the number the program tells me that i faielled."
      ]
    },
    {
      "cell_type": "code",
      "metadata": {
        "colab": {
          "base_uri": "https://localhost:8080/"
        },
        "id": "165YkVxc2rRe",
        "outputId": "2021d811-41fe-4d1f-fa71-6c9f3d8772ee"
      },
      "source": [
        "secret_number = 9\n",
        "guess_count = 0                     #guess_count represent the number of guesses the use has made\n",
        "guess_limit = 3\n",
        "while guess_count < guess_limit:\n",
        "  guess = int(input('GUess :'))     #here (int) use because the users enters comes out as a string so we need to convert it to an integer.\n",
        "  guess_count +=1                   #increment the guess_count\n",
        "  if guess == secret_number:\n",
        "    print('You Won!...')\n",
        "    break\n",
        "else:\n",
        "  print('Sorry, You Faield The Game...')"
      ],
      "execution_count": 4,
      "outputs": [
        {
          "output_type": "stream",
          "text": [
            "GUess :1\n",
            "GUess :2\n",
            "GUess :3\n",
            "Sorry, You Faield The Game...\n"
          ],
          "name": "stdout"
        }
      ]
    },
    {
      "cell_type": "code",
      "metadata": {
        "colab": {
          "base_uri": "https://localhost:8080/"
        },
        "id": "fRLA_hrx3DBN",
        "outputId": "4aa0159a-fc7a-427c-9fc3-de9a1f8de855"
      },
      "source": [
        "secret_number = 9\n",
        "guess_count = 0                     #guess_count represent the number of guesses the use has made\n",
        "guess_limit = 3\n",
        "while guess_count < guess_limit:\n",
        "  guess = int(input('GUess :'))     #here (int) use because the users enters comes out as a string so we need to convert it to an integer.\n",
        "  guess_count +=1                   #increment the guess_count\n",
        "  if guess == secret_number:\n",
        "    print('You Won!...')\n",
        "    break\n",
        "else:\n",
        "  print('Sorry, You Faield The Game...')"
      ],
      "execution_count": 2,
      "outputs": [
        {
          "output_type": "stream",
          "text": [
            "GUess :1\n",
            "GUess :2\n",
            "GUess :3\n",
            "Sorry, You Faield The Game...\n"
          ],
          "name": "stdout"
        }
      ]
    },
    {
      "cell_type": "markdown",
      "metadata": {
        "id": "v5MDwZ9HNVTA"
      },
      "source": [
        "**Another**"
      ]
    },
    {
      "cell_type": "code",
      "metadata": {
        "colab": {
          "base_uri": "https://localhost:8080/"
        },
        "id": "afcHdJV5NXIP",
        "outputId": "cc539e36-8eed-4604-f6ed-ead27a98ab6e"
      },
      "source": [
        "from random import randint\n",
        "guesses = 1\n",
        "number = randint(1,10)\n",
        "\n",
        "guess = int (input(\"Gusses the number between 1 to 100.\\n\"))\n",
        "\n",
        "while guess!=number:\n",
        "  if guess < number:\n",
        "    print(\"Your guess too low.\\n\")\n",
        "    guess = int (input(\"Guess again!. \\n\"))\n",
        "\n",
        "    guesses = guesses + 1\n",
        "  elif guess > number:\n",
        "    print(\"Your guess was too high.\\n\")\n",
        "    guess = int (input(\"Guess again!. \\n\"))\n",
        "    guesses = guesses+1\n",
        "print()\n",
        "print(\"Congratulations, you guess the number!. \\n\")\n",
        "print(\"It only took you\", guesses,\"guesses!.\\n\")"
      ],
      "execution_count": 8,
      "outputs": [
        {
          "output_type": "stream",
          "text": [
            "Gusses the number between 1 to 100.\n",
            "2\n",
            "Your guess too low.\n",
            "\n",
            "Guess again!. \n",
            "3\n",
            "Your guess too low.\n",
            "\n",
            "Guess again!. \n",
            "4\n",
            "\n",
            "Congratulations, you guess the number!. \n",
            "\n",
            "It only took you 3 guesses!.\n",
            "\n"
          ],
          "name": "stdout"
        }
      ]
    },
    {
      "cell_type": "markdown",
      "metadata": {
        "id": "bJ1VEwSzNbW-"
      },
      "source": [
        "**Another**"
      ]
    },
    {
      "cell_type": "code",
      "metadata": {
        "colab": {
          "base_uri": "https://localhost:8080/"
        },
        "id": "XsxyKXFmNc3W",
        "outputId": "a98dbb9e-f103-4f9a-f3ff-aae70946ba5d"
      },
      "source": [
        "import random\n",
        "number = random.randint(1,10)\n",
        "guess = int (input(\"Guess a number between 1 to 10.\\n\"))\n",
        "while guess!=number:\n",
        "  print(\"Guess Again!.\\n\")\n",
        "  guess = int (input(\"Guess a number between 1 to 10.\\n\"))\n",
        "print(\"Congratulations, you guess the number!. \\n\")\n"
      ],
      "execution_count": 5,
      "outputs": [
        {
          "output_type": "stream",
          "text": [
            "Guess a number between 1 to 10.\n",
            "1\n",
            "Guess Again!.\n",
            "\n",
            "Guess a number between 1 to 10.\n",
            "2\n",
            "Congratulations, you guess the number!. \n",
            "\n"
          ],
          "name": "stdout"
        }
      ]
    },
    {
      "cell_type": "markdown",
      "metadata": {
        "id": "UdUa-wG4PdgK"
      },
      "source": [
        "**Another its better**"
      ]
    },
    {
      "cell_type": "code",
      "metadata": {
        "colab": {
          "base_uri": "https://localhost:8080/"
        },
        "id": "5aPpZSNeWw-7",
        "outputId": "514c24de-5da0-471b-a5fc-a12e3fbe019b"
      },
      "source": [
        "import random\n",
        "num = 5\n",
        "num_of = 0\n",
        "print(\"Welcome to number gussing game!!\")\n",
        "while True:\n",
        "  try:\n",
        "    lucky_num = int (input(\"Please enter your lucky number 1 to 10.\\n\"))\n",
        "    if lucky_num >11 or lucky_num <1:\n",
        "      print(\"Please enter number 1 to 10.\\n\")\n",
        "      continue\n",
        "    if lucky_num == num:\n",
        "      print(\"You Won!!.\\n\")\n",
        "      again = input(\"Would you like to play again? Enter Y/N \")\n",
        "      if again == \"N\":\n",
        "        print(\"Thank you for playing with us\")\n",
        "        break\n",
        "      else:\n",
        "        num = random.randint(1,10)\n",
        "        num_of == 0\n",
        "        continue\n",
        "      break\n",
        "    else:\n",
        "      print(\"Sorry !! Its wrong number\")\n",
        "      num_of +=1\n",
        "      if num_of ==3:\n",
        "        print(\"Your 3 attempt exceeded\")\n",
        "        print(\"Better luck next time\")\n",
        "        break\n",
        "\n",
        "  except:\n",
        "    print(\"Please enter number 1 to 10.\\n\")\n",
        "    continue"
      ],
      "execution_count": 1,
      "outputs": [
        {
          "output_type": "stream",
          "text": [
            "Welcome to number gussing game!!\n",
            "Please enter your lucky number 1 to 10.\n",
            "4\n",
            "Sorry !! Its wrong number\n",
            "Please enter your lucky number 1 to 10.\n",
            "5\n",
            "You Won!!.\n",
            "\n",
            "Would you like to play again? Enter Y/N n\n",
            "Please enter your lucky number 1 to 10.\n",
            "8\n",
            "You Won!!.\n",
            "\n",
            "Would you like to play again? Enter Y/N n\n",
            "Please enter your lucky number 1 to 10.\n",
            "8\n",
            "Sorry !! Its wrong number\n",
            "Please enter your lucky number 1 to 10.\n",
            "9\n",
            "Sorry !! Its wrong number\n",
            "Your 3 attempt exceeded\n",
            "Better luck next time\n"
          ],
          "name": "stdout"
        }
      ]
    },
    {
      "cell_type": "markdown",
      "metadata": {
        "id": "dXmDns17dKGq"
      },
      "source": [
        "**String**"
      ]
    },
    {
      "cell_type": "code",
      "metadata": {
        "colab": {
          "base_uri": "https://localhost:8080/"
        },
        "id": "DWkwfMxkdJoS",
        "outputId": "e6be8bbd-95eb-48e8-aec5-46b216f10886"
      },
      "source": [
        "name = \"Faruq\"\n",
        "guess=\"\"\n",
        "guess_count=0\n",
        "guess_nam=5\n",
        "out_of_guess = False\n",
        "while guess != name and not (out_of_guess):\n",
        "  if  guess_count < guess_nam:\n",
        "    guess = input(\"Enter your guesses :\\n\")\n",
        "    guess_count +=1\n",
        "  else:\n",
        "      out_of_guess = True\n",
        "if out_of_guess:\n",
        "  print(\"you failed!! \\n\")\n",
        "else:\n",
        "  print(\"You Won! \") "
      ],
      "execution_count": 12,
      "outputs": [
        {
          "output_type": "stream",
          "text": [
            "Enter your guesses :\n",
            "1\n",
            "Enter your guesses :\n",
            "2\n",
            "Enter your guesses :\n",
            "3\n",
            "Enter your guesses :\n",
            "Faruq\n",
            "You Won! \n"
          ],
          "name": "stdout"
        }
      ]
    }
  ]
}