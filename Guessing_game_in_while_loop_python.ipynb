{
  "nbformat": 4,
  "nbformat_minor": 0,
  "metadata": {
    "colab": {
      "name": "Guessing game in while loop python.ipynb",
      "provenance": [],
      "authorship_tag": "ABX9TyOpgHTgoXxp+9uxDnwEGMLw",
      "include_colab_link": true
    },
    "kernelspec": {
      "name": "python3",
      "display_name": "Python 3"
    }
  },
  "cells": [
    {
      "cell_type": "markdown",
      "metadata": {
        "id": "view-in-github",
        "colab_type": "text"
      },
      "source": [
        "<a href=\"https://colab.research.google.com/github/Faruq-hossain/Python-codding/blob/master/Guessing_game_in_while_loop_python.ipynb\" target=\"_parent\"><img src=\"https://colab.research.google.com/assets/colab-badge.svg\" alt=\"Open In Colab\"/></a>"
      ]
    },
    {
      "cell_type": "markdown",
      "metadata": {
        "id": "7DHkHB6z2tTR"
      },
      "source": [
        "**Guessing game in while loop python**"
      ]
    },
    {
      "cell_type": "markdown",
      "metadata": {
        "id": "YhQhRLwt26wm"
      },
      "source": [
        "Here the game working process"
      ]
    },
    {
      "cell_type": "markdown",
      "metadata": {
        "id": "xUgGsf2f2791"
      },
      "source": [
        "So here the secrect number is 9 . Now computer is asking me to make a guess. So, 1st gess 1 then 2 then 3 here not fint my number so. u faield the game. and you only have 3 chances to make a guess. If can not guess the number the program tells me that i faielled."
      ]
    },
    {
      "cell_type": "code",
      "metadata": {
        "colab": {
          "base_uri": "https://localhost:8080/"
        },
        "id": "165YkVxc2rRe",
        "outputId": "10ee2f72-d744-4e77-c721-db7546223f8a"
      },
      "source": [
        "secret_number = 9\n",
        "guess_count = 0                     #guess_count represent the number of guesses the use has made\n",
        "guess_limit = 3\n",
        "while guess_count < guess_limit:\n",
        "  guess = int(input('GUess :'))     #here (int) use because the users enters comes out as a string so we need to convert it to an integer.\n",
        "  guess_count +=1                   #increment the guess_count\n",
        "  if guess == secret_number:\n",
        "    print('You Won!...')\n",
        "    break\n",
        "else:\n",
        "  print('Sorry, You Faield The Game...')"
      ],
      "execution_count": 1,
      "outputs": [
        {
          "output_type": "stream",
          "text": [
            "GUess :9\n",
            "You Won!...\n"
          ],
          "name": "stdout"
        }
      ]
    },
    {
      "cell_type": "code",
      "metadata": {
        "colab": {
          "base_uri": "https://localhost:8080/"
        },
        "id": "fRLA_hrx3DBN",
        "outputId": "4aa0159a-fc7a-427c-9fc3-de9a1f8de855"
      },
      "source": [
        "secret_number = 9\n",
        "guess_count = 0                     #guess_count represent the number of guesses the use has made\n",
        "guess_limit = 3\n",
        "while guess_count < guess_limit:\n",
        "  guess = int(input('GUess :'))     #here (int) use because the users enters comes out as a string so we need to convert it to an integer.\n",
        "  guess_count +=1                   #increment the guess_count\n",
        "  if guess == secret_number:\n",
        "    print('You Won!...')\n",
        "    break\n",
        "else:\n",
        "  print('Sorry, You Faield The Game...')"
      ],
      "execution_count": 2,
      "outputs": [
        {
          "output_type": "stream",
          "text": [
            "GUess :1\n",
            "GUess :2\n",
            "GUess :3\n",
            "Sorry, You Faield The Game...\n"
          ],
          "name": "stdout"
        }
      ]
    }
  ]
}