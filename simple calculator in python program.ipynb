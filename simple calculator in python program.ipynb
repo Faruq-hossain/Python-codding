{
  "nbformat": 4,
  "nbformat_minor": 0,
  "metadata": {
    "colab": {
      "name": "Untitled4.ipynb",
      "provenance": [],
      "authorship_tag": "ABX9TyONrXtz8gaXr3THqiBKSFXp",
      "include_colab_link": true
    },
    "kernelspec": {
      "name": "python3",
      "display_name": "Python 3"
    }
  },
  "cells": [
    {
      "cell_type": "markdown",
      "metadata": {
        "id": "view-in-github",
        "colab_type": "text"
      },
      "source": [
        "<a href=\"https://colab.research.google.com/github/Faruq-hossain/Python-codding/blob/master/simple%20calculator%20in%20python%20program.ipynb\" target=\"_parent\"><img src=\"https://colab.research.google.com/assets/colab-badge.svg\" alt=\"Open In Colab\"/></a>"
      ]
    },
    {
      "cell_type": "markdown",
      "metadata": {
        "id": "n5XpN-wtLUJP"
      },
      "source": [
        "**Program to make simple calculator using function in python**\n",
        "\n",
        "---\n",
        "\n"
      ]
    },
    {
      "cell_type": "markdown",
      "metadata": {
        "id": "2JWS6e_RLe2l"
      },
      "source": [
        "**define the functions.**"
      ]
    },
    {
      "cell_type": "code",
      "metadata": {
        "id": "sdljZHAlGswB",
        "outputId": "ccd411ad-1ca1-4f84-b032-db4d0b751d2b",
        "colab": {
          "base_uri": "https://localhost:8080/"
        }
      },
      "source": [
        "def add(x,y):\n",
        "  return(x+y)\n",
        "\n",
        "def substract(x,y):\n",
        "  return(x-y)\n",
        "\n",
        "def multiply(x,y):\n",
        "  return(x*y)\n",
        "\n",
        "def devide (x,y):\n",
        "  return(x-y)\n",
        "\n",
        "def power(x,y):\n",
        "  return pow(x,y)\n",
        "\n",
        "import os\n",
        "\n",
        "print(\"=====================Restart=================\")\n",
        "print(\"select operation.\")\n",
        "print(\"1.Add\")  \n",
        "print(\"1.Substract\")\n",
        "print(\"1.Multimly\")\n",
        "print(\"1.Divide\")\n",
        "print(\"1.Power\")\n",
        "choice = input(\"Enter choice(1/2/3/4/5):\")\n",
        "\n",
        "num1 = int (input(\"Enter The First Number: \"))\n",
        "num2 = int (input(\"Enter The Second Number: \"))\n",
        "\n",
        "if choice == '1':\n",
        "  print(num1, \"+\", num2, \"=\", add(num1,num2))\n",
        "\n",
        "elif choice == '2':\n",
        "  print(num1, \"-\", num2, \"=\", substract(num1,num2))\n",
        "\n",
        "elif choice == '3':\n",
        "  print(num1, \"x\", num2, \"=\", multiply(num1,num2))\n",
        "\n",
        "elif choice == '4':\n",
        "  print(num1, \"/\", num2, \"=\", divide(num1,num2))\n",
        "\n",
        "elif choice == '5':\n",
        "  print(num1, \"^\", num2, \"=\", power(num1,num2))\n",
        "\n",
        "choice = input(\"restart the calculator (y or n)\")\n",
        "\n",
        "if choice == 'y' or choice == 'Y':\n",
        "  os.system(\"restart /1\")\n",
        "\n",
        "else:\n",
        "  print(\"Invalid input\")\n"
      ],
      "execution_count": 13,
      "outputs": [
        {
          "output_type": "stream",
          "text": [
            "=====================Restart=================\n",
            "select operation.\n",
            "1.Add\n",
            "1.Substract\n",
            "1.Multimly\n",
            "1.Divide\n",
            "1.Power\n",
            "Enter choice(1/2/3/4/5):1\n",
            "Enter The First Number: 3\n",
            "Enter The Second Number: 4\n",
            "3 + 4 = 7\n",
            "restart the calculator (y or n)y\n"
          ],
          "name": "stdout"
        }
      ]
    }
  ]
}