{
  "nbformat": 4,
  "nbformat_minor": 0,
  "metadata": {
    "colab": {
      "name": "My first program python \"print Hello word\".ipynb",
      "provenance": [],
      "authorship_tag": "ABX9TyPj9/z1QUdspus1s+kCt2Dv",
      "include_colab_link": true
    },
    "kernelspec": {
      "name": "python3",
      "display_name": "Python 3"
    }
  },
  "cells": [
    {
      "cell_type": "markdown",
      "metadata": {
        "id": "view-in-github",
        "colab_type": "text"
      },
      "source": [
        "<a href=\"https://colab.research.google.com/github/Faruq-hossain/Python-codding/blob/master/My_first_program_python_%22print_Hello_word%22.ipynb\" target=\"_parent\"><img src=\"https://colab.research.google.com/assets/colab-badge.svg\" alt=\"Open In Colab\"/></a>"
      ]
    },
    {
      "cell_type": "code",
      "metadata": {
        "id": "rXqI-SaJ6fLZ",
        "outputId": "f61c361e-e1a7-44cf-f12d-3050e3166732",
        "colab": {
          "base_uri": "https://localhost:8080/",
          "height": 34
        }
      },
      "source": [
        "print(\"Hello Word\")"
      ],
      "execution_count": 2,
      "outputs": [
        {
          "output_type": "stream",
          "text": [
            "Hello Word\n"
          ],
          "name": "stdout"
        }
      ]
    },
    {
      "cell_type": "markdown",
      "metadata": {
        "id": "5KE7gQRt9BlW"
      },
      "source": [
        "# **Variable and assignment statements**\n",
        "\n",
        "---\n",
        "\n"
      ]
    },
    {
      "cell_type": "code",
      "metadata": {
        "id": "J4pfLiZA9O5G",
        "outputId": "5a6a1385-6d5d-447c-de41-cc4f716bde4e",
        "colab": {
          "base_uri": "https://localhost:8080/",
          "height": 34
        }
      },
      "source": [
        "x=7\n",
        "y=3\n",
        "print(x+y)"
      ],
      "execution_count": 1,
      "outputs": [
        {
          "output_type": "stream",
          "text": [
            "10\n"
          ],
          "name": "stdout"
        }
      ]
    },
    {
      "cell_type": "code",
      "metadata": {
        "id": "sfQc-ZEx9gp4",
        "outputId": "adf93639-ea63-42f9-8ce2-dafde96ce62e",
        "colab": {
          "base_uri": "https://localhost:8080/",
          "height": 34
        }
      },
      "source": [
        "total = x+y\n",
        "print(total)"
      ],
      "execution_count": 2,
      "outputs": [
        {
          "output_type": "stream",
          "text": [
            "10\n"
          ],
          "name": "stdout"
        }
      ]
    },
    {
      "cell_type": "code",
      "metadata": {
        "id": "-oFqqryU9oWY",
        "outputId": "265cd7f9-fa46-4c0b-8bd1-dd1970f57fad",
        "colab": {
          "base_uri": "https://localhost:8080/",
          "height": 34
        }
      },
      "source": [
        "name = \"Faruq\"\n",
        "name2 = \"+ meem\"\n",
        "print(name,name2)"
      ],
      "execution_count": 4,
      "outputs": [
        {
          "output_type": "stream",
          "text": [
            "Faruq + meem\n"
          ],
          "name": "stdout"
        }
      ]
    },
    {
      "cell_type": "markdown",
      "metadata": {
        "id": "AnGQQqkD-D5h"
      },
      "source": [
        "# **Types**\n",
        "\n",
        "---\n",
        "\n"
      ]
    },
    {
      "cell_type": "code",
      "metadata": {
        "id": "5nL3_PFX-KAQ",
        "outputId": "13752c6b-a525-4ee0-f221-20d2cc1f1afa",
        "colab": {
          "base_uri": "https://localhost:8080/",
          "height": 34
        }
      },
      "source": [
        "x = 10\n",
        "type(x)"
      ],
      "execution_count": 5,
      "outputs": [
        {
          "output_type": "execute_result",
          "data": {
            "text/plain": [
              "int"
            ]
          },
          "metadata": {
            "tags": []
          },
          "execution_count": 5
        }
      ]
    },
    {
      "cell_type": "code",
      "metadata": {
        "id": "EAKTWyUQ-awA",
        "outputId": "5a55ef44-e0cc-4106-cb7e-f669a6640af7",
        "colab": {
          "base_uri": "https://localhost:8080/",
          "height": 34
        }
      },
      "source": [
        "type(10.5)"
      ],
      "execution_count": 6,
      "outputs": [
        {
          "output_type": "execute_result",
          "data": {
            "text/plain": [
              "float"
            ]
          },
          "metadata": {
            "tags": []
          },
          "execution_count": 6
        }
      ]
    },
    {
      "cell_type": "code",
      "metadata": {
        "id": "xfIBLo5D-d8A",
        "outputId": "b779e793-e8da-4ce6-cb73-53de3ce6af5a",
        "colab": {
          "base_uri": "https://localhost:8080/",
          "height": 34
        }
      },
      "source": [
        "type(name)"
      ],
      "execution_count": 7,
      "outputs": [
        {
          "output_type": "execute_result",
          "data": {
            "text/plain": [
              "str"
            ]
          },
          "metadata": {
            "tags": []
          },
          "execution_count": 7
        }
      ]
    },
    {
      "cell_type": "code",
      "metadata": {
        "id": "bXs9OW5J-meQ",
        "outputId": "cb8ee2cf-7b2f-46c8-d2e0-533f72201ac5",
        "colab": {
          "base_uri": "https://localhost:8080/",
          "height": 34
        }
      },
      "source": [
        "type(1/2)"
      ],
      "execution_count": 8,
      "outputs": [
        {
          "output_type": "execute_result",
          "data": {
            "text/plain": [
              "float"
            ]
          },
          "metadata": {
            "tags": []
          },
          "execution_count": 8
        }
      ]
    },
    {
      "cell_type": "markdown",
      "metadata": {
        "id": "OjdSCnzR-vnm"
      },
      "source": [
        "# **Arithmetic operations**\n",
        "\n",
        "---\n",
        "\n"
      ]
    },
    {
      "cell_type": "code",
      "metadata": {
        "id": "wOXoYBWa-tjw",
        "outputId": "43de350a-7fbf-462b-9088-286a68e1edbc",
        "colab": {
          "base_uri": "https://localhost:8080/",
          "height": 34
        }
      },
      "source": [
        "multiplication =7*4\n",
        "print(multiplication)"
      ],
      "execution_count": 10,
      "outputs": [
        {
          "output_type": "stream",
          "text": [
            "28\n"
          ],
          "name": "stdout"
        }
      ]
    },
    {
      "cell_type": "code",
      "metadata": {
        "id": "60HYcdNR_Pzh",
        "outputId": "ceb85478-4867-412b-a36b-042499c2db1f",
        "colab": {
          "base_uri": "https://localhost:8080/",
          "height": 34
        }
      },
      "source": [
        "add = 20+8\n",
        "print(add)"
      ],
      "execution_count": 13,
      "outputs": [
        {
          "output_type": "stream",
          "text": [
            "28\n"
          ],
          "name": "stdout"
        }
      ]
    },
    {
      "cell_type": "code",
      "metadata": {
        "id": "V3YzxZk4_URI",
        "outputId": "6e6faf4d-74bf-4289-c44a-89b53f1c36d3",
        "colab": {
          "base_uri": "https://localhost:8080/",
          "height": 34
        }
      },
      "source": [
        "sub = 30-2\n",
        "print(sub)"
      ],
      "execution_count": 15,
      "outputs": [
        {
          "output_type": "stream",
          "text": [
            "28\n"
          ],
          "name": "stdout"
        }
      ]
    },
    {
      "cell_type": "code",
      "metadata": {
        "id": "Nk1mZ5eU_hw4",
        "outputId": "9ea09966-764f-4555-c4d9-d4886b53f73f",
        "colab": {
          "base_uri": "https://localhost:8080/",
          "height": 34
        }
      },
      "source": [
        "Exponentiation = 2**10\n",
        "print(Exponentiation)"
      ],
      "execution_count": 17,
      "outputs": [
        {
          "output_type": "stream",
          "text": [
            "1024\n"
          ],
          "name": "stdout"
        }
      ]
    },
    {
      "cell_type": "markdown",
      "metadata": {
        "id": "jNGj9m1A_-To"
      },
      "source": [
        "# **True Division(/) vs Floor Division(//)**\n",
        "\n",
        "---\n",
        "\n"
      ]
    },
    {
      "cell_type": "code",
      "metadata": {
        "id": "QMhAEU3vAL8Y",
        "outputId": "636c8b23-dcbf-4c7d-e77b-e5f5158d7dda",
        "colab": {
          "base_uri": "https://localhost:8080/",
          "height": 34
        }
      },
      "source": [
        "True_Division = 7/4\n",
        "print(True_Division)"
      ],
      "execution_count": 18,
      "outputs": [
        {
          "output_type": "stream",
          "text": [
            "1.75\n"
          ],
          "name": "stdout"
        }
      ]
    },
    {
      "cell_type": "code",
      "metadata": {
        "id": "PyvZGhTBAp0Q",
        "outputId": "833357ff-9472-4e3d-bea7-3515f0e99769",
        "colab": {
          "base_uri": "https://localhost:8080/",
          "height": 34
        }
      },
      "source": [
        "Floor_Division = 7//4\n",
        "print(Floor_Division)"
      ],
      "execution_count": 20,
      "outputs": [
        {
          "output_type": "stream",
          "text": [
            "1\n"
          ],
          "name": "stdout"
        }
      ]
    },
    {
      "cell_type": "code",
      "metadata": {
        "id": "S1ax2a8pA2xK",
        "outputId": "487fa752-7770-4be1-ed91-fdc32f07db14",
        "colab": {
          "base_uri": "https://localhost:8080/",
          "height": 34
        }
      },
      "source": [
        "remainder = 15%7\n",
        "print(remainder)"
      ],
      "execution_count": 21,
      "outputs": [
        {
          "output_type": "stream",
          "text": [
            "1\n"
          ],
          "name": "stdout"
        }
      ]
    },
    {
      "cell_type": "markdown",
      "metadata": {
        "id": "mDAUc-ibBATP"
      },
      "source": [
        "# **Relational Operations**\n",
        "\n",
        "---\n",
        "\n"
      ]
    },
    {
      "cell_type": "code",
      "metadata": {
        "id": "BtsNyZQyBM3Y"
      },
      "source": [
        "x = 105\n",
        "y = 100"
      ],
      "execution_count": 23,
      "outputs": []
    },
    {
      "cell_type": "code",
      "metadata": {
        "id": "3ypU5M_BBXeo",
        "outputId": "05ab91d7-294a-43cd-ee11-5559e07d0074",
        "colab": {
          "base_uri": "https://localhost:8080/",
          "height": 34
        }
      },
      "source": [
        "x>y"
      ],
      "execution_count": 24,
      "outputs": [
        {
          "output_type": "execute_result",
          "data": {
            "text/plain": [
              "True"
            ]
          },
          "metadata": {
            "tags": []
          },
          "execution_count": 24
        }
      ]
    },
    {
      "cell_type": "code",
      "metadata": {
        "id": "xvePhM7GBbQn",
        "outputId": "8bf4987f-242c-40c8-e9c3-120d501340e7",
        "colab": {
          "base_uri": "https://localhost:8080/",
          "height": 34
        }
      },
      "source": [
        "x<y"
      ],
      "execution_count": 25,
      "outputs": [
        {
          "output_type": "execute_result",
          "data": {
            "text/plain": [
              "False"
            ]
          },
          "metadata": {
            "tags": []
          },
          "execution_count": 25
        }
      ]
    },
    {
      "cell_type": "code",
      "metadata": {
        "id": "_AFQtApeBdc_",
        "outputId": "b5b4251b-a38d-40ed-d5de-a31a1a69125b",
        "colab": {
          "base_uri": "https://localhost:8080/",
          "height": 34
        }
      },
      "source": [
        "x==y"
      ],
      "execution_count": 26,
      "outputs": [
        {
          "output_type": "execute_result",
          "data": {
            "text/plain": [
              "False"
            ]
          },
          "metadata": {
            "tags": []
          },
          "execution_count": 26
        }
      ]
    },
    {
      "cell_type": "code",
      "metadata": {
        "id": "dTY8Qp0MBgln",
        "outputId": "55e76c19-356a-4a1e-f1b1-32dfd31dd9d4",
        "colab": {
          "base_uri": "https://localhost:8080/",
          "height": 34
        }
      },
      "source": [
        "x!=y"
      ],
      "execution_count": 28,
      "outputs": [
        {
          "output_type": "execute_result",
          "data": {
            "text/plain": [
              "True"
            ]
          },
          "metadata": {
            "tags": []
          },
          "execution_count": 28
        }
      ]
    },
    {
      "cell_type": "code",
      "metadata": {
        "id": "csM3WU3wBjup",
        "outputId": "982991c7-a6fc-4b44-932f-30f51cdf145b",
        "colab": {
          "base_uri": "https://localhost:8080/",
          "height": 34
        }
      },
      "source": [
        "x>=y"
      ],
      "execution_count": 29,
      "outputs": [
        {
          "output_type": "execute_result",
          "data": {
            "text/plain": [
              "True"
            ]
          },
          "metadata": {
            "tags": []
          },
          "execution_count": 29
        }
      ]
    },
    {
      "cell_type": "code",
      "metadata": {
        "id": "rRO_vF-bBm55",
        "outputId": "dc507c25-d0eb-4227-b683-adaa119691df",
        "colab": {
          "base_uri": "https://localhost:8080/",
          "height": 34
        }
      },
      "source": [
        "x<=y"
      ],
      "execution_count": 30,
      "outputs": [
        {
          "output_type": "execute_result",
          "data": {
            "text/plain": [
              "False"
            ]
          },
          "metadata": {
            "tags": []
          },
          "execution_count": 30
        }
      ]
    },
    {
      "cell_type": "markdown",
      "metadata": {
        "id": "LBREv1kOBv0X"
      },
      "source": [
        "# **Chaining Comparisons**\n",
        "\n",
        "---\n",
        "\n"
      ]
    },
    {
      "cell_type": "code",
      "metadata": {
        "id": "y06sskn5B2uQ"
      },
      "source": [
        "x =3\n",
        "y =10"
      ],
      "execution_count": null,
      "outputs": []
    },
    {
      "cell_type": "code",
      "metadata": {
        "id": "jGIa3nI-B6SP",
        "outputId": "fbef9510-a1c5-4219-83e3-a83944713cf7",
        "colab": {
          "base_uri": "https://localhost:8080/",
          "height": 34
        }
      },
      "source": [
        "1 <= x <= 5"
      ],
      "execution_count": 35,
      "outputs": [
        {
          "output_type": "execute_result",
          "data": {
            "text/plain": [
              "False"
            ]
          },
          "metadata": {
            "tags": []
          },
          "execution_count": 35
        }
      ]
    },
    {
      "cell_type": "code",
      "metadata": {
        "id": "pQPXbas-CDSA",
        "outputId": "1c360c6b-148e-40cf-e262-5431650600df",
        "colab": {
          "base_uri": "https://localhost:8080/",
          "height": 34
        }
      },
      "source": [
        "1 <= y <= 5"
      ],
      "execution_count": 32,
      "outputs": [
        {
          "output_type": "execute_result",
          "data": {
            "text/plain": [
              "False"
            ]
          },
          "metadata": {
            "tags": []
          },
          "execution_count": 32
        }
      ]
    },
    {
      "cell_type": "markdown",
      "metadata": {
        "id": "7i1s2k0lCWUb"
      },
      "source": [
        "#**Print Fuction**\n",
        "\n",
        "---\n",
        "\n"
      ]
    },
    {
      "cell_type": "markdown",
      "metadata": {
        "id": "_71aBgM_ClVR"
      },
      "source": [
        "***Printing a Comma- Separated List of items***"
      ]
    },
    {
      "cell_type": "code",
      "metadata": {
        "id": "ZKDXU9SCCVeR",
        "outputId": "cbfd8561-6ee1-4cae-9494-e7607c6c9c50",
        "colab": {
          "base_uri": "https://localhost:8080/",
          "height": 34
        }
      },
      "source": [
        "print('Welcome', 'to', 'Python!')"
      ],
      "execution_count": 36,
      "outputs": [
        {
          "output_type": "stream",
          "text": [
            "Welcome to Python!\n"
          ],
          "name": "stdout"
        }
      ]
    },
    {
      "cell_type": "markdown",
      "metadata": {
        "id": "gW-MTcgaC4tk"
      },
      "source": [
        "***Printing Many Lines of text with one Statement***"
      ]
    },
    {
      "cell_type": "code",
      "metadata": {
        "id": "iJr9OWhBDHoQ",
        "outputId": "4306598a-08bd-48cc-d9fa-adccb1d458f1",
        "colab": {
          "base_uri": "https://localhost:8080/",
          "height": 87
        }
      },
      "source": [
        "print('Welcome\\nto\\n\\nPython!')"
      ],
      "execution_count": 37,
      "outputs": [
        {
          "output_type": "stream",
          "text": [
            "Welcome\n",
            "to\n",
            "\n",
            "Python!\n"
          ],
          "name": "stdout"
        }
      ]
    },
    {
      "cell_type": "markdown",
      "metadata": {
        "id": "jOyyLe0ADTz4"
      },
      "source": [
        "***The following table shows some common escape sequences.***"
      ]
    },
    {
      "cell_type": "markdown",
      "metadata": {
        "id": "kO1L1aX8GZPS"
      },
      "source": [
        "# **Ignoring a line break in a long string**\n",
        "\n",
        "---\n",
        "\n"
      ]
    },
    {
      "cell_type": "code",
      "metadata": {
        "id": "fLFTvwi0GlaG",
        "outputId": "ff8cccc4-efc7-4998-879c-9d02f7554700",
        "colab": {
          "base_uri": "https://localhost:8080/",
          "height": 34
        }
      },
      "source": [
        "print('this is a longer string, so we \\ split it over two lines;')"
      ],
      "execution_count": 38,
      "outputs": [
        {
          "output_type": "stream",
          "text": [
            "this is a longer string, so we \\ split it over two lines;\n"
          ],
          "name": "stdout"
        }
      ]
    },
    {
      "cell_type": "markdown",
      "metadata": {
        "id": "_0I2vRnmGwHI"
      },
      "source": [
        "# **Printing the value of an Expression**\n",
        "\n",
        "---\n",
        "\n"
      ]
    },
    {
      "cell_type": "code",
      "metadata": {
        "id": "P28DstIdG1tf",
        "outputId": "9d877079-f1cb-48e3-c44a-fc7cb1a104f0",
        "colab": {
          "base_uri": "https://localhost:8080/",
          "height": 34
        }
      },
      "source": [
        "print('Sum is', 7+3)"
      ],
      "execution_count": 39,
      "outputs": [
        {
          "output_type": "stream",
          "text": [
            "Sum is 10\n"
          ],
          "name": "stdout"
        }
      ]
    },
    {
      "cell_type": "markdown",
      "metadata": {
        "id": "FZyl64ZTHgTS"
      },
      "source": [
        "# **What dose the following print statement display**\n",
        "\n",
        "---\n",
        "\n"
      ]
    },
    {
      "cell_type": "markdown",
      "metadata": {
        "id": "CtNx-MbaHpuQ"
      },
      "source": [
        "***print('int(5.2)','truncates 5.2 to',int(5.2))***"
      ]
    },
    {
      "cell_type": "code",
      "metadata": {
        "id": "m8Fa4rWIH-ef",
        "outputId": "70a204f2-0419-4405-e6bc-9ab55f77c6bc",
        "colab": {
          "base_uri": "https://localhost:8080/",
          "height": 34
        }
      },
      "source": [
        "print('int(5.2)','truncates 5.2 to',int(5.2))"
      ],
      "execution_count": 40,
      "outputs": [
        {
          "output_type": "stream",
          "text": [
            "int(5.2) truncates 5.2 to 5\n"
          ],
          "name": "stdout"
        }
      ]
    },
    {
      "cell_type": "markdown",
      "metadata": {
        "id": "seyKJZWJIJAo"
      },
      "source": [
        "***Including Wuotes in string***"
      ]
    },
    {
      "cell_type": "code",
      "metadata": {
        "id": "pLOks4c1IPHK",
        "outputId": "4a8beac2-8d0d-43a3-8fab-ae01fe1fc32d",
        "colab": {
          "base_uri": "https://localhost:8080/",
          "height": 34
        }
      },
      "source": [
        "print('Dispaly \"hi\" in quotes')"
      ],
      "execution_count": 3,
      "outputs": [
        {
          "output_type": "stream",
          "text": [
            "Dispaly \"hi\" in quotes\n"
          ],
          "name": "stdout"
        }
      ]
    },
    {
      "cell_type": "code",
      "metadata": {
        "id": "uuqPYJi_Ielg",
        "outputId": "ad5d60db-61eb-401b-bcb6-be06c67c0a02",
        "colab": {
          "base_uri": "https://localhost:8080/",
          "height": 0
        }
      },
      "source": [
        "print('Dispaly \\'hi\\' in quotes') #using the \\' escape sequence;"
      ],
      "execution_count": 4,
      "outputs": [
        {
          "output_type": "stream",
          "text": [
            "Dispaly 'hi' in quotes\n"
          ],
          "name": "stdout"
        }
      ]
    },
    {
      "cell_type": "code",
      "metadata": {
        "id": "15cXJYbzIsjI",
        "outputId": "614be20b-b18a-4bdd-ad34-7dbf7876ecf0",
        "colab": {
          "base_uri": "https://localhost:8080/",
          "height": 0
        }
      },
      "source": [
        "print(\"Dispaly the name 0' Brine\")"
      ],
      "execution_count": 5,
      "outputs": [
        {
          "output_type": "stream",
          "text": [
            "Dispaly the name 0' Brine\n"
          ],
          "name": "stdout"
        }
      ]
    },
    {
      "cell_type": "code",
      "metadata": {
        "id": "fcI1O_mJI3XY",
        "outputId": "33e6ff9b-4b2d-47f7-97d8-0468f80bdb31",
        "colab": {
          "base_uri": "https://localhost:8080/",
          "height": 0
        }
      },
      "source": [
        "print('Dispaly \\\"hi\\\" in quotes')"
      ],
      "execution_count": 6,
      "outputs": [
        {
          "output_type": "stream",
          "text": [
            "Dispaly \"hi\" in quotes\n"
          ],
          "name": "stdout"
        }
      ]
    },
    {
      "cell_type": "markdown",
      "metadata": {
        "id": "KBoieoDQJCiO"
      },
      "source": [
        "**avoid ' and \" use the template is triple quotes**"
      ]
    },
    {
      "cell_type": "code",
      "metadata": {
        "id": "JN0dV_IsJQpx",
        "outputId": "84ceb77e-7822-48c5-e5f5-77e46f00faa7",
        "colab": {
          "base_uri": "https://localhost:8080/",
          "height": 0
        }
      },
      "source": [
        "print(\"\"\"Dispaly \"hi\" and 'bye' in quotes\"\"\")"
      ],
      "execution_count": 9,
      "outputs": [
        {
          "output_type": "stream",
          "text": [
            "Dispaly \"hi\" and 'bye' in quotes\n"
          ],
          "name": "stdout"
        }
      ]
    },
    {
      "cell_type": "markdown",
      "metadata": {
        "id": "izLAq68mJr-q"
      },
      "source": [
        "***Multiline string***"
      ]
    },
    {
      "cell_type": "code",
      "metadata": {
        "id": "UpyxgHBtJxrQ"
      },
      "source": [
        "triple_quoted_string = \"\"\" This is a triple-quoted\n",
        "  string that spans two lines\"\"\""
      ],
      "execution_count": 10,
      "outputs": []
    },
    {
      "cell_type": "code",
      "metadata": {
        "id": "QB0GLk-0J-Ww",
        "outputId": "09bc20d0-6e20-43d3-a133-a062c7ada31a",
        "colab": {
          "base_uri": "https://localhost:8080/",
          "height": 0
        }
      },
      "source": [
        "print(triple_quoted_string)"
      ],
      "execution_count": 12,
      "outputs": [
        {
          "output_type": "stream",
          "text": [
            " This is a triple-quoted\n",
            "string that spans two lines\n"
          ],
          "name": "stdout"
        }
      ]
    },
    {
      "cell_type": "code",
      "metadata": {
        "id": "VLrIFLgeKH2b",
        "outputId": "5817582f-e184-49f6-c615-fc564a6328b9",
        "colab": {
          "base_uri": "https://localhost:8080/",
          "height": 0
        }
      },
      "source": [
        "triple_quoted_string"
      ],
      "execution_count": 13,
      "outputs": [
        {
          "output_type": "execute_result",
          "data": {
            "application/vnd.google.colaboratory.intrinsic+json": {
              "type": "string"
            },
            "text/plain": [
              "' This is a triple-quoted\\nstring that spans two lines'"
            ]
          },
          "metadata": {
            "tags": []
          },
          "execution_count": 13
        }
      ]
    },
    {
      "cell_type": "code",
      "metadata": {
        "id": "F5TQ_HW5KM6I",
        "outputId": "9fbc553b-6195-41be-c9e9-369abe194d49",
        "colab": {
          "base_uri": "https://localhost:8080/",
          "height": 0
        }
      },
      "source": [
        "print(\"\"\" This is a lengthy\n",
        "multiline string contining \n",
        "a few lines \\ \n",
        "of text\"\"\" )"
      ],
      "execution_count": 16,
      "outputs": [
        {
          "output_type": "stream",
          "text": [
            " This is a lengthy\n",
            "multiline string contining \n",
            "a few lines \\ \n",
            "of text\n"
          ],
          "name": "stdout"
        }
      ]
    },
    {
      "cell_type": "markdown",
      "metadata": {
        "id": "2bLU83-fKhKj"
      },
      "source": [
        "#**Precision Handling in Python**\n",
        "\n",
        "---\n",
        "\n"
      ]
    },
    {
      "cell_type": "code",
      "metadata": {
        "id": "KPcIoBofKpkv"
      },
      "source": [
        "a = 3.4536475856"
      ],
      "execution_count": 22,
      "outputs": []
    },
    {
      "cell_type": "code",
      "metadata": {
        "id": "7YJrv_3KKtY0",
        "outputId": "5874aa6a-4d02-4dbd-d39a-302e4d2c84c2",
        "colab": {
          "base_uri": "https://localhost:8080/",
          "height": 34
        }
      },
      "source": [
        "#using \"%\" to print value till 2 decimal places\n",
        "print(\"The value of number till 2 decimal place(using %) is : \",end=\"\")\n",
        "print('%.2f' %a)"
      ],
      "execution_count": 23,
      "outputs": [
        {
          "output_type": "stream",
          "text": [
            "The value of number till 2 decimal place(using %) is : 3.45\n"
          ],
          "name": "stdout"
        }
      ]
    },
    {
      "cell_type": "code",
      "metadata": {
        "id": "O3VkIGNyL2rx",
        "outputId": "faafa8e5-b666-4c38-ef06-d4f8e6e99662",
        "colab": {
          "base_uri": "https://localhost:8080/",
          "height": 34
        }
      },
      "source": [
        "#using \"%\" to print value till 4 decimal places\n",
        "print(\"The value of number till 4 decimal place(using %) is : \",end=\"\")\n",
        "print('%.4f' %a)"
      ],
      "execution_count": 24,
      "outputs": [
        {
          "output_type": "stream",
          "text": [
            "The value of number till 4 decimal place(using %) is : 3.4536\n"
          ],
          "name": "stdout"
        }
      ]
    },
    {
      "cell_type": "markdown",
      "metadata": {
        "id": "TitbGKaUL9ME"
      },
      "source": [
        "# **Getting Input from the user**\n",
        "\n",
        "---\n",
        "\n"
      ]
    },
    {
      "cell_type": "markdown",
      "metadata": {
        "id": "cKZsaYkRMJqf"
      },
      "source": [
        "***The built-in input function reqests and obtains users input:***"
      ]
    },
    {
      "cell_type": "code",
      "metadata": {
        "id": "zpYmkxYVL8V4"
      },
      "source": [
        "The built-in input function reqests and obtains users input:"
      ],
      "execution_count": null,
      "outputs": []
    },
    {
      "cell_type": "code",
      "metadata": {
        "id": "ZYUjL0ZgMgil",
        "outputId": "27d7e1d7-a625-44eb-b857-b21dd9b9a895",
        "colab": {
          "base_uri": "https://localhost:8080/",
          "height": 34
        }
      },
      "source": [
        "print(name)"
      ],
      "execution_count": 41,
      "outputs": [
        {
          "output_type": "stream",
          "text": [
            "Faruq\n"
          ],
          "name": "stdout"
        }
      ]
    },
    {
      "cell_type": "code",
      "metadata": {
        "id": "KwG4HvDBMldn",
        "outputId": "6590e79d-514d-4b4c-f451-3f9ab1d3c105",
        "colab": {
          "base_uri": "https://localhost:8080/",
          "height": 52
        }
      },
      "source": [
        "value1 = input('Enter first number: ')\n",
        "value2 = input('Enter second number: ')"
      ],
      "execution_count": 43,
      "outputs": [
        {
          "output_type": "stream",
          "text": [
            "Enter first number: 30\n",
            "Enter second number: 40\n"
          ],
          "name": "stdout"
        }
      ]
    },
    {
      "cell_type": "code",
      "metadata": {
        "id": "b0WaBkElM7TK",
        "outputId": "00301ff8-e1db-480f-ecc7-0f92b162e4d3",
        "colab": {
          "base_uri": "https://localhost:8080/",
          "height": 0
        }
      },
      "source": [
        "total = value1 + value2\n",
        "print(total)"
      ],
      "execution_count": 44,
      "outputs": [
        {
          "output_type": "stream",
          "text": [
            "3040\n"
          ],
          "name": "stdout"
        }
      ]
    },
    {
      "cell_type": "code",
      "metadata": {
        "id": "_hdefUe7NILQ",
        "outputId": "0e0804e1-84a9-4dab-94d6-6774f67a9241",
        "colab": {
          "base_uri": "https://localhost:8080/",
          "height": 0
        }
      },
      "source": [
        "type(total) #python takes input as a string we have to type cast the input"
      ],
      "execution_count": 45,
      "outputs": [
        {
          "output_type": "execute_result",
          "data": {
            "text/plain": [
              "str"
            ]
          },
          "metadata": {
            "tags": []
          },
          "execution_count": 45
        }
      ]
    },
    {
      "cell_type": "code",
      "metadata": {
        "id": "1pRXoaovOVXx",
        "outputId": "0304d32a-a33f-463b-f6ec-9fbef2441f4a",
        "colab": {
          "base_uri": "https://localhost:8080/",
          "height": 0
        }
      },
      "source": [
        "total = int(value1) + int (value2) # type custing to int format\n",
        "print(total)"
      ],
      "execution_count": 46,
      "outputs": [
        {
          "output_type": "stream",
          "text": [
            "70\n"
          ],
          "name": "stdout"
        }
      ]
    },
    {
      "cell_type": "markdown",
      "metadata": {
        "id": "s9hbSM_cOoNm"
      },
      "source": [
        "# **Getting an Integer from the user by casting the input format**\n",
        "\n",
        "---\n",
        "\n"
      ]
    },
    {
      "cell_type": "code",
      "metadata": {
        "id": "DZpJXEiHOxn4"
      },
      "source": [
        "another_value = int(input('Enter another integer: '))"
      ],
      "execution_count": null,
      "outputs": []
    },
    {
      "cell_type": "code",
      "metadata": {
        "id": "bi4l65AFO6ko"
      },
      "source": [
        "print(another_value)"
      ],
      "execution_count": null,
      "outputs": []
    },
    {
      "cell_type": "markdown",
      "metadata": {
        "id": "LfB466UgPGN4"
      },
      "source": [
        "# **Taking multiple input from the user**\n",
        "\n",
        "---\n",
        "\n"
      ]
    },
    {
      "cell_type": "code",
      "metadata": {
        "id": "Q6ycxb2-PRb1"
      },
      "source": [
        "a,b = input().split()"
      ],
      "execution_count": null,
      "outputs": []
    },
    {
      "cell_type": "code",
      "metadata": {
        "id": "8jrL9sK_PqZh"
      },
      "source": [
        "print(a,b)"
      ],
      "execution_count": null,
      "outputs": []
    },
    {
      "cell_type": "code",
      "metadata": {
        "id": "plj8hbnLPu_I"
      },
      "source": [
        "print(type(a))"
      ],
      "execution_count": null,
      "outputs": []
    },
    {
      "cell_type": "markdown",
      "metadata": {
        "id": "erfmZzuyPyZw"
      },
      "source": [
        "# **Solving Problem**\n",
        "\n",
        "---\n",
        "\n"
      ]
    },
    {
      "cell_type": "markdown",
      "metadata": {
        "id": "c1dV9upgP4Q9"
      },
      "source": [
        "***Determining the minimum and masimum with Built-in function min and max***"
      ]
    },
    {
      "cell_type": "code",
      "metadata": {
        "id": "YDQDUY64QChI"
      },
      "source": [
        "number1 = int(input('Enter first integer: '))\n",
        "number2 = int(input('Enter second integer: '))\n",
        "number3 = int(input('Enter third integer: '))"
      ],
      "execution_count": null,
      "outputs": []
    },
    {
      "cell_type": "code",
      "metadata": {
        "id": "Ml9hpYxIQS7_"
      },
      "source": [
        "min(number1,number2,number3)"
      ],
      "execution_count": null,
      "outputs": []
    },
    {
      "cell_type": "code",
      "metadata": {
        "id": "fKATKy17QZpY"
      },
      "source": [
        "max(number1,number2,number3)"
      ],
      "execution_count": null,
      "outputs": []
    },
    {
      "cell_type": "code",
      "metadata": {
        "id": "e-1xipsbQcFP"
      },
      "source": [
        ""
      ],
      "execution_count": null,
      "outputs": []
    },
    {
      "cell_type": "markdown",
      "metadata": {
        "id": "AMl5XYadTUEe"
      },
      "source": [
        "# **Exercise**\n",
        "\n",
        "---\n",
        "\n"
      ]
    },
    {
      "cell_type": "markdown",
      "metadata": {
        "id": "77rvNWc0Qogl"
      },
      "source": [
        "***Exercise***\n",
        "\n",
        "---\n",
        "\n"
      ]
    },
    {
      "cell_type": "code",
      "metadata": {
        "id": "_QANaS8BQsGC"
      },
      "source": [
        "x=2\n",
        "y=3"
      ],
      "execution_count": null,
      "outputs": []
    },
    {
      "cell_type": "code",
      "metadata": {
        "id": "BZRU1SdFS1SY"
      },
      "source": [
        "print('x =',x)"
      ],
      "execution_count": null,
      "outputs": []
    },
    {
      "cell_type": "code",
      "metadata": {
        "id": "w80x7VgkS5rg"
      },
      "source": [
        "print('Value of',x,'+',x,'is',(x+x))"
      ],
      "execution_count": null,
      "outputs": []
    },
    {
      "cell_type": "code",
      "metadata": {
        "id": "aHk7T9P9TDsY"
      },
      "source": [
        "print('x=')"
      ],
      "execution_count": null,
      "outputs": []
    },
    {
      "cell_type": "code",
      "metadata": {
        "id": "-NdUe30OTGYE"
      },
      "source": [
        "print((x+y),'=',(y+x))"
      ],
      "execution_count": null,
      "outputs": []
    }
  ]
}