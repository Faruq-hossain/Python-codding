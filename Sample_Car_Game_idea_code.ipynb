{
  "nbformat": 4,
  "nbformat_minor": 0,
  "metadata": {
    "colab": {
      "name": "Sample Car Game idea code.ipynb",
      "provenance": [],
      "authorship_tag": "ABX9TyMtWYoW1mzm3lZ9sZt76qr1",
      "include_colab_link": true
    },
    "kernelspec": {
      "name": "python3",
      "display_name": "Python 3"
    }
  },
  "cells": [
    {
      "cell_type": "markdown",
      "metadata": {
        "id": "view-in-github",
        "colab_type": "text"
      },
      "source": [
        "<a href=\"https://colab.research.google.com/github/Faruq-hossain/Python-codding/blob/master/Sample_Car_Game_idea_code.ipynb\" target=\"_parent\"><img src=\"https://colab.research.google.com/assets/colab-badge.svg\" alt=\"Open In Colab\"/></a>"
      ]
    },
    {
      "cell_type": "markdown",
      "metadata": {
        "id": "1mqHD8mdEUmC"
      },
      "source": [
        "**Sample car idea code**"
      ]
    },
    {
      "cell_type": "markdown",
      "metadata": {
        "id": "oSffz63lEdBw"
      },
      "source": [
        "this game doen not have a graphical user interface or gooy"
      ]
    },
    {
      "cell_type": "code",
      "metadata": {
        "colab": {
          "base_uri": "https://localhost:8080/"
        },
        "id": "lEYvZpFqEf33",
        "outputId": "09fc338f-c831-442b-8f6a-287e1c60dcdb"
      },
      "source": [
        "command = \"\"\n",
        "while command!= \"quit\":\n",
        "  command = input(\">\").lower()\n",
        "  if command == \"start\":\n",
        "    print(\"Car Started...\")\n",
        "  elif command == \"stop\":\n",
        "    print(\"Car Stopped...\")\n",
        "  elif command == \"help\":\n",
        "    print(\"\"\"\n",
        "    start- to start the car\n",
        "    stop - to stop the car\n",
        "    quit - to quit\n",
        "    \"\"\")\n",
        "  else:\n",
        "    print(\"Sorry, I don't understand!\")"
      ],
      "execution_count": 1,
      "outputs": [
        {
          "output_type": "stream",
          "text": [
            ">start\n",
            "Car Started...\n",
            ">stop\n",
            "Car Stopped...\n",
            ">help\n",
            "\n",
            "    start- to start the car\n",
            "    stop - to stop the car\n",
            "    quit - to quit\n",
            "    \n",
            ">quit\n",
            "Sorry, I don't understand!\n"
          ],
          "name": "stdout"
        }
      ]
    },
    {
      "cell_type": "markdown",
      "metadata": {
        "id": "CJR9d8KvEliL"
      },
      "source": [
        "now here we can see we run the program quit then show the \"**Sorry, I don't understand!\"** *now to to remove and just show quit dont show another message*"
      ]
    },
    {
      "cell_type": "code",
      "metadata": {
        "colab": {
          "base_uri": "https://localhost:8080/"
        },
        "id": "SgOUP-mjEstp",
        "outputId": "fbcd7d93-1341-4c4a-d443-462518cc123f"
      },
      "source": [
        "command = \"\"\n",
        "while command!= \"quit\":\n",
        "  command = input(\">\").lower()\n",
        "  if command == \"start\":\n",
        "    print(\"Car Started...\")\n",
        "  elif command == \"stop\":\n",
        "    print(\"Car Stopped...\")\n",
        "  elif command == \"help\":\n",
        "    print(\"\"\"\n",
        "    start- to start the car\n",
        "    stop - to stop the car\n",
        "    quit - to quit\n",
        "    \"\"\")\n",
        "  else:\n",
        "    print(\"Sorry, I don't understand!\")"
      ],
      "execution_count": 3,
      "outputs": [
        {
          "output_type": "stream",
          "text": [
            ">quit\n",
            "Sorry, I don't understand!\n"
          ],
          "name": "stdout"
        }
      ]
    },
    {
      "cell_type": "markdown",
      "metadata": {
        "id": "jK64N1jXE2zh"
      },
      "source": [
        "**now remove quit message **just change just before last else block and add another **elif command == \"quit\" break** this will so our problem but note that have kind of repated this expression in two places.the reality we dont really need this **while command!= \"quit\":** condition with **this if statement  well more accuratly with this elif we can jump out of this loop and terminate our program** so here use **while True:** this means **this block of code is going to get executed repeatedly,until we explicitly break out of it,**"
      ]
    },
    {
      "cell_type": "code",
      "metadata": {
        "colab": {
          "base_uri": "https://localhost:8080/"
        },
        "id": "VnPD5QQfE31B",
        "outputId": "21802cae-b80a-40bd-ec3e-a3d4af98b1cf"
      },
      "source": [
        "command = \"\"\n",
        "while True:\n",
        "  command = input(\">\").lower()\n",
        "  if command == \"start\":\n",
        "    print(\"Car Started...\")\n",
        "  elif command == \"stop\":\n",
        "    print(\"Car Stopped...\")\n",
        "  elif command == \"help\":\n",
        "    print(\"\"\"\n",
        "    start- to start the car\n",
        "    stop - to stop the car\n",
        "    quit - to quit\n",
        "    \"\"\")\n",
        "  elif command == \"quit\":\n",
        "    break\n",
        "  else:\n",
        "    print(\"Sorry, I don't understand!\")"
      ],
      "execution_count": 4,
      "outputs": [
        {
          "output_type": "stream",
          "text": [
            ">quit\n"
          ],
          "name": "stdout"
        }
      ]
    }
  ]
}