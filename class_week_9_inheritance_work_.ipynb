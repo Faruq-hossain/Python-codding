{
  "nbformat": 4,
  "nbformat_minor": 0,
  "metadata": {
    "colab": {
      "name": "class week-9 inheritance work .ipynb",
      "provenance": [],
      "authorship_tag": "ABX9TyN00bL+LavAxH4CFYGRtFoy",
      "include_colab_link": true
    },
    "kernelspec": {
      "name": "python3",
      "display_name": "Python 3"
    }
  },
  "cells": [
    {
      "cell_type": "markdown",
      "metadata": {
        "id": "view-in-github",
        "colab_type": "text"
      },
      "source": [
        "<a href=\"https://colab.research.google.com/github/Faruq-hossain/Python-codding/blob/master/class_week_9_inheritance_work_.ipynb\" target=\"_parent\"><img src=\"https://colab.research.google.com/assets/colab-badge.svg\" alt=\"Open In Colab\"/></a>"
      ]
    },
    {
      "cell_type": "markdown",
      "metadata": {
        "id": "GuagRtuuX1LR"
      },
      "source": [
        "#**create base calss**\n"
      ]
    },
    {
      "cell_type": "code",
      "metadata": {
        "id": "rONdIAsLUyh9"
      },
      "source": [
        "class Ball():\n",
        "  def __init__(self):\n",
        "    print(f'Ball created!')\n",
        "  \n",
        "  def who_am_i(self):\n",
        "    print(f'i am ball')"
      ],
      "execution_count": 1,
      "outputs": []
    },
    {
      "cell_type": "markdown",
      "metadata": {
        "id": "yldt4Yr7X7to"
      },
      "source": [
        "#**create a Child(football) class**"
      ]
    },
    {
      "cell_type": "code",
      "metadata": {
        "id": "qvJ9Nk5zX-9h"
      },
      "source": [
        "class Football(Ball):\n",
        "  def __init__(self):\n",
        "    #create instances of Ball\n",
        "    Ball.__init__(self)\n",
        "    print(f'football created!')"
      ],
      "execution_count": 2,
      "outputs": []
    },
    {
      "cell_type": "markdown",
      "metadata": {
        "id": "tKgehTIDYAwY"
      },
      "source": [
        "**create object**"
      ]
    },
    {
      "cell_type": "code",
      "metadata": {
        "colab": {
          "base_uri": "https://localhost:8080/"
        },
        "id": "3iuEjqx2YChg",
        "outputId": "bd1e3eda-a394-44fe-b304-ba41de1d0ead"
      },
      "source": [
        "myFootball = Football()"
      ],
      "execution_count": 3,
      "outputs": [
        {
          "output_type": "stream",
          "text": [
            "Ball created!\n",
            "football created!\n"
          ],
          "name": "stdout"
        }
      ]
    },
    {
      "cell_type": "markdown",
      "metadata": {
        "id": "P_Yx-ZG_YElQ"
      },
      "source": [
        "**call base method**"
      ]
    },
    {
      "cell_type": "code",
      "metadata": {
        "colab": {
          "base_uri": "https://localhost:8080/"
        },
        "id": "AmVl9BCKYGWw",
        "outputId": "268d7dda-ff73-45eb-97f9-3bdfd91c565f"
      },
      "source": [
        "myFootball.who_am_i()"
      ],
      "execution_count": 4,
      "outputs": [
        {
          "output_type": "stream",
          "text": [
            "i am ball\n"
          ],
          "name": "stdout"
        }
      ]
    },
    {
      "cell_type": "markdown",
      "metadata": {
        "id": "xFl9jC0qYIsY"
      },
      "source": [
        "#Use the super() Function**"
      ]
    },
    {
      "cell_type": "code",
      "metadata": {
        "id": "J6dRQoNtYIAP"
      },
      "source": [
        "class Football(Ball):\n",
        "  def __init__(self):\n",
        "    #create instances of Ball\n",
        "    super().__init__(self)\n",
        "    print(f'football created!')"
      ],
      "execution_count": 7,
      "outputs": []
    },
    {
      "cell_type": "markdown",
      "metadata": {
        "id": "SqoE29rnYMAI"
      },
      "source": [
        "**create object**"
      ]
    },
    {
      "cell_type": "code",
      "metadata": {
        "colab": {
          "base_uri": "https://localhost:8080/",
          "height": 273
        },
        "id": "hVXbZJhvYN7o",
        "outputId": "89fc3d5c-b73d-48af-a69e-e60b22aea631"
      },
      "source": [
        "myFootball = Football()"
      ],
      "execution_count": 9,
      "outputs": [
        {
          "output_type": "error",
          "ename": "TypeError",
          "evalue": "ignored",
          "traceback": [
            "\u001b[0;31m---------------------------------------------------------------------------\u001b[0m",
            "\u001b[0;31mTypeError\u001b[0m                                 Traceback (most recent call last)",
            "\u001b[0;32m<ipython-input-9-0d58930e6848>\u001b[0m in \u001b[0;36m<module>\u001b[0;34m()\u001b[0m\n\u001b[0;32m----> 1\u001b[0;31m \u001b[0mmyFootball\u001b[0m \u001b[0;34m=\u001b[0m \u001b[0mFootball\u001b[0m\u001b[0;34m(\u001b[0m\u001b[0;34m)\u001b[0m\u001b[0;34m\u001b[0m\u001b[0;34m\u001b[0m\u001b[0m\n\u001b[0m",
            "\u001b[0;32m<ipython-input-7-c114f80d60aa>\u001b[0m in \u001b[0;36m__init__\u001b[0;34m(self)\u001b[0m\n\u001b[1;32m      2\u001b[0m   \u001b[0;32mdef\u001b[0m \u001b[0m__init__\u001b[0m\u001b[0;34m(\u001b[0m\u001b[0mself\u001b[0m\u001b[0;34m)\u001b[0m\u001b[0;34m:\u001b[0m\u001b[0;34m\u001b[0m\u001b[0;34m\u001b[0m\u001b[0m\n\u001b[1;32m      3\u001b[0m     \u001b[0;31m#create instances of Ball\u001b[0m\u001b[0;34m\u001b[0m\u001b[0;34m\u001b[0m\u001b[0;34m\u001b[0m\u001b[0m\n\u001b[0;32m----> 4\u001b[0;31m     \u001b[0msuper\u001b[0m\u001b[0;34m(\u001b[0m\u001b[0;34m)\u001b[0m\u001b[0;34m.\u001b[0m\u001b[0m__init__\u001b[0m\u001b[0;34m(\u001b[0m\u001b[0mself\u001b[0m\u001b[0;34m)\u001b[0m\u001b[0;34m\u001b[0m\u001b[0;34m\u001b[0m\u001b[0m\n\u001b[0m\u001b[1;32m      5\u001b[0m     \u001b[0mprint\u001b[0m\u001b[0;34m(\u001b[0m\u001b[0;34mf'football created!'\u001b[0m\u001b[0;34m)\u001b[0m\u001b[0;34m\u001b[0m\u001b[0;34m\u001b[0m\u001b[0m\n",
            "\u001b[0;31mTypeError\u001b[0m: __init__() takes 1 positional argument but 2 were given"
          ]
        }
      ]
    },
    {
      "cell_type": "markdown",
      "metadata": {
        "id": "NO3Wmu0QYnrR"
      },
      "source": [
        "#overriding***"
      ]
    },
    {
      "cell_type": "code",
      "metadata": {
        "id": "kYY_ZfJOYpgQ"
      },
      "source": [
        "class Football(Ball):\n",
        "  def __init__(self):\n",
        "    #create instances of Ball\n",
        "    Ball.__init__(self)\n",
        "    print(f'football created!')\n",
        "  #overide base class method\n",
        "  def who_am_i(self):\n",
        "    print(f'i am football!')"
      ],
      "execution_count": 10,
      "outputs": []
    },
    {
      "cell_type": "markdown",
      "metadata": {
        "id": "S_iVytBqYrcY"
      },
      "source": [
        "**create object**"
      ]
    },
    {
      "cell_type": "code",
      "metadata": {
        "colab": {
          "base_uri": "https://localhost:8080/"
        },
        "id": "X1i7jjQdYtZI",
        "outputId": "2535fd47-4ee5-4fc0-c5b0-3000f4932431"
      },
      "source": [
        "myFootball = Football()\n",
        "#call overide method\n",
        "myFootball.who_am_i()"
      ],
      "execution_count": 11,
      "outputs": [
        {
          "output_type": "stream",
          "text": [
            "Ball created!\n",
            "football created!\n",
            "i am football!\n"
          ],
          "name": "stdout"
        }
      ]
    },
    {
      "cell_type": "markdown",
      "metadata": {
        "id": "UuZITpJQYvJQ"
      },
      "source": [
        "#add new method \n",
        "#overriding **bold text**"
      ]
    },
    {
      "cell_type": "code",
      "metadata": {
        "id": "UlflH4nkYzIY"
      },
      "source": [
        "class Football(Ball):\n",
        "  def __init__(self):\n",
        "    #create instances of Ball\n",
        "    Ball.__init__(self)\n",
        "    print(f'football created!')\n",
        "  #overide base class method\n",
        "  def who_am_i(self):\n",
        "    print(f'i am football!')\n",
        "  #new method\n",
        "  def play(self):\n",
        "    print(f'hey! i am ready for play!')"
      ],
      "execution_count": 12,
      "outputs": []
    },
    {
      "cell_type": "markdown",
      "metadata": {
        "id": "D5b9cyvnY1w5"
      },
      "source": [
        "**create object**"
      ]
    },
    {
      "cell_type": "code",
      "metadata": {
        "colab": {
          "base_uri": "https://localhost:8080/"
        },
        "id": "G13eRG7nY3s_",
        "outputId": "7df60076-c6ac-4c8d-b978-e06dbb859476"
      },
      "source": [
        "myFootball = Football()\n",
        "#call new method\n",
        "myFootball.play()"
      ],
      "execution_count": 13,
      "outputs": [
        {
          "output_type": "stream",
          "text": [
            "Ball created!\n",
            "football created!\n",
            "hey! i am ready for play!\n"
          ],
          "name": "stdout"
        }
      ]
    }
  ]
}