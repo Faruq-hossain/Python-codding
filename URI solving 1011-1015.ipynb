{
  "nbformat": 4,
  "nbformat_minor": 0,
  "metadata": {
    "colab": {
      "name": "Untitled1.ipynb",
      "provenance": [],
      "collapsed_sections": [],
      "authorship_tag": "ABX9TyMzCgJk7i8AIINDDvaccr4j",
      "include_colab_link": true
    },
    "kernelspec": {
      "name": "python3",
      "display_name": "Python 3"
    }
  },
  "cells": [
    {
      "cell_type": "markdown",
      "metadata": {
        "id": "view-in-github",
        "colab_type": "text"
      },
      "source": [
        "<a href=\"https://colab.research.google.com/github/Faruq-hossain/Python-codding/blob/master/URI%20solving%201011-1015.ipynb\" target=\"_parent\"><img src=\"https://colab.research.google.com/assets/colab-badge.svg\" alt=\"Open In Colab\"/></a>"
      ]
    },
    {
      "cell_type": "markdown",
      "metadata": {
        "id": "5xTpG_yXdGV9"
      },
      "source": [
        "# **Sphere 1011 URI**\n",
        "\n",
        "---\n",
        "\n"
      ]
    },
    {
      "cell_type": "code",
      "metadata": {
        "id": "uI6_-QBDdDU6",
        "outputId": "733a77fe-cc6a-4196-8eaf-5764a122ed60",
        "colab": {
          "base_uri": "https://localhost:8080/",
          "height": 52
        }
      },
      "source": [
        "r = int(input())\n",
        "pi = 3.14159\n",
        "sphere = (4/3)*pi*pow(r,3)\n",
        "print(\"VOLUME = %.3f\"%sphere)"
      ],
      "execution_count": 1,
      "outputs": [
        {
          "output_type": "stream",
          "text": [
            "3\n",
            "VOLUME = 113.097\n"
          ],
          "name": "stdout"
        }
      ]
    },
    {
      "cell_type": "markdown",
      "metadata": {
        "id": "x2aP12Thd6Xr"
      },
      "source": [
        "# **Area 1012 URI**\n",
        "\n",
        "---\n",
        "\n"
      ]
    },
    {
      "cell_type": "code",
      "metadata": {
        "id": "77Q122OSelob",
        "outputId": "4d2d81ee-d7ed-47fd-e851-1ef48a9e6a94",
        "colab": {
          "base_uri": "https://localhost:8080/",
          "height": 158
        }
      },
      "source": [
        "a = float(input())\n",
        "b = float(input())\n",
        "c = float(input())\n",
        "\n",
        "pi = 3.14159\n",
        "triangle = (c*a)/2\n",
        "circle = pi*pow(c,2)\n",
        "trapezium = ((a+b)/2)*c\n",
        "square = pow(b,2)\n",
        "rectangle = a * b\n",
        "\n",
        "print(\"TRIANGULO: %.3f\"%triangle)\n",
        "print(\"CIRCULO: %.3f\"%circle)\n",
        "print(\"TRAPEZIO: %.3f\"%trapezium)\n",
        "print(\"QUADRADO: %.3f\"%square)\n",
        "print(\"RETANGULO: %.3f\"%rectangle)\n"
      ],
      "execution_count": 11,
      "outputs": [
        {
          "output_type": "stream",
          "text": [
            "3.0\n",
            "4.0\n",
            "5.2\n",
            "TRIANGULO: 7.800\n",
            "CIRCULO: 84.949\n",
            "TRAPEZIO: 18.200\n",
            "QUADRADO: 16.000\n",
            "RETANGULO: 12.000\n"
          ],
          "name": "stdout"
        }
      ]
    },
    {
      "cell_type": "markdown",
      "metadata": {
        "id": "6KCZjWBe1ONv"
      },
      "source": [
        "# **The Greatest 1013 URI**\n",
        "\n",
        "---\n",
        "\n"
      ]
    },
    {
      "cell_type": "code",
      "metadata": {
        "id": "XahSDJkT1Vjy",
        "outputId": "91b5b5cf-a215-49c0-96bb-387d0e4ec3ac",
        "colab": {
          "base_uri": "https://localhost:8080/",
          "height": 52
        }
      },
      "source": [
        "a,b,c = map(int,input().split())\n",
        "\n",
        "great = ((a+b)+abs(a-b))/2\n",
        "fintgreat = ((great+c)+abs(b-c))/2\n",
        "print(\"%i eh o maior\"%fintgreat)"
      ],
      "execution_count": 16,
      "outputs": [
        {
          "output_type": "stream",
          "text": [
            "7 14 106\n",
            "106 eh o maior\n"
          ],
          "name": "stdout"
        }
      ]
    },
    {
      "cell_type": "markdown",
      "metadata": {
        "id": "ts1TbImn33K9"
      },
      "source": [
        "# **Consumption 1014 URI**\n",
        "\n",
        "---\n",
        "\n"
      ]
    },
    {
      "cell_type": "code",
      "metadata": {
        "id": "F2-sVg1g4XRq",
        "outputId": "deb8b29e-c3ce-4fe2-a995-b1347bf12add",
        "colab": {
          "base_uri": "https://localhost:8080/",
          "height": 70
        }
      },
      "source": [
        "km = int(input())\n",
        "lit = float(input())\n",
        "\n",
        "count = km/lit\n",
        "\n",
        "print(\"%.3f km/l\"%count)"
      ],
      "execution_count": 18,
      "outputs": [
        {
          "output_type": "stream",
          "text": [
            "500\n",
            "35.0\n",
            "14.286 km/l\n"
          ],
          "name": "stdout"
        }
      ]
    },
    {
      "cell_type": "markdown",
      "metadata": {
        "id": "bnv7OG0y5ZZz"
      },
      "source": [
        "# **Distance Between Two Points 1015 URI**\n",
        "\n",
        "---\n",
        "\n"
      ]
    },
    {
      "cell_type": "code",
      "metadata": {
        "id": "myBNfqBE5g7q",
        "outputId": "34298462-3f59-4b6e-8181-9910538e8dc4",
        "colab": {
          "base_uri": "https://localhost:8080/",
          "height": 70
        }
      },
      "source": [
        "import math as ma\n",
        "x1,y1 = map(float,input().split())\n",
        "x2,y2 = map(float,input().split())\n",
        "\n",
        "place_1 = x2-x1\n",
        "place_2 = y2-y1\n",
        "\n",
        "distance = ma.sqrt(pow(place_1,2)+pow(place_2,2))\n",
        "print(\"%.4f\"%distance)"
      ],
      "execution_count": 22,
      "outputs": [
        {
          "output_type": "stream",
          "text": [
            "1.0 7.0\n",
            "5.0 9.0\n",
            "4.4721\n"
          ],
          "name": "stdout"
        }
      ]
    }
  ]
}